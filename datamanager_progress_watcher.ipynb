{
 "cells": [
  {
   "cell_type": "markdown",
   "id": "fee02e41-a881-491a-842f-00c1f9fd47c0",
   "metadata": {
    "tags": []
   },
   "source": [
    "Watch DM progress"
   ]
  },
  {
   "cell_type": "code",
   "execution_count": 1,
   "id": "bf9ee080-91e2-46c9-823a-c95fcd8e669a",
   "metadata": {
    "tags": []
   },
   "outputs": [],
   "source": [
    "import os\n",
    "import time\n",
    "import numpy as np\n",
    "import xarray as xr\n",
    "result_dir = '/usr/scratch4/sima9999/work/modal_uq/uq_modal_beam/'\n",
    "path = os.path.join(result_dir, 'samples')"
   ]
  },
  {
   "cell_type": "code",
   "execution_count": 1,
   "id": "1db31bff-2a60-458f-9439-3c52e8e96af4",
   "metadata": {
    "tags": []
   },
   "outputs": [],
   "source": [
    "\n",
    "in_ds = xr.load_dataset(path + '/uq_modal_beam.nc')\n",
    "out_ds = xr.load_dataset(path + '/uq_modal_beam_out.nc')\n",
    "np.isnan(out_ds._runtimes.data)[0][0]"
   ]
  },
  {
   "cell_type": "code",
   "execution_count": null,
   "id": "b74bdcde-7c4d-40a6-9da7-e36c104ef88f",
   "metadata": {
    "tags": []
   },
   "outputs": [],
   "source": [
    "for i in range(3938021,7599653): # 3938021 is the first invalid # 3625888 is broken, is not broken?\n",
    "    if not i%250:\n",
    "        print('.', end='', flush=True)\n",
    "    jid = in_ds.ids[i].item()\n",
    "    res_dir = os.path.join(path,jid,f'{jid}_mechanical.npz')\n",
    "    arr = np.load(res_dir, allow_pickle=True)\n",
    "    assert arr['self.struct_parms'].item()['dy_tmd'] == in_ds['dD'][i].item()"
   ]
  },
  {
   "cell_type": "code",
   "execution_count": 34,
   "id": "682527b6-dc62-424d-92fe-61d490a6c7fe",
   "metadata": {
    "tags": []
   },
   "outputs": [
    {
     "data": {
      "text/plain": [
       "3938021"
      ]
     },
     "metadata": {},
     "output_type": "display_data"
    }
   ],
   "source": [
    "display(i)"
   ]
  },
  {
   "cell_type": "code",
   "execution_count": 38,
   "id": "ec06d3ea-6787-439a-a3e6-921061349411",
   "metadata": {
    "tags": []
   },
   "outputs": [
    {
     "name": "stdout",
     "output_type": "stream",
     "text": [
      "Mon Nov  7 09:21:49 2022\n",
      "Mon Nov  7 09:21:49 2022\n"
     ]
    }
   ],
   "source": [
    "jid = in_ds.ids[i].item()\n",
    "res_dir = os.path.join(path,jid,f'{jid}_mechanical.npz')\n",
    "print(time.ctime(os.stat(res_dir).st_mtime))\n",
    "print(time.ctime(os.stat(res_dir).st_ctime))"
   ]
  },
  {
   "cell_type": "markdown",
   "id": "d078db43-7b91-4a74-b678-23576150b23a",
   "metadata": {},
   "source": [
    "- 9,999,693 = 729 * 13,717 # total samples\n",
    "- 3,930,727 / 729 = 5,391.9 # last datamanager sample with runtime not nan -> start_ale=5390 is the last good sample when plotting in estimate_imp\n",
    "- 6,581,412 = 729 * 9,028 # last datamanager sample with results not nan\n",
    "- 3,938,021 / 729 = 5,401.9 # last sample, that progress watcher marks valid, probably the last 7294 samples were not saved into db -> it is bad when plotting in estimate_imp"
   ]
  },
  {
   "cell_type": "code",
   "execution_count": null,
   "id": "296e6f29-6f7c-433b-847e-1bc30ad80656",
   "metadata": {
    "tags": []
   },
   "outputs": [],
   "source": [
    "for ret_name in ['damp_freqs','zetas','frf']:\n",
    "    \n",
    "    if ret_name == 'frf':\n",
    "        # continue\n",
    "        inds = range(1025*2)\n",
    "    else:\n",
    "        # continue\n",
    "        inds = range(14)\n",
    "    all_times = []\n",
    "    all_dirs = []\n",
    "    all_progr = []\n",
    "    for ind in inds:\n",
    "        if ret_name == 'frf':\n",
    "            ret_ind = {'frequencies':ind//2, 'space':ind%2}\n",
    "            if not ind%2: continue\n",
    "        else:\n",
    "            ret_ind = {'modes':ind}\n",
    "            \n",
    "        ret_dir = f'{ret_name}-{\".\".join(str(e) for e in ret_ind.values())}'\n",
    "        fname = os.path.join(result_dir, 'estimations', f'{ret_dir}/polyuq_imp.npz')\n",
    "        # print(ret_dir)\n",
    "        if os.path.exists(fname):\n",
    "            all_times.append(os.stat(fname).st_mtime)\n",
    "            all_dirs.append(ret_dir)\n",
    "            try:\n",
    "                intp_err = np.load(fname)['self.intp_errors']\n",
    "            except:\n",
    "                all_progr.append(0)\n",
    "                continue\n",
    "            nan_ind = np.where(np.isnan(intp_err))[0]\n",
    "            if len(nan_ind):\n",
    "                all_progr.append(np.min(nan_ind))\n",
    "            else:\n",
    "                all_progr.append(len(intp_err))\n",
    "        else:\n",
    "            all_progr.append(0)\n",
    "            all_dirs.append(ret_dir)\n",
    "            all_times.append(0)\n",
    "    \n",
    "    display(f'finished: {np.sum(np.array(all_progr)==5390)}, not finished {np.sum(np.array(all_progr)!=5390)}')\n",
    "    for ret_time,ret_dir, progr in sorted(zip(all_times, all_dirs, all_progr)):\n",
    "        # if progr == 5390: continue\n",
    "        # if 1675933971.0 <= ret_time <= 1675934235.0 and progr==0: continue\n",
    "        print(f'{ret_dir} @ {progr} on {time.ctime(ret_time)} {ret_time}')"
   ]
  },
  {
   "cell_type": "code",
   "execution_count": 67,
   "id": "69307eda-2a4c-49be-a709-b333ee825249",
   "metadata": {},
   "outputs": [
    {
     "data": {
      "text/plain": [
       "True"
      ]
     },
     "execution_count": 67,
     "metadata": {},
     "output_type": "execute_result"
    }
   ],
   "source": [
    "ret_dir = 'frf-585.0'\n",
    "fname = os.path.join(result_dir, 'estimations', f'{ret_dir}/polyuq_imp.npz')\n",
    "os.stat(fname).st_mtime > 1675778682.0"
   ]
  },
  {
   "cell_type": "code",
   "execution_count": null,
   "id": "50b4d47a-a007-4ae9-b297-27f89ac9eccb",
   "metadata": {},
   "outputs": [],
   "source": [
    "ret_name = 'frf'\n",
    "for freq_ind in range(1025):\n",
    "    ret_ind = {'frequencies':freq_ind, 'space':0}\n",
    "    ret_dir = f'{ret_name}-{\".\".join(str(e) for e in ret_ind.values())}'\n",
    "    fname = os.path.join(result_dir, 'estimations', f'{ret_dir}/polyuq_imp.npz')\n",
    "    \n",
    "    if os.path.exists(fname):\n",
    "        if os.stat(fname).st_mtime < 1675932359.0:\n",
    "            os.rename(fname, fname + '.bak')\n",
    "        else:\n",
    "            \n",
    "            print(time.ctime(os.stat(fname).st_mtime))\n",
    "    else:\n",
    "        print(ret_dir)\n",
    "        f = open(fname,'wb')\n",
    "        f.close()"
   ]
  },
  {
   "cell_type": "code",
   "execution_count": 35,
   "id": "4f051137-b6a0-4346-bb24-d262cf240405",
   "metadata": {},
   "outputs": [
    {
     "name": "stdout",
     "output_type": "stream",
     "text": [
      "makalu110.rz.tu-ilmenau.de\n",
      "\n",
      "/usr/tmp/ray/session_latest/logs/worker-03b65e39fa97ab0b8ec613499b5a04695635df895695a39b1838347d-02000000-2830.out:INFO:uncertainty.polymorphic_uncertainty:Now loading previous results from  /usr/scratch4/sima9999/work/modal_uq/uq_modal_beam/estimations/frf-515.0/polyuq_imp.npz\n",
      "\n",
      "/usr/tmp/ray/session_latest/logs/worker-03b65e39fa97ab0b8ec613499b5a04695635df895695a39b1838347d-02000000-2830.out:INFO:uncertainty.polymorphic_uncertainty:Saving state of PolyUQ to /usr/scratch4/sima9999/work/modal_uq/uq_modal_beam/estimations/frf-515.0/polyuq_imp.npz. Make sure to store your variable definitions script externally...\n",
      "\n",
      "/usr/tmp/ray/session_latest/logs/worker-2b76a707f06ce590646cde609577cfdd3d87e8ac0c8caad8b860f4d5-02000000-3035.out:INFO:uncertainty.polymorphic_uncertainty:Now loading previous results from  /usr/scratch4/sima9999/work/modal_uq/uq_modal_beam/estimations/frf-525.0/polyuq_imp.npz\n",
      "\n",
      "/usr/tmp/ray/session_latest/logs/worker-2b76a707f06ce590646cde609577cfdd3d87e8ac0c8caad8b860f4d5-02000000-3035.out:INFO:uncertainty.polymorphic_uncertainty:Saving state of PolyUQ to /usr/scratch4/sima9999/work/modal_uq/uq_modal_beam/estimations/frf-525.0/polyuq_imp.npz. Make sure to store your variable definitions script externally...\n",
      "\n",
      "makalu113.rz.tu-ilmenau.de\n",
      "\n",
      "/usr/tmp/ray/session_latest/logs/worker-c693661b4d5fd78bca7f686446e32fa0cf09872b09c924b6f51c98f8-02000000-28508.out:INFO:uncertainty.polymorphic_uncertainty:Now loading previous results from  /usr/scratch4/sima9999/work/modal_uq/uq_modal_beam/estimations/frf-525.0/polyuq_prop.npz\n",
      "\n",
      "/usr/tmp/ray/session_latest/logs/worker-c693661b4d5fd78bca7f686446e32fa0cf09872b09c924b6f51c98f8-02000000-28508.out:INFO:uncertainty.polymorphic_uncertainty:Saving state of PolyUQ to /usr/scratch4/sima9999/work/modal_uq/uq_modal_beam/estimations/frf-525.0/polyuq_imp.npz. Make sure to store your variable definitions script externally...\n",
      "\n",
      "makalu119.rz.tu-ilmenau.de\n",
      "\n",
      "/usr/tmp/ray/session_latest/logs/worker-1d71a017f9ed3bf57d956bf6a4997c7f1f31b70989647e877af56856-02000000-1674.out:INFO:uncertainty.polymorphic_uncertainty:Now loading previous results from  /usr/scratch4/sima9999/work/modal_uq/uq_modal_beam/estimations/frf-541.0/polyuq_imp.npz\n",
      "\n",
      "/usr/tmp/ray/session_latest/logs/worker-1d71a017f9ed3bf57d956bf6a4997c7f1f31b70989647e877af56856-02000000-1674.out:INFO:uncertainty.polymorphic_uncertainty:Saving state of PolyUQ to /usr/scratch4/sima9999/work/modal_uq/uq_modal_beam/estimations/frf-541.0/polyuq_imp.npz. Make sure to store your variable definitions script externally...\n",
      "\n",
      "/usr/tmp/ray/session_latest/logs/worker-a692632c678cc25e5d71c8728d9faa0049a809fc1b932cf0cccea9e2-02000000-1745.out:INFO:uncertainty.polymorphic_uncertainty:Now loading previous results from  /usr/scratch4/sima9999/work/modal_uq/uq_modal_beam/estimations/frf-537.0/polyuq_imp.npz\n",
      "\n",
      "/usr/tmp/ray/session_latest/logs/worker-a692632c678cc25e5d71c8728d9faa0049a809fc1b932cf0cccea9e2-02000000-1745.out:INFO:uncertainty.polymorphic_uncertainty:Saving state of PolyUQ to /usr/scratch4/sima9999/work/modal_uq/uq_modal_beam/estimations/frf-537.0/polyuq_imp.npz. Make sure to store your variable definitions script externally...\n",
      "\n",
      "makalu122.rz.tu-ilmenau.de\n",
      "\n",
      "makalu134.rz.tu-ilmenau.de\n",
      "\n",
      "/usr/tmp/ray/session_latest/logs/worker-5d51864127d3ee4f840e65f5d3f5d42dbd9fc66e24917d7862d64a2c-02000000-10962.out:INFO:uncertainty.polymorphic_uncertainty:Now loading previous results from  /usr/scratch4/sima9999/work/modal_uq/uq_modal_beam/estimations/frf-539.0/polyuq_imp.npz\n",
      "\n",
      "makalu136.rz.tu-ilmenau.de\n",
      "\n",
      "/usr/tmp/ray/session_latest/logs/worker-950c453955cb79ec1e7b02975722690b4134a12fef1c9ee70502fd44-02000000-8165.out:INFO:uncertainty.polymorphic_uncertainty:Now loading previous results from  /usr/scratch4/sima9999/work/modal_uq/uq_modal_beam/estimations/frf-515.0/polyuq_imp.npz\n",
      "\n",
      "makalu139.rz.tu-ilmenau.de\n",
      "\n",
      "/usr/tmp/ray/session_latest/logs/worker-4802e528380b9be80020535988b0a8f64fa89a57b71715f6ea69e873-02000000-31644.out:INFO:uncertainty.polymorphic_uncertainty:Now loading previous results from  /usr/scratch4/sima9999/work/modal_uq/uq_modal_beam/estimations/frf-542.0/polyuq_imp.npz\n",
      "\n",
      "/usr/tmp/ray/session_latest/logs/worker-70f9f6795ab52e17b723760cb780ae8f909f39579281bcbb704760c7-02000000-32266.out:INFO:uncertainty.polymorphic_uncertainty:Now loading previous results from  /usr/scratch4/sima9999/work/modal_uq/uq_modal_beam/estimations/frf-525.0/polyuq_imp.npz\n",
      "\n",
      "makalu153.rz.tu-ilmenau.de\n",
      "\n",
      "makalu156.rz.tu-ilmenau.de\n",
      "\n",
      "makalu157.rz.tu-ilmenau.de\n",
      "\n",
      "/usr/tmp/ray/session_latest/logs/worker-1b0fa5100bef276f77697e624b96485b12091851abaaf36893171308-02000000-15291.out:INFO:uncertainty.polymorphic_uncertainty:Now loading previous results from  /usr/scratch4/sima9999/work/modal_uq/uq_modal_beam/estimations/frf-538.0/polyuq_imp.npz\n",
      "\n",
      "/usr/tmp/ray/session_latest/logs/worker-1b0fa5100bef276f77697e624b96485b12091851abaaf36893171308-02000000-15291.out:INFO:uncertainty.polymorphic_uncertainty:Saving state of PolyUQ to /usr/scratch4/sima9999/work/modal_uq/uq_modal_beam/estimations/frf-538.0/polyuq_imp.npz. Make sure to store your variable definitions script externally...\n",
      "\n",
      "/usr/tmp/ray/session_latest/logs/worker-defe5827989ea45219e02880f1890fcff2921a2f6a8bc0cc2758523c-02000000-15288.out:INFO:uncertainty.polymorphic_uncertainty:Now loading previous results from  /usr/scratch4/sima9999/work/modal_uq/uq_modal_beam/estimations/frf-542.0/polyuq_imp.npz\n",
      "\n",
      "/usr/tmp/ray/session_latest/logs/worker-defe5827989ea45219e02880f1890fcff2921a2f6a8bc0cc2758523c-02000000-15288.out:INFO:uncertainty.polymorphic_uncertainty:Saving state of PolyUQ to /usr/scratch4/sima9999/work/modal_uq/uq_modal_beam/estimations/frf-542.0/polyuq_imp.npz. Make sure to store your variable definitions script externally...\n",
      "\n",
      "makalu160.rz.tu-ilmenau.de\n",
      "\n",
      "/usr/tmp/ray/session_latest/logs/worker-f2feaf13c622fb9c616d5737caacb6cd9e6871849d6b23a62938e261-02000000-17141.out:INFO:uncertainty.polymorphic_uncertainty:Now loading previous results from  /usr/scratch4/sima9999/work/modal_uq/uq_modal_beam/estimations/frf-515.0/polyuq_prop.npz\n",
      "\n",
      "/usr/tmp/ray/session_latest/logs/worker-f2feaf13c622fb9c616d5737caacb6cd9e6871849d6b23a62938e261-02000000-17141.out:INFO:uncertainty.polymorphic_uncertainty:Saving state of PolyUQ to /usr/scratch4/sima9999/work/modal_uq/uq_modal_beam/estimations/frf-515.0/polyuq_imp.npz. Make sure to store your variable definitions script externally...\n",
      "\n",
      "/usr/tmp/ray/session_latest/logs/worker-fee86842f3c3e508eaa9642896a0ca2efe670f22c4e8dbcc49c391c6-02000000-17140.out:INFO:uncertainty.polymorphic_uncertainty:Now loading previous results from  /usr/scratch4/sima9999/work/modal_uq/uq_modal_beam/estimations/frf-540.0/polyuq_imp.npz\n",
      "\n",
      "/usr/tmp/ray/session_latest/logs/worker-fee86842f3c3e508eaa9642896a0ca2efe670f22c4e8dbcc49c391c6-02000000-17140.out:INFO:uncertainty.polymorphic_uncertainty:Saving state of PolyUQ to /usr/scratch4/sima9999/work/modal_uq/uq_modal_beam/estimations/frf-540.0/polyuq_imp.npz. Make sure to store your variable definitions script externally...\n",
      "\n",
      "makalu161.rz.tu-ilmenau.de\n",
      "\n",
      "makalu163.rz.tu-ilmenau.de\n",
      "\n",
      "/usr/tmp/ray/session_latest/logs/worker-e4aa17200f60fe3a7e78e77c95cb3c99623a04326410963ab57942ea-02000000-12413.out:INFO:uncertainty.polymorphic_uncertainty:Now loading previous results from  /usr/scratch4/sima9999/work/modal_uq/uq_modal_beam/estimations/frf-538.0/polyuq_imp.npz\n",
      "\n",
      "makalu164.rz.tu-ilmenau.de\n",
      "\n",
      "/usr/tmp/ray/session_latest/logs/worker-432abd3882f2c0375de3abd1c0c32b311af2723a6742ec93249f7310-02000000-17685.out:INFO:uncertainty.polymorphic_uncertainty:Now loading previous results from  /usr/scratch4/sima9999/work/modal_uq/uq_modal_beam/estimations/frf-540.0/polyuq_imp.npz\n",
      "\n",
      "makalu168.rz.tu-ilmenau.de\n",
      "\n",
      "makalu170.rz.tu-ilmenau.de\n",
      "\n",
      "/usr/tmp/ray/session_latest/logs/worker-399bb537b697497e121ffda6e31d6d8a31962113a922911431ebb5b9-02000000-25396.out:INFO:uncertainty.polymorphic_uncertainty:Now loading previous results from  /usr/scratch4/sima9999/work/modal_uq/uq_modal_beam/estimations/frf-539.0/polyuq_imp.npz\n",
      "\n",
      "/usr/tmp/ray/session_latest/logs/worker-399bb537b697497e121ffda6e31d6d8a31962113a922911431ebb5b9-02000000-25396.out:INFO:uncertainty.polymorphic_uncertainty:Saving state of PolyUQ to /usr/scratch4/sima9999/work/modal_uq/uq_modal_beam/estimations/frf-539.0/polyuq_imp.npz. Make sure to store your variable definitions script externally...\n",
      "\n",
      "makalu176.rz.tu-ilmenau.de\n",
      "\n",
      "makalu179.rz.tu-ilmenau.de\n",
      "\n",
      "/usr/tmp/ray/session_latest/logs/worker-f1af0f04ded1996b535a6db7e37ab19deb0b156cd77a73c216d6e27e-02000000-11885.out:INFO:uncertainty.polymorphic_uncertainty:Now loading previous results from  /usr/scratch4/sima9999/work/modal_uq/uq_modal_beam/estimations/frf-536.0/polyuq_imp.npz\n",
      "\n",
      "/usr/tmp/ray/session_latest/logs/worker-f1af0f04ded1996b535a6db7e37ab19deb0b156cd77a73c216d6e27e-02000000-11885.out:INFO:uncertainty.polymorphic_uncertainty:Saving state of PolyUQ to /usr/scratch4/sima9999/work/modal_uq/uq_modal_beam/estimations/frf-536.0/polyuq_imp.npz. Make sure to store your variable definitions script externally...\n",
      "\n",
      "makalu180.rz.tu-ilmenau.de\n",
      "\n",
      "/usr/tmp/ray/session_latest/logs/worker-f87d6edcef24051969a064d080d9e314371715bad81b4d0171356c6e-02000000-7914.out:INFO:uncertainty.polymorphic_uncertainty:Now loading previous results from  /usr/scratch4/sima9999/work/modal_uq/uq_modal_beam/estimations/frf-536.0/polyuq_imp.npz\n",
      "\n",
      "makalu186.rz.tu-ilmenau.de\n",
      "\n",
      "makalu192.rz.tu-ilmenau.de\n",
      "\n",
      "/usr/tmp/ray/session_latest/logs/worker-1e4ea3faa27f103cf49a946010a8520b376d673a2ca8d1361de9fe4d-02000000-12922.out:INFO:uncertainty.polymorphic_uncertainty:Now loading previous results from  /usr/scratch4/sima9999/work/modal_uq/uq_modal_beam/estimations/frf-537.0/polyuq_imp.npz\n",
      "\n"
     ]
    }
   ],
   "source": [
    "with open('/usr/scratch4/sima9999/output.log') as f:\n",
    "    _line=''\n",
    "    for line in f:\n",
    "        if line==_line: continue\n",
    "        \n",
    "        if 'makalu' in line or 'frf-515' in line or 'frf-525' in line or 'frf-536' in line or 'frf-537' in line or 'frf-538' in line or 'frf-539' in line or 'frf-540' in line or 'frf-541' in line or 'frf-542' in line:\n",
    "            print(line)\n",
    "        _line = line\n",
    "    \n",
    "\n",
    "\n"
   ]
  },
  {
   "cell_type": "code",
   "execution_count": null,
   "id": "fe2fb8b3-57a6-45c1-bfba-b94ec492d9ef",
   "metadata": {},
   "outputs": [],
   "source": []
  }
 ],
 "metadata": {
  "kernelspec": {
   "display_name": "Python 3 (ipykernel)",
   "language": "python",
   "name": "python3"
  },
  "language_info": {
   "codemirror_mode": {
    "name": "ipython",
    "version": 3
   },
   "file_extension": ".py",
   "mimetype": "text/x-python",
   "name": "python",
   "nbconvert_exporter": "python",
   "pygments_lexer": "ipython3",
   "version": "3.10.8"
  }
 },
 "nbformat": 4,
 "nbformat_minor": 5
}
