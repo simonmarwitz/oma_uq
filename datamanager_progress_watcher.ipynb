{
 "cells": [
  {
   "cell_type": "markdown",
   "id": "fee02e41-a881-491a-842f-00c1f9fd47c0",
   "metadata": {
    "tags": []
   },
   "source": [
    "Watch DM progress"
   ]
  },
  {
   "cell_type": "code",
   "execution_count": 1,
   "id": "bf9ee080-91e2-46c9-823a-c95fcd8e669a",
   "metadata": {
    "tags": []
   },
   "outputs": [],
   "source": [
    "import os\n",
    "import time\n",
    "import numpy as np\n",
    "import xarray as xr\n",
    "result_dir = '/usr/scratch4/sima9999/work/modal_uq/uq_modal_beam/'\n",
    "path = os.path.join(result_dir, 'samples')\n",
    "in_ds = xr.load_dataset(path + '/uq_modal_beam.nc')\n",
    "out_ds = xr.load_dataset(path+'uq_modal_beam_out.nc')"
   ]
  },
  {
   "cell_type": "code",
   "execution_count": 1,
   "id": "1db31bff-2a60-458f-9439-3c52e8e96af4",
   "metadata": {
    "tags": []
   },
   "outputs": [],
   "source": [
    "np.isnan(out_ds._runtimes.data)[0][0]"
   ]
  },
  {
   "cell_type": "code",
   "execution_count": 21,
   "id": "b74bdcde-7c4d-40a6-9da7-e36c104ef88f",
   "metadata": {
    "tags": []
   },
   "outputs": [
    {
     "name": "stdout",
     "output_type": "stream",
     "text": [
      "............"
     ]
    },
    {
     "ename": "KeyboardInterrupt",
     "evalue": "",
     "output_type": "error",
     "traceback": [
      "\u001b[0;31m---------------------------------------------------------------------------\u001b[0m",
      "\u001b[0;31mKeyboardInterrupt\u001b[0m                         Traceback (most recent call last)",
      "Input \u001b[0;32mIn [21]\u001b[0m, in \u001b[0;36m<cell line: 1>\u001b[0;34m()\u001b[0m\n\u001b[1;32m      4\u001b[0m jid \u001b[38;5;241m=\u001b[39m in_ds\u001b[38;5;241m.\u001b[39mids[i]\u001b[38;5;241m.\u001b[39mitem()\n\u001b[1;32m      5\u001b[0m res_dir \u001b[38;5;241m=\u001b[39m os\u001b[38;5;241m.\u001b[39mpath\u001b[38;5;241m.\u001b[39mjoin(path,jid,\u001b[38;5;124mf\u001b[39m\u001b[38;5;124m'\u001b[39m\u001b[38;5;132;01m{\u001b[39;00mjid\u001b[38;5;132;01m}\u001b[39;00m\u001b[38;5;124m_mechanical.npz\u001b[39m\u001b[38;5;124m'\u001b[39m)\n\u001b[0;32m----> 6\u001b[0m arr \u001b[38;5;241m=\u001b[39m \u001b[43mnp\u001b[49m\u001b[38;5;241;43m.\u001b[39;49m\u001b[43mload\u001b[49m\u001b[43m(\u001b[49m\u001b[43mres_dir\u001b[49m\u001b[43m,\u001b[49m\u001b[43m \u001b[49m\u001b[43mallow_pickle\u001b[49m\u001b[38;5;241;43m=\u001b[39;49m\u001b[38;5;28;43;01mTrue\u001b[39;49;00m\u001b[43m)\u001b[49m\n\u001b[1;32m      7\u001b[0m \u001b[38;5;28;01massert\u001b[39;00m arr[\u001b[38;5;124m'\u001b[39m\u001b[38;5;124mself.struct_parms\u001b[39m\u001b[38;5;124m'\u001b[39m]\u001b[38;5;241m.\u001b[39mitem()[\u001b[38;5;124m'\u001b[39m\u001b[38;5;124mdy_tmd\u001b[39m\u001b[38;5;124m'\u001b[39m] \u001b[38;5;241m==\u001b[39m in_ds[\u001b[38;5;124m'\u001b[39m\u001b[38;5;124mdD\u001b[39m\u001b[38;5;124m'\u001b[39m][i]\u001b[38;5;241m.\u001b[39mitem()\n",
      "File \u001b[0;32m~/python/lib/python3.10/site-packages/numpy/lib/npyio.py:412\u001b[0m, in \u001b[0;36mload\u001b[0;34m(file, mmap_mode, allow_pickle, fix_imports, encoding, max_header_size)\u001b[0m\n\u001b[1;32m    410\u001b[0m _ZIP_SUFFIX \u001b[38;5;241m=\u001b[39m \u001b[38;5;124mb\u001b[39m\u001b[38;5;124m'\u001b[39m\u001b[38;5;124mPK\u001b[39m\u001b[38;5;130;01m\\x05\u001b[39;00m\u001b[38;5;130;01m\\x06\u001b[39;00m\u001b[38;5;124m'\u001b[39m \u001b[38;5;66;03m# empty zip files start with this\u001b[39;00m\n\u001b[1;32m    411\u001b[0m N \u001b[38;5;241m=\u001b[39m \u001b[38;5;28mlen\u001b[39m(\u001b[38;5;28mformat\u001b[39m\u001b[38;5;241m.\u001b[39mMAGIC_PREFIX)\n\u001b[0;32m--> 412\u001b[0m magic \u001b[38;5;241m=\u001b[39m \u001b[43mfid\u001b[49m\u001b[38;5;241;43m.\u001b[39;49m\u001b[43mread\u001b[49m\u001b[43m(\u001b[49m\u001b[43mN\u001b[49m\u001b[43m)\u001b[49m\n\u001b[1;32m    413\u001b[0m \u001b[38;5;66;03m# If the file size is less than N, we need to make sure not\u001b[39;00m\n\u001b[1;32m    414\u001b[0m \u001b[38;5;66;03m# to seek past the beginning of the file\u001b[39;00m\n\u001b[1;32m    415\u001b[0m fid\u001b[38;5;241m.\u001b[39mseek(\u001b[38;5;241m-\u001b[39m\u001b[38;5;28mmin\u001b[39m(N, \u001b[38;5;28mlen\u001b[39m(magic)), \u001b[38;5;241m1\u001b[39m)  \u001b[38;5;66;03m# back-up\u001b[39;00m\n",
      "\u001b[0;31mKeyboardInterrupt\u001b[0m: "
     ]
    }
   ],
   "source": [
    "for i in range(3625887,7599653): # 3938021 is the first invalid # 3625888 is broken, is not broken?\n",
    "    if not i%250:\n",
    "        print('.', end='', flush=True)\n",
    "    jid = in_ds.ids[i].item()\n",
    "    res_dir = os.path.join(path,jid,f'{jid}_mechanical.npz')\n",
    "    arr = np.load(res_dir, allow_pickle=True)\n",
    "    assert arr['self.struct_parms'].item()['dy_tmd'] == in_ds['dD'][i].item()"
   ]
  },
  {
   "cell_type": "code",
   "execution_count": 19,
   "id": "682527b6-dc62-424d-92fe-61d490a6c7fe",
   "metadata": {
    "tags": []
   },
   "outputs": [
    {
     "data": {
      "text/plain": [
       "3625888"
      ]
     },
     "metadata": {},
     "output_type": "display_data"
    }
   ],
   "source": [
    "display(i)"
   ]
  },
  {
   "cell_type": "code",
   "execution_count": 17,
   "id": "ec06d3ea-6787-439a-a3e6-921061349411",
   "metadata": {
    "tags": []
   },
   "outputs": [
    {
     "name": "stdout",
     "output_type": "stream",
     "text": [
      "Thu Nov 17 15:58:04 2022\n",
      "Thu Nov 17 15:58:04 2022\n"
     ]
    }
   ],
   "source": [
    "jid = in_ds.ids[3929311].item()\n",
    "res_dir = os.path.join(path,jid,f'{jid}_mechanical.npz')\n",
    "print(time.ctime(os.stat(res_dir).st_mtime))\n",
    "print(time.ctime(os.stat(res_dir).st_ctime))"
   ]
  },
  {
   "cell_type": "markdown",
   "id": "d078db43-7b91-4a74-b678-23576150b23a",
   "metadata": {},
   "source": [
    "9,999,693 = 729 * 13,717 # total samples\n",
    "3,930,727 / 729 = 5,391.9 # last datamanager sample with runtime not nan -> start_ale=5390 is the last good sample when plotting in estimate_imp\n",
    "6,581,412 = 729 * 9,028 # last datamanager sample with results not nan\n",
    "3,938,021 / 729 = 5,401.9 # last sample, that progress watcher marks valid, probably that last chunk wasn't saved into db -> that is bad when plotting in estimate_imp"
   ]
  }
 ],
 "metadata": {
  "kernelspec": {
   "display_name": "Python 3 (ipykernel)",
   "language": "python",
   "name": "python3"
  },
  "language_info": {
   "codemirror_mode": {
    "name": "ipython",
    "version": 3
   },
   "file_extension": ".py",
   "mimetype": "text/x-python",
   "name": "python",
   "nbconvert_exporter": "python",
   "pygments_lexer": "ipython3",
   "version": "3.10.8"
  }
 },
 "nbformat": 4,
 "nbformat_minor": 5
}
