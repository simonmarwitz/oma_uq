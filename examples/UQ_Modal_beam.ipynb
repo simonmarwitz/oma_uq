{
 "cells": [
  {
   "cell_type": "code",
   "execution_count": 75,
   "id": "8c5fdd9c-88a3-4c06-a63f-57fd9deeb3a2",
   "metadata": {},
   "outputs": [
    {
     "name": "stdout",
     "output_type": "stream",
     "text": [
      "The autoreload extension is already loaded. To reload it, use:\n",
      "  %reload_ext autoreload\n"
     ]
    }
   ],
   "source": [
    "%matplotlib widget\n",
    "%load_ext autoreload\n",
    "%autoreload 2\n",
    "\n",
    "import sys\n",
    "import os\n",
    "sys.path.append(\"/usr/wrk/people9/sima9999/code/\")\n",
    "# sys.path.append(\"/vegas/users/staff/womo1998/Projects/2019_OMA_UQ/code/\")\n",
    "import numpy as np\n",
    "import zlib, zipfile\n",
    "import pyansys\n",
    "from model.mechanical import Mechanical, MechanicalDummy\n",
    "sys.path.append('/home/sima9999/git/PolyUQ/')\n",
    "from polymorphic_uncertainty import MassFunction, RandomVariable, PolyUQ, \\\n",
    "stat_fun_avg, stat_fun_cdf, stat_fun_ci, stat_fun_hist, stat_fun_lci, stat_fun_pdf, generate_histogram_bins, aggregate_mass\n",
    "import logging\n",
    "import psutil\n",
    "import time\n",
    "\n",
    "# a bug in jupyter / ipympl / matplotlib needs this here when using %maptlotlib widget\n",
    "# somehow rc_context is broken in that case\n",
    "matplotlib.rc('text.latex', preamble=r\"\\usepackage{siunitx}\\usepackage{xfrac}\")\n",
    "\n",
    "logger = logging.getLogger(__name__)\n",
    "logger.setLevel(level=logging.WARNING)\n",
    "\n",
    "logger_mech=logging.getLogger('model.mechanical')\n",
    "logger_mech.setLevel(level=logging.WARNING)\n",
    "\n",
    "global ansys\n",
    "\n",
    "from examples.UQ_Modal_Beam import *\n",
    "\n",
    "%aimport -sys -logging -matplotlib -matplotlib.pyplot -numpy -pandas - scipy.stats -scipy.stats.qmc -ray"
   ]
  },
  {
   "cell_type": "code",
   "execution_count": 3,
   "id": "785e4fb3-08c2-4d06-b21c-cf8e84891165",
   "metadata": {},
   "outputs": [],
   "source": [
    "import matplotlib\n",
    "import matplotlib.pyplot as plt\n",
    "np.set_printoptions(precision=6)#precision=2)\n",
    "\n",
    "from helpers import get_pcd \n",
    "print_context_dict = get_pcd('print')\n",
    "\n",
    "global ansys\n",
    "try:\n",
    "    print(ansys)\n",
    "except:\n",
    "    ansys=None"
   ]
  },
  {
   "cell_type": "code",
   "execution_count": 4,
   "id": "9e984891-59cc-445f-83ad-d0e05191eff7",
   "metadata": {},
   "outputs": [
    {
     "name": "stdout",
     "output_type": "stream",
     "text": [
      "WARNING:model.mechanical:(Re)started ANSYS in 1.33 s.\n"
     ]
    }
   ],
   "source": [
    "mech = Mechanical(ansys, wdir='/run/user/30980/')\n",
    "ansys=mech.ansys\n",
    "ansys.clear()"
   ]
  },
  {
   "cell_type": "code",
   "execution_count": 59,
   "id": "43e43918-70ee-4802-9878-03b64a04cd92",
   "metadata": {},
   "outputs": [
    {
     "name": "stdout",
     "output_type": "stream",
     "text": [
      "WARNING:model.mechanical:The number of modes 3 should be less/equal than 0.1 x number of nodes (= 4).\n",
      "WARNING:model.mechanical:Applying elementwise damping and global proportional at the same time. Not sure how ANSYS handles this.\n",
      "72029999.99999999 0\n",
      "1103500.0 6651.0\n"
     ]
    }
   ],
   "source": [
    "plt.close('all')\n",
    "n_nodes=3\n",
    "if True:\n",
    "    mech.example_rod(n_nodes, damping=(4.976,4.308e-4,True), num_modes=n_nodes-1)\n",
    "    fmax=50\n",
    "else:\n",
    "    mech.example_beam(n_nodes,damping=0.01, damp_mode=1, num_modes=n_nodes-1)\n",
    "    fmax = 1\n",
    "freq, damp, _ = mech.modal()\n",
    "\n",
    "in_node = n_nodes\n",
    "in_dof = 'uz'\n",
    "in_dof_ind = Mechanical.dofs_str_to_ind([in_dof])[0]\n",
    "\n",
    "out_node = in_node\n",
    "out_dof = in_dof\n",
    "out_dof_ind = Mechanical.dofs_str_to_ind([out_dof])[0]\n",
    "\n",
    "out_quant = 'd'\n",
    "# print(mech.modal(damped=False, use_cache=False)[0])\n",
    "# print(mech.modal(damped=True, use_cache=False)[0])"
   ]
  },
  {
   "cell_type": "code",
   "execution_count": 60,
   "id": "5a26d0c6-5c8b-40ab-b1a8-76b701f5d6b7",
   "metadata": {},
   "outputs": [],
   "source": [
    "omegas, frf_cl = mech.frequency_response(65536, in_node, in_dof, out_quant=out_quant, fmax=fmax)\n",
    "omegas, frf_nc, dof_ref = mech.frequency_response_non_classical(65536, in_node, in_dof, True, in_dof, fmax=fmax, out_quant=out_quant)\n",
    "omegas = omegas[:,0]"
   ]
  },
  {
   "cell_type": "code",
   "execution_count": 61,
   "id": "4cd75082-4614-4068-a274-17ddf623f0ac",
   "metadata": {},
   "outputs": [],
   "source": [
    "import scipy.sparse\n",
    "import scipy.sparse.linalg\n",
    "full_path = '/run/user/30980/file.full'\n",
    "full = pyansys.read_binary(full_path)\n",
    "# # TODO: Check, that Nodes and DOFS are in the same order in modeshapes and k,m\n",
    "\n",
    "\n",
    "if False:\n",
    "    dof_ref_, k, m, c = full.load_kmc(as_sparse=True, sort=False)\n",
    "    k += scipy.sparse.triu(k, 1).T\n",
    "    m += scipy.sparse.triu(m, 1).T\n",
    "    c += scipy.sparse.triu(c, 1).T\n",
    "    del full\n",
    "\n",
    "    mask1=k.getnnz(1)>0\n",
    "    mask2=k.getnnz(0)>0\n",
    "\n",
    "    k_ = k[mask1][:,mask2]\n",
    "    m_ = m[mask1][:,mask2]\n",
    "    c_ = c[mask1][:,mask2]\n",
    "\n",
    "    dof_ref_ = dof_ref_[mask1,:]\n",
    "else:\n",
    "    dof_ref_, k, m, c = full.load_kmc(as_sparse=False, sort=False)\n",
    "    k += np.triu(k, 1).T\n",
    "    m += np.triu(m, 1).T\n",
    "    c += np.triu(c, 1).T\n",
    "    \n",
    "    mask1 = ~np.all(k==0, axis=1)\n",
    "    mask2= ~np.all(k==0, axis=0)\n",
    "    dof_ref_ = dof_ref_[mask1,:]\n",
    "    k_ = k[mask2,:]\n",
    "    m_ = m[mask2,:]\n",
    "    c_ = c[mask2,:]\n",
    "    k_ = k_[:,mask1]\n",
    "    m_ = m_[:,mask1]\n",
    "    c_ = c_[:,mask1]"
   ]
  },
  {
   "cell_type": "code",
   "execution_count": 62,
   "id": "5833cb01-dd8c-42a6-9370-b5da27721236",
   "metadata": {
    "scrolled": true,
    "tags": []
   },
   "outputs": [],
   "source": [
    "all_z_inv_l=[]\n",
    "then = time.time()\n",
    "for omega in omegas:\n",
    "    z = k_ + 1j*omega*c_ - omega**2*m_\n",
    "    if isinstance(z, scipy.sparse.spmatrix):\n",
    "        z = z.todense()\n",
    "    z_inv = np.linalg.inv(z)\n",
    "    all_z_inv_l.append(z_inv)\n",
    "    now=time.time()\n",
    "    then=now\n",
    "all_z_inv = np.array(all_z_inv_l)"
   ]
  },
  {
   "cell_type": "code",
   "execution_count": 63,
   "id": "196313c7-8f58-451f-8379-372b25a078aa",
   "metadata": {},
   "outputs": [],
   "source": [
    "in_ind_z = np.logical_and(dof_ref_[:,0] == in_node, dof_ref_[:,1] == in_dof_ind)\n",
    "out_ind_z = np.logical_and(dof_ref_[:,0] == out_node, dof_ref_[:,1] == out_dof_ind)\n",
    "out_ind = mech.meas_nodes == out_node\n",
    "frfz = np.squeeze(all_z_inv[:, in_ind_z, out_ind_z])\n",
    "frfnc = np.squeeze(frf_nc[:, out_ind]) # choose output node\n",
    "frfcl = np.squeeze(frf_cl[:, out_ind]) # choose output node"
   ]
  },
  {
   "cell_type": "code",
   "execution_count": 64,
   "id": "de792421-6d9b-4377-8f4c-f8149c003035",
   "metadata": {},
   "outputs": [],
   "source": [
    "if out_quant == 'a':\n",
    "    frfz *=   -omegas**2\n",
    "elif out_quant == 'v':\n",
    "    frfz *= 1j*omegas\n",
    "elif out_quant == 'd':\n",
    "    ...\n",
    "else:\n",
    "    logger.warning(f'This output quantity is invalid: {out_quant}')"
   ]
  },
  {
   "cell_type": "code",
   "execution_count": 103,
   "id": "60b53e27-033a-4195-8297-0db21620a606",
   "metadata": {},
   "outputs": [
    {
     "data": {
      "application/vnd.jupyter.widget-view+json": {
       "model_id": "88794c299a7c465aab43e0a9ddf2df92",
       "version_major": 2,
       "version_minor": 0
      },
      "image/png": "[encoded data removed]",
      "text/html": [
       "\n",
       "            <div style=\"display: inline-block;\">\n",
       "                <div class=\"jupyter-widgets widget-label\" style=\"text-align: center;\">\n",
       "                    Figure\n",
       "                </div>\n",
       "                <img src='data:image/png;base64,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' width=590.6/>\n",
       "            </div>\n",
       "        "
      ],
      "text/plain": [
       "Canvas(toolbar=Toolbar(toolitems=[('Home', 'Reset original view', 'home', 'home'), ('Back', 'Back to previous …"
      ]
     },
     "metadata": {},
     "output_type": "display_data"
    }
   ],
   "source": [
    "with matplotlib.rc_context(get_pcd('print')):\n",
    "    fig,[ax1,ax2]=plt.subplots(2,1,gridspec_kw={'height_ratios':[3,1]}, sharex=True)\n",
    "\n",
    "    for f in freq:\n",
    "        ax1.axvline(f, c='lightgrey', ls='dashed')\n",
    "        ax2.axvline(f, c='lightgrey', ls='dashed')\n",
    "    # else:\n",
    "    #     ax1.axvline(f, c='lightgrey', ls='dashed', label='Natural Frequencies')\n",
    "    ax1.plot(omegas/2/np.pi, np.abs(frfz), color='k', label=\"Inverse Dynamic Stiffness\", ls='solid')\n",
    "    ax2.plot(omegas/2/np.pi, np.angle(frfz)/np.pi*180, color='k', ls='solid')\n",
    "    ax1.plot(omegas/2/np.pi, np.abs(frfcl), color='dimgrey', label='Modal Superposition', ls='dashed')\n",
    "    ax2.plot(omegas/2/np.pi,np.angle(frfcl)/np.pi*180, color='dimgrey', ls='dashed')\n",
    "    ax1.plot(omegas/2/np.pi, np.abs(frfnc), color='darkgrey', label='Non-classical Modal Superposition', ls='dotted')\n",
    "    ax2.plot(omegas/2/np.pi, np.angle(frfnc)/np.pi*180, color='darkgrey', ls='dotted')\n",
    "    ax1.set_yscale('log')\n",
    "    ax1.set_xlim((0,35))\n",
    "    ax1.legend(loc='upper right')\n",
    "    ax1.set_ylabel('Receptance $|\\mathcal{H}_\\mathrm{f-d}| [\\si{\\milli\\meter\\per\\\\newton}]$')\n",
    "    ax2.set_ylabel('$\\\\arg\\\\bigl(H_{f-d}\\\\bigr)$ [\\si{\\degree}]')\n",
    "    ax2.set_xlabel('Harmonic Excitation Frequency [\\si{\\hertz}]')\n",
    "\n",
    "    ax2.yaxis.set_major_locator(plt.MultipleLocator(90))\n",
    "    ax2.yaxis.set_minor_locator(plt.MultipleLocator(45))\n",
    "    fig.subplots_adjust(top=0.97,bottom=0.125, left=0.105, right=0.97, hspace=0.1)\n",
    "    plt.savefig('/usr/scratch4/sima9999/home/2019_OMA_UQ/tex/figures/modeling_realization/frf_non-classical_rod.pdf')\n",
    "    plt.savefig('/usr/scratch4/sima9999/home/2019_OMA_UQ/tex/figures/modeling_realization/frf_non-classical_rod.png')\n",
    "    plt.show()"
   ]
  },
  {
   "cell_type": "code",
   "execution_count": 30,
   "id": "fa0a1d6f-281f-470a-b0de-d177ec8eaa0d",
   "metadata": {},
   "outputs": [],
   "source": [
    "frfs_cl = []\n",
    "for mode in range(3):\n",
    "    omegas, frf_cl = mech.frequency_response(65536, in_node, in_dof, out_quant=out_quant, fmax=fmax, modes=[mode])\n",
    "    frfs_cl.append(frf_cl)\n",
    "omegas = omegas[:,0]"
   ]
  },
  {
   "cell_type": "code",
   "execution_count": 31,
   "id": "03014875-5187-4cf6-9fca-9b4effa8989b",
   "metadata": {},
   "outputs": [],
   "source": [
    "frfs_nc = []\n",
    "for mode in range(3):\n",
    "    omegas, frf_nc, dof_ref = mech.frequency_response_non_classical(65536, in_node, in_dof, True, in_dof, fmax=fmax, out_quant=out_quant, modes=[mode])\n",
    "    frfs_nc.append(frf_nc)\n",
    "omegas = omegas[:,0]"
   ]
  },
  {
   "cell_type": "code",
   "execution_count": 32,
   "id": "489817a1-d885-4ff3-9ece-430770a31870",
   "metadata": {},
   "outputs": [],
   "source": [
    "for mode in range(3):\n",
    "    frf_nc = frfs_nc[mode]\n",
    "    frf_cl = frfs_cl[mode]\n",
    "    frfnc = np.squeeze(frf_nc[:, out_ind]) # choose output node\n",
    "    frfcl = np.squeeze(frf_cl[:, out_ind]) # choose output node\n",
    "    ax1.plot(omegas/2/np.pi, np.abs(frfnc), color='lightgrey', ls='dotted')\n",
    "    ax2.plot(omegas/2/np.pi, np.angle(frfnc)/np.pi*180, color='lightgrey', ls='dotted')\n",
    "    ax1.plot(omegas/2/np.pi, np.abs(frfcl), color='dimgrey', ls='dotted')\n",
    "    ax2.plot(omegas/2/np.pi,np.angle(frfcl)/np.pi*180, color='dimgrey', ls='dotted')"
   ]
  },
  {
   "cell_type": "code",
   "execution_count": null,
   "id": "70e52c24-b5a6-4bfd-be12-9896cc5759c8",
   "metadata": {},
   "outputs": [],
   "source": []
  },
  {
   "cell_type": "code",
   "execution_count": 13,
   "id": "ad2aedac-166e-4367-8d1a-6a9a09b0d3f3",
   "metadata": {
    "tags": []
   },
   "outputs": [],
   "source": [
    "ks, ms, cs = mech.export_ans_mats()"
   ]
  },
  {
   "cell_type": "code",
   "execution_count": 14,
   "id": "7a788614-8440-4463-a9fb-0a6631d27572",
   "metadata": {
    "tags": []
   },
   "outputs": [
    {
     "data": {
      "text/plain": [
       "array([ 5.60881 ,  6.508912, 15.230017])"
      ]
     },
     "metadata": {},
     "output_type": "display_data"
    },
    {
     "data": {
      "text/plain": [
       "array([0.150691, 0.108885, 0.04839 ])"
      ]
     },
     "metadata": {},
     "output_type": "display_data"
    },
    {
     "data": {
      "text/plain": [
       "array([ 5.60881 ,  6.508912, 15.230017])"
      ]
     },
     "metadata": {},
     "output_type": "display_data"
    },
    {
     "data": {
      "text/plain": [
       "array([0.150691, 0.108885, 0.04839 ])"
      ]
     },
     "metadata": {},
     "output_type": "display_data"
    },
    {
     "data": {
      "text/plain": [
       "array([ 5.60881 ,  6.508912, 15.230017])"
      ]
     },
     "metadata": {},
     "output_type": "display_data"
    },
    {
     "data": {
      "text/plain": [
       "array([0.150691, 0.108885, 0.04839 ])"
      ]
     },
     "metadata": {},
     "output_type": "display_data"
    },
    {
     "data": {
      "text/plain": [
       "<matplotlib.collections.PathCollection at 0x7fa369dd7970>"
      ]
     },
     "execution_count": 14,
     "metadata": {},
     "output_type": "execute_result"
    },
    {
     "data": {
      "application/vnd.jupyter.widget-view+json": {
       "model_id": "4333a1e76fab4fa3babe14465deb8025",
       "version_major": 2,
       "version_minor": 0
      },
      "image/png": "[encoded data removed]",
      "text/html": [
       "\n",
       "            <div style=\"display: inline-block;\">\n",
       "                <div class=\"jupyter-widgets widget-label\" style=\"text-align: center;\">\n",
       "                    Figure\n",
       "                </div>\n",
       "                <img src='data:image/png;base64,iVBORw0KGgoAAAANSUhEUgAAAoAAAAHgCAYAAAA10dzkAAAAOXRFWHRTb2Z0d2FyZQBNYXRwbG90bGliIHZlcnNpb24zLjYuMiwgaHR0cHM6Ly9tYXRwbG90bGliLm9yZy8o6BhiAAAACXBIWXMAAA9hAAAPYQGoP6dpAAAkAElEQVR4nO3de5DddX3/8ddmN9mNwK6Q4CbBJQmMYmIUYTNDEwl1RgkFi6a1JUhNaNWpcWwhiTqAgUHjkFSsihYTDJJOmYrGEbVUY0tw1GKJRkNCrU1JLUkWya65FHZDLpvLnt8fDPtzTbglIWd3P4/HzJnhfPdzznmfMwvnyee7e7amUqlUAgBAMYZUewAAAE4sAQgAUBgBCABQGAEIAFAYAQgAUBgBCABQGAEIAFAYAQgAUBgBCABQGAEIAFAYAQgAUBgBCABQGAEIAFAYAQgAUBgBCABQGAEIAFAYAQgAUBgBCABQGAEIAFAYAQgAUBgBCABQGAEIAFAYAQgAUBgBCABQGAEIAFAYAQgAUBgBCABQGAEIAFAYAQgAUBgBCABQGAEIAFAYAQgAUBgBCABQGAEIAFAYAQgAUBgBCABQGAEIAFAYAQgAUBgBCABQGAEIAFAYAQgAUBgBCABQGAEIAFAYAQgAUBgBCABQGAEIAFAYAQgAUBgBCABQGAEIAFAYAQgAUBgBCABQGAEIAFAYAQgAUBgBCABQGAEIAFAYAQgAUJi6ag8wkPX09GTr1q055ZRTUlNTU+1xAIAXoVKpZNeuXRkzZkyGDClzL0wAHoOtW7empaWl2mMAAEfh8ccfz6tf/epqj1EVAvAYnHLKKUme+QZqbGys8jQAwIvR1dWVlpaW3vfxEgnAY/Dsad/GxkYBCAADTMk/vlXmiW8AgIIJQACAwghAAIDCCEAAgMIIQACAwghAAIDCCEAAgMIIQACAwgjAfqRr34G0d+494tfaO/ema9+BEzwRADAYCcB+omvfgVy9fE1mfuknad++I51Xj8qvLx6Xznu/nq1P7c3ML/0kVy9fIwIBgGPmT8H1E7u7D2bn0/vz692PZdbf/1++0jk0ux4fnv2/2JDZj70iW3f/JslZ2d19MI0NQ6s9LgAwgAnAfmJ00/DcPfu1mfHdT+Q32ZvHhtbllUm+u2Fdnpq+Mo2nDc/dM76d0U3Dqz0qADDAOQXcj9R++Y0Z19Oe1O3Jo93PhN4pezempm5PxvW0p3boripPCAAMBnYA+5GWgwfz9baOfH/ziIzbWJ8kuWBjJbc+sDtvHbczwxpbqjwhADAY2AHsR/bPWpNNa6Zk3M/q+xwf97P6bFozJfvb2qo0GQAwmAjAfmT7Sa9K+5N78lT9SVn3tu5ccX1tvnTJxDxZf3Lan9yT7fWN1R4RABgEnALuJ9o79+bdd6/PkNbZaRp9ai5qmp/U1OTUd52XhSP/Ivu2dqTnH9ZlxQd+zy+CAADHxA5gP3FSfV1GnDwsPePPztJrLstr//D2XDz24px/xrlZ/tdvTc/4szPi5GE5qV6zAwDHpqZSqVSqPcRA1dXVlaampnR2dqax8dhPz3btO5Dd3QePuMPX3rk3J9XX+QxAADhGx/v9eyCyndSPNDYMfc7Ac9oXADhenAIGACiMAAQAKIwABAAojAAEACiMAAQAKIwABAAojAAEACiMAAQAKIwABAAojAAEACiMAAQAKIwABAAojAAEACiMAAQAKIwABAAojAAEACiMAAQAKIwABAAojAAEACiMAAQAKIwABAAojAAEACiMAAQAKIwABAAozIAJwCVLlmT8+PFpaGhIa2trHnzwwedc297enquuuirnnHNOhgwZkrlz5z7vfX/ta19LTU1NZsyYcXyHBgDohwZEAK5YsSJz587NggULsm7dukybNi2XXnpp2trajri+u7s7p59+ehYsWJBzzz33ee97y5Yt+chHPpJp06a9HKMDAPQ7AyIAP/vZz+Z973tf3v/+92fChAm57bbb0tLSkqVLlx5x/bhx4/L5z38+s2fPTlNT03Pe76FDh/Jnf/Zn+cQnPpGzzjrr5RofAKBf6fcBuH///qxduzbTp0/vc3z69Ol56KGHjum+Fy5cmNNPPz3ve9/7jul+AAAGkrpqD/BCduzYkUOHDqW5ubnP8ebm5nR0dBz1/f77v/977rrrrqxfv/5F36a7uzvd3d2917u6uo768QEAqqXf7wA+q6amps/1SqVy2LEXa9euXXnPe96TO++8MyNHjnzRt1u8eHGampp6Ly0tLUf1+AAA1dTvdwBHjhyZ2traw3b7tm3bdtiu4Iv1v//7v9m8eXMuv/zy3mM9PT1Jkrq6ujz66KM5++yzD7vdDTfckPnz5/de7+rqEoEAwIDT7wNw2LBhaW1tzapVq/JHf/RHvcdXrVqVd77znUd1n6973evyi1/8os+xG2+8Mbt27crnP//554y6+vr61NfXH9VjAgD0F/0+AJNk/vz5mTVrViZPnpwpU6Zk2bJlaWtry5w5c5I8szP3xBNP5O677+69zbM/2/f0009n+/btWb9+fYYNG5aJEyemoaEhkyZN6vMYr3zlK5PksOMAAIPNgAjAmTNnZufOnVm4cGHa29szadKkrFy5MmPHjk3yzAc//+5nAp533nm9/7x27drcc889GTt2bDZv3nwiRwcA6HdqKpVKpdpDDFRdXV1pampKZ2dnGhsbqz0OAPAieP8eQL8FDADA8SEAAQAKIwABAAojAAEACiMAAQAKIwABAAojAAEACiMAAQAKIwABAAojAAEACiMAAQAKIwABAAojAAEACiMAAQAKIwABAAojAAEACiMAAQAKIwABAAojAAEACiMAAQAKIwABAAojAAEACiMAAQAKIwABAAojAAEACiMAAQAKIwABAAojAAEACiMAAQAKIwABAAojAAEACiMAAQAKIwABAAojAAEACiMAAQAKIwABAAojAAEACiMAAQAKIwABAAojAAEACiMAAQAKIwABAAojAAEACiMAAQAKIwABAAojAAEACiMAAQAKIwABAAojAAEACiMAAQAKIwABAAojAAEACiMAAQAKIwABAAojAAEACjNgAnDJkiUZP358Ghoa0tramgcffPA517a3t+eqq67KOeeckyFDhmTu3LmHrbnzzjszbdq0nHrqqTn11FPztre9LWvWrHkZnwEAQP8wIAJwxYoVmTt3bhYsWJB169Zl2rRpufTSS9PW1nbE9d3d3Tn99NOzYMGCnHvuuUdc88Mf/jDvfve784Mf/CCrV6/OmWeemenTp+eJJ554OZ8KAEDV1VQqlUq1h3ghF1xwQc4///wsXbq099iECRMyY8aMLF68+Hlv+5a3vCVvetObcttttz3vukOHDuXUU0/N7bffntmzZ7+oubq6utLU1JTOzs40Nja+qNsAANXl/XsA7ADu378/a9euzfTp0/scnz59eh566KHj9jh79uzJgQMHctpppz3nmu7u7nR1dfW5AAAMNP0+AHfs2JFDhw6lubm5z/Hm5uZ0dHQct8e5/vrrc8YZZ+Rtb3vbc65ZvHhxmpqaei8tLS3H7fEBAE6Ufh+Az6qpqelzvVKpHHbsaN1666356le/mm9+85tpaGh4znU33HBDOjs7ey+PP/74cXl8AIATqa7aA7yQkSNHpra29rDdvm3bth22K3g0/vZv/zaLFi3KAw88kDe+8Y3Pu7a+vj719fXH/JgAANXU73cAhw0bltbW1qxatarP8VWrVmXq1KnHdN+f/vSn88lPfjL/8i//ksmTJx/TfQEADBT9fgcwSebPn59Zs2Zl8uTJmTJlSpYtW5a2trbMmTMnyTOnZp944oncfffdvbdZv359kuTpp5/O9u3bs379+gwbNiwTJ05M8sxp35tuuin33HNPxo0b17vDePLJJ+fkk08+sU8QAOAEGhAfA5M880HQt956a9rb2zNp0qR87nOfy0UXXZQk+fM///Ns3rw5P/zhD3vXH+nnA8eOHZvNmzcnScaNG5ctW7Yctubmm2/Oxz/+8Rc1k18jB4CBx/v3AArA/sg3EAAMPN6/B8DPAAIAcHwJQACAwghAAIDCCEAAgMIIQACAwghAAIDCCEAAgMIIQACAwghAAIDCCEAAgMIIQACAwghAAIDCCEAAgMIIQACAwghAAIDCCEAAgMIIQACAwghAAIDCCEAAgMIIQACAwghAAIDCCEAAgMIIQACAwghAAIDCCEAAgMIIQF6yrn0H0t6594hfa+/cm659B07wRADASyEAeUm69h3I1cvXZOaXfpL27TvSefWo/Pricem89+vZ+tTezPzST3L18jUiEAD6sbpqD8DAsrv7YHY+vT+/3v1YZv39/+UrnUOz6/Hh2f+LDZn92CuydfdvkpyV3d0H09gwtNrjAgBHIAB5SUY3Dc/ds1+bGd/9RH6TvXlsaF1emeS7G9blqekr03ja8Nw949sZ3TS82qMCAM/BKWBestovvzHjetqTuj15tPuZ0Dtl78bU1O3JuJ721A7dVeUJAYDnYweQl6zl4MF8va0j3988IuM21idJLthYya0P7M5bx+3MsMaWKk8IADwfO4C8ZPtnrcmmNVMy7mf1fY6P+1l9Nq2Zkv1tbVWaDAB4MQQgL9n2k16V9if35Kn6k7Lubd254vrafOmSiXmy/uS0P7kn2+sbqz0iAPA8nALmJWnv3Jt3370+Q1pnp2n0qbmoaX5SU5NT33VeFo78i+zb2pGef1iXFR/4Pb8IAgD9lB1AXpKT6usy4uRh6Rl/dpZec1le+4e35+KxF+f8M87N8r9+a3rGn50RJw/LSfX+3wIA+quaSqVSqfYQA1VXV1eamprS2dmZxsZyTnt27TuQ3d0Hj7jD1965NyfV1/kMQAD6rVLfv3+bbRpessaGoc8ZeE77AkD/5xQwAEBhBCAAQGEEIABAYQQgAEBhBCAAQGEEIABAYQQgAEBhBCAAQGEEIABAYQQgAEBhBCAAQGEEIABAYQQgAEBhBCAAQGEEIABAYQQgAEBhBCAAQGEGTAAuWbIk48ePT0NDQ1pbW/Pggw8+59r29vZcddVVOeecczJkyJDMnTv3iOvuvffeTJw4MfX19Zk4cWK+9a1vvUzTAwD0HwMiAFesWJG5c+dmwYIFWbduXaZNm5ZLL700bW1tR1zf3d2d008/PQsWLMi55557xDWrV6/OzJkzM2vWrDzyyCOZNWtWrrjiivz0pz99OZ8KAEDV1VQqlUq1h3ghF1xwQc4///wsXbq099iECRMyY8aMLF68+Hlv+5a3vCVvetObctttt/U5PnPmzHR1deV73/te77E/+IM/yKmnnpqvfvWrL2qurq6uNDU1pbOzM42NjS/+CQEAVeP9ewDsAO7fvz9r167N9OnT+xyfPn16HnrooaO+39WrVx92n5dccskx3ScAwEBQV+0BXsiOHTty6NChNDc39zne3Nycjo6Oo77fjo6Ol3yf3d3d6e7u7r3e1dV11I8PAFAt/X4H8Fk1NTV9rlcqlcOOvdz3uXjx4jQ1NfVeWlpajunxAQCqod8H4MiRI1NbW3vYzty2bdsO28F7KUaNGvWS7/OGG25IZ2dn7+Xxxx8/6scHAKiWfh+Aw4YNS2tra1atWtXn+KpVqzJ16tSjvt8pU6Ycdp/333//895nfX19Ghsb+1wAAAaafv8zgEkyf/78zJo1K5MnT86UKVOybNmytLW1Zc6cOUme2Zl74okncvfdd/feZv369UmSp59+Otu3b8/69eszbNiwTJw4MUly7bXX5qKLLsqnPvWpvPOd78w//dM/5YEHHsiPf/zjE/78AABOpAERgDNnzszOnTuzcOHCtLe3Z9KkSVm5cmXGjh2b5JkPfv7dzwQ877zzev957dq1ueeeezJ27Nhs3rw5STJ16tR87Wtfy4033pibbropZ599dlasWJELLrjghD0vAIBqGBCfA9hf+RwhABh4vH8PgJ8BBADg+BKAAACFEYAAAIURgAAAhRGAAACFEYAAAIURgAAAhRGAAACFEYAAAIURgAAAhRGAAACFEYAAAIURgAAAhRGAAACFEYAAAIURgAAAhRGAAACFEYAAAIURgAAAhRGAAACFEYAAAIURgAAAhRGAAACFEYAAAIURgAAAhRGAAACFEYAAAIURgAAAhRGAAACFEYAAAIURgAAAhRGAAACFEYAAAIURgAAAhRGAAACFEYAAAIURgAAAhRGAAACFEYAAAIURgAAAhRGAAACFEYAAAIURgAAAhRGAAACFEYAAAIURgAAAhRGAAACFEYAAAIURgAAAhRGAAACFEYAAAIURgAAAhRGAAACFEYAAAIURgAAAhRkwAbhkyZKMHz8+DQ0NaW1tzYMPPvi863/0ox+ltbU1DQ0NOeuss3LHHXcctua2227LOeeck+HDh6elpSXz5s3Lvn37Xq6nAADQLwyIAFyxYkXmzp2bBQsWZN26dZk2bVouvfTStLW1HXH9pk2bctlll2XatGlZt25dPvaxj+Waa67Jvffe27vmK1/5Sq6//vrcfPPN2bBhQ+66666sWLEiN9xww4l6WgAAVVFTqVQq1R7ihVxwwQU5//zzs3Tp0t5jEyZMyIwZM7J48eLD1l933XW57777smHDht5jc+bMySOPPJLVq1cnSf7qr/4qGzZsyPe///3eNR/+8IezZs2aF9xdfFZXV1eamprS2dmZxsbGo316AMAJ5P17AOwA7t+/P2vXrs306dP7HJ8+fXoeeuihI95m9erVh62/5JJL8vOf/zwHDhxIklx44YVZu3Zt1qxZkyR57LHHsnLlyrz97W9/GZ4FAED/UVftAV7Ijh07cujQoTQ3N/c53tzcnI6OjiPepqOj44jrDx48mB07dmT06NG58sors3379lx44YWpVCo5ePBgPvjBD+b6669/zlm6u7vT3d3de72rq+sYnhkAQHX0+x3AZ9XU1PS5XqlUDjv2Qut/+/gPf/jD3HLLLVmyZEkefvjhfPOb38x3vvOdfPKTn3zO+1y8eHGampp6Ly0tLUf7dAAAqqbf7wCOHDkytbW1h+32bdu27bBdvmeNGjXqiOvr6uoyYsSIJMlNN92UWbNm5f3vf3+S5A1veEN2796dv/zLv8yCBQsyZMjhbXzDDTdk/vz5vde7urpEIAAw4PT7HcBhw4altbU1q1at6nN81apVmTp16hFvM2XKlMPW33///Zk8eXKGDh2aJNmzZ89hkVdbW5tKpZLn+r2Y+vr6NDY29rkAAAw0/T4Ak2T+/Pn58pe/nOXLl2fDhg2ZN29e2traMmfOnCTP7MzNnj27d/2cOXOyZcuWzJ8/Pxs2bMjy5ctz11135SMf+UjvmssvvzxLly7N1772tWzatCmrVq3KTTfdlHe84x2pra094c8RAOBE6fengJNk5syZ2blzZxYuXJj29vZMmjQpK1euzNixY5Mk7e3tfT4TcPz48Vm5cmXmzZuXL37xixkzZky+8IUv5F3velfvmhtvvDE1NTW58cYb88QTT+T000/P5ZdfnltuueWEPz8AgBNpQHwOYH/lc4QAYODx/j1ATgEDAHD8CEAAgMIIQACAwghAAIDCCEAAgMIIQACAwghAAIDCCEAAgMIIQACAwghAAIDCCEAAgMIIQACAwghAAIDCCEAAgMIIQACAwghAAIDCCEAAgMIIQACAwghAAIDCCEAAgMIIQACAwghAAIDCCEAAgMIIQACAwghAAIDCCEAAgMIIQACAwghAAIDCCEAAgMIIQACAwghAAIDCCEAAgMIIQACAwghAAIDCCEAAgMIIQACAwghAAIDCCEAAgMIIQACAwghAAIDCCEAAgMIIQACAwghAAIDCCEAAgMIIQACAwghAAIDCCEAAgMIIQACAwghAAIDCCEAAgMIIQACAwghAAIDCCEAAgMIIQACAwghAAIDCDJgAXLJkScaPH5+Ghoa0trbmwQcffN71P/rRj9La2pqGhoacddZZueOOOw5b89RTT+VDH/pQRo8enYaGhkyYMCErV658uZ4CAEC/MCACcMWKFZk7d24WLFiQdevWZdq0abn00kvT1tZ2xPWbNm3KZZddlmnTpmXdunX52Mc+lmuuuSb33ntv75r9+/fn4osvzubNm/ONb3wjjz76aO68886cccYZJ+ppAQBURU2lUqlUe4gXcsEFF+T888/P0qVLe49NmDAhM2bMyOLFiw9bf9111+W+++7Lhg0beo/NmTMnjzzySFavXp0kueOOO/LpT386//3f/52hQ4ce1VxdXV1pampKZ2dnGhsbj+o+AIATy/v3ANgB3L9/f9auXZvp06f3OT59+vQ89NBDR7zN6tWrD1t/ySWX5Oc//3kOHDiQJLnvvvsyZcqUfOhDH0pzc3MmTZqURYsW5dChQ885S3d3d7q6uvpcAAAGmn4fgDt27MihQ4fS3Nzc53hzc3M6OjqOeJuOjo4jrj948GB27NiRJHnsscfyjW98I4cOHcrKlStz44035jOf+UxuueWW55xl8eLFaWpq6r20tLQc47MDADjx+n0APqumpqbP9UqlctixF1r/28d7enryqle9KsuWLUtra2uuvPLKLFiwoM9p5t91ww03pLOzs/fy+OOPH+3TAQComrpqD/BCRo4cmdra2sN2+7Zt23bYLt+zRo0adcT1dXV1GTFiRJJk9OjRGTp0aGpra3vXTJgwIR0dHdm/f3+GDRt22P3W19envr7+WJ8SAEBV9fsdwGHDhqW1tTWrVq3qc3zVqlWZOnXqEW8zZcqUw9bff//9mTx5cu8vfLz5zW/Or371q/T09PSu2bhxY0aPHn3E+AMAGCz6fQAmyfz58/PlL385y5cvz4YNGzJv3ry0tbVlzpw5SZ45NTt79uze9XPmzMmWLVsyf/78bNiwIcuXL89dd92Vj3zkI71rPvjBD2bnzp259tprs3Hjxnz3u9/NokWL8qEPfeiEPz8AgBOp358CTpKZM2dm586dWbhwYdrb2zNp0qSsXLkyY8eOTZK0t7f3+UzA8ePHZ+XKlZk3b16++MUvZsyYMfnCF76Qd73rXb1rWlpacv/992fevHl54xvfmDPOOCPXXnttrrvuuhP+/AAATqQB8TmA/ZXPEQKAgcf79wA5BQwAwPEjAAEACiMAAQAKIwABAAojAAEACiMAAQAKIwABAAojAAEACiMAAQAKIwABAAojAAEACiMAAQAKIwABAAojAAEACiMAAQAKIwABAAojAAEACiMAAQAKIwABAAojAAEACiMAAQAKIwABAAojAAEACiMAAQAKIwABAAojAAEACiMAAYB+oWvfgbR37j3i19o796Zr34ETPNHgJQABgKrr2ncgVy9fk5lf+knat+9I59Wj8uuLx6Xz3q9n61N7M/NLP8nVy9eIwOOkrtoDAADs7j6YnU/vz693P5ZZf/9/+Urn0Ox6fHj2/2JDZj/2imzd/ZskZ2V398E0Ngyt9rgDngAEAKpudNPw3D37tZnx3U/kN9mbx4bW5ZVJvrthXZ6avjKNpw3P3TO+ndFNw6s96qDgFDAA0C/UfvmNGdfTntTtyaPdz4TeKXs3pqZuT8b1tKd26K4qTzh42AEEAPqFloMH8/W2jnx/84iM21ifJLlgYyW3PrA7bx23M8MaW6o84eBhBxAA6Bf2z1qTTWumZNzP6vscH/ez+mxaMyX729qqNNngIwABgH5h+0mvSvuTe/JU/UlZ97buXHF9bb50ycQ8WX9y2p/ck+31jdUecdBwChgAqLr2zr15993rM6R1dppGn5qLmuYnNTU59V3nZeHIv8i+rR3p+Yd1WfGB3/OLIMeBHUAAoOpOqq/LiJOHpWf82Vl6zWV57R/enovHXpzzzzg3y//6rekZf3ZGnDwsJ9XbuzoeaiqVSqXaQwxUXV1daWpqSmdnZxobbUsDwLHo2ncgu7sPHnGHr71zb06qrzsunwHo/dspYACgn2hsGPqcgee07/HlFDAAQGEEIABAYQQgAEBhBCAAQGEEIABAYQQgAEBhBCAAQGEEIABAYQQgAEBh/CWQY/DsX9Hr6uqq8iQAwIv17Pt2yX8NVwAeg127diVJWlpaqjwJAPBS7dq1K01NTdUeoypqKiXn7zHq6enJ1q1bc8opp6Smpqba4xxRV1dXWlpa8vjjjxf7B6+rwet+4nnNq8PrXh1e92NTqVSya9eujBkzJkOGlPnTcHYAj8GQIUPy6le/utpjvCiNjY3+I1EFXvcTz2teHV736vC6H71Sd/6eVWb2AgAUTAACABRGAA5y9fX1ufnmm1NfX1/tUYridT/xvObV4XWvDq87x8ovgQAAFMYOIABAYQQgAEBhBCAAQGEEIABAYQTgIPXEE0/kPe95T0aMGJFXvOIVedOb3pS1a9dWe6xB7eDBg7nxxhszfvz4DB8+PGeddVYWLlyYnp6eao82qPzbv/1bLr/88owZMyY1NTX59re/3efrlUolH//4xzNmzJgMHz48b3nLW/LLX/6yOsMOIs/3uh84cCDXXXdd3vCGN+Skk07KmDFjMnv27GzdurV6Aw8CL/S9/ts+8IEPpKamJrfddtsJm4+BTQAOQk8++WTe/OY3Z+jQofne976X//qv/8pnPvOZvPKVr6z2aIPapz71qdxxxx25/fbbs2HDhtx666359Kc/nb/7u7+r9miDyu7du3Puuefm9ttvP+LXb7311nz2s5/N7bffnp/97GcZNWpULr744t6/3c3Reb7Xfc+ePXn44Ydz00035eGHH843v/nNbNy4Me94xzuqMOng8ULf68/69re/nZ/+9KcZM2bMCZqMQaHCoHPddddVLrzwwmqPUZy3v/3tlfe+9719jv3xH/9x5T3veU+VJhr8klS+9a1v9V7v6empjBo1qvI3f/M3vcf27dtXaWpqqtxxxx1VmHBw+t3X/UjWrFlTSVLZsmXLiRlqkHuu1/zXv/515Ywzzqj853/+Z2Xs2LGVz33ucyd8NgYmO4CD0H333ZfJkyfnT//0T/OqV70q5513Xu68885qjzXoXXjhhfn+97+fjRs3JkkeeeSR/PjHP85ll11W5cnKsWnTpnR0dGT69Om9x+rr6/P7v//7eeihh6o4WXk6OztTU1PjzMPLqKenJ7NmzcpHP/rRvP71r6/2OAwwddUegOPvsccey9KlSzN//vx87GMfy5o1a3LNNdekvr4+s2fPrvZ4g9Z1112Xzs7OvO51r0ttbW0OHTqUW265Je9+97urPVoxOjo6kiTNzc19jjc3N2fLli3VGKlI+/bty/XXX5+rrroqjY2N1R5n0PrUpz6Vurq6XHPNNdUehQFIAA5CPT09mTx5chYtWpQkOe+88/LLX/4yS5cuFYAvoxUrVuQf//Efc8899+T1r3991q9fn7lz52bMmDG5+uqrqz1eUWpqavpcr1Qqhx3j5XHgwIFceeWV6enpyZIlS6o9zqC1du3afP7zn8/DDz/se5uj4hTwIDR69OhMnDixz7EJEyakra2tShOV4aMf/Wiuv/76XHnllXnDG96QWbNmZd68eVm8eHG1RyvGqFGjkvz/ncBnbdu27bBdQY6/AwcO5IorrsimTZuyatUqu38vowcffDDbtm3LmWeembq6utTV1WXLli358Ic/nHHjxlV7PAYAATgIvfnNb86jjz7a59jGjRszduzYKk1Uhj179mTIkL7/StXW1voYmBNo/PjxGTVqVFatWtV7bP/+/fnRj36UqVOnVnGywe/Z+Puf//mfPPDAAxkxYkS1RxrUZs2alf/4j//I+vXrey9jxozJRz/60fzrv/5rtcdjAHAKeBCaN29epk6dmkWLFuWKK67ImjVrsmzZsixbtqzaow1ql19+eW655ZaceeaZef3rX59169bls5/9bN773vdWe7RB5emnn86vfvWr3uubNm3K+vXrc9ppp+XMM8/M3Llzs2jRorzmNa/Ja17zmixatCiveMUrctVVV1Vx6oHv+V73MWPG5E/+5E/y8MMP5zvf+U4OHTrUuwt72mmnZdiwYdUae0B7oe/1343soUOHZtSoUTnnnHNO9KgMRNX+NWReHv/8z/9cmTRpUqW+vr7yute9rrJs2bJqjzTodXV1Va699trKmWeeWWloaKicddZZlQULFlS6u7urPdqg8oMf/KCS5LDL1VdfXalUnvkomJtvvrkyatSoSn19feWiiy6q/OIXv6ju0IPA873umzZtOuLXklR+8IMfVHv0AeuFvtd/l4+B4aWoqVQqlRNanAAAVJWfAQQAKIwABAAojAAEACiMAAQAKIwABAAojAAEACiMAAQAKIwABAAojAAEACiMAAQAKIwABAAojAAEACiMAAQAKIwABAAojAAEACiMAAQAKIwABAAojAAEACiMAAQAKIwABAAojAAEACiMAAQAKIwABAAojAAEACiMAAQAKIwABAAojAAEACiMAAQAKIwABAAojAAEACiMAAQAKMz/A+a2mhmkmO0cAAAAAElFTkSuQmCC' width=640.0/>\n",
       "            </div>\n",
       "        "
      ],
      "text/plain": [
       "Canvas(toolbar=Toolbar(toolitems=[('Home', 'Reset original view', 'home', 'home'), ('Back', 'Back to previous …"
      ]
     },
     "metadata": {},
     "output_type": "display_data"
    }
   ],
   "source": [
    "import scipy\n",
    "plt.figure()\n",
    "o = np.zeros_like(k_)\n",
    "B = np.vstack([np.hstack([k_,o]),\n",
    "               np.hstack([o,-m_])])\n",
    "A = np.vstack([np.hstack([o,k_]),\n",
    "               np.hstack([k_,-c_])])\n",
    "w,v = scipy.linalg.eig(A,-B)\n",
    "f = np.imag(w)/2/np.pi\n",
    "zeta = -np.real(w)/np.abs(w)\n",
    "ind = np.argsort(f)\n",
    "f = f[ind]\n",
    "zeta = zeta[ind]\n",
    "display(f[f>0][:14])\n",
    "display(zeta[f>0][:14])\n",
    "plt.scatter(f[f>0][:14],zeta[f>0][:14], label='full 1', marker='x')\n",
    "\n",
    "B = np.vstack([np.hstack([c_,-m_]),np.hstack([-m_,o])])\n",
    "A= np.vstack([np.hstack([k_,o]),np.hstack([o,-m_])])\n",
    "w = scipy.linalg.eigvals(A,-B)\n",
    "f = np.imag(w)/2/np.pi\n",
    "zeta = -np.real(w)/np.abs(w)\n",
    "ind = np.argsort(f)\n",
    "f = f[ind]\n",
    "zeta = zeta[ind]\n",
    "display(f[f>0][:14])\n",
    "display(zeta[f>0][:14])\n",
    "plt.scatter(f[f>0][:14],zeta[f>0][:14], label='full 2', marker='+')\n",
    "\n",
    "# this method somehow yields results, that are slightly off, so I suppose they can not be trusted\n",
    "# \n",
    "os = np.zeros_like(ks)\n",
    "B = np.vstack([np.hstack([cs,-ms]),\n",
    "               np.hstack([-ms,os])])\n",
    "A = np.vstack([np.hstack([ks,os]),\n",
    "               np.hstack([os,-ms])])\n",
    "w = scipy.linalg.eigvals(A,-B)\n",
    "f = np.imag(w)/2/np.pi\n",
    "zeta = -np.real(w)/np.abs(w)\n",
    "ind = np.argsort(f)\n",
    "f = f[ind]\n",
    "zeta = zeta[ind]\n",
    "display(f[f>0][:14])\n",
    "display(zeta[f>0][:14])\n",
    "plt.scatter(f[f>0][:14],zeta[f>0][:14], label='export', marker='1')\n",
    "\n",
    "plt.scatter(freq, damp, label='ansys', marker='2') "
   ]
  },
  {
   "cell_type": "code",
   "execution_count": 125,
   "id": "963318f4-b154-468f-bf68-a814ed077a6b",
   "metadata": {
    "tags": []
   },
   "outputs": [
    {
     "data": {
      "text/plain": [
       "array([[-0.028-0.062j, -0.193-0.011j,  0.565-0.01j ],\n",
       "       [-0.047-0.093j, -0.266-0.006j, -0.809+0.008j],\n",
       "       [-0.89 -0.437j,  0.639+0.695j,  0.134+0.094j]])"
      ]
     },
     "metadata": {},
     "output_type": "display_data"
    },
    {
     "data": {
      "text/plain": [
       "array([ 5.609,  6.509, 15.23 ])"
      ]
     },
     "metadata": {},
     "output_type": "display_data"
    },
    {
     "data": {
      "text/plain": [
       "array([0.151, 0.109, 0.048])"
      ]
     },
     "metadata": {},
     "output_type": "display_data"
    },
    {
     "data": {
      "text/plain": [
       "array([ 1057.113+0.000e+00j,  2676.234+0.000e+00j, 17419.828-2.842e-14j])"
      ]
     },
     "metadata": {},
     "output_type": "display_data"
    },
    {
     "data": {
      "text/plain": [
       "array([[ -0.855 -1.903j,  -3.739 -0.216j,   4.28  -0.078j],\n",
       "       [ -1.444 -2.861j,  -5.14  -0.11j ,  -6.126 +0.059j],\n",
       "       [-27.385-13.44j ,  12.343+13.44j ,   1.014 +0.715j]])"
      ]
     },
     "metadata": {},
     "output_type": "display_data"
    }
   ],
   "source": [
    "# k_,c_,m_ = ks,cs,ms\n",
    "num_modes = 14\n",
    "o = np.zeros_like(k_)\n",
    "B = np.vstack([np.hstack([k_,o]),\n",
    "               np.hstack([o,-m_])])\n",
    "A = np.vstack([np.hstack([o,k_]),\n",
    "               np.hstack([k_,-c_])])\n",
    "# A = np.vstack([np.hstack([o,k_]),\n",
    "#                np.hstack([k_,o])])\n",
    "w,v = scipy.linalg.eig(A,-B)\n",
    "\n",
    "f = np.imag(w)/2/np.pi\n",
    "zeta = -np.real(w)/np.abs(w)\n",
    "\n",
    "ind = np.argsort(f)\n",
    "f = f[ind]\n",
    "ind2 = (f > 0)\n",
    "f = (f[ind2])[:num_modes]\n",
    "zeta = (zeta[ind][ind2])[:num_modes]\n",
    "\n",
    "v = (v[k_.shape[0]:, ind][:, ind2])[:,:num_modes]\n",
    "\n",
    "mu = np.diag(v.T @ m_ @ np.conj(v))\n",
    "display(v)\n",
    "for mode in range(len(mu)):\n",
    "    v[:, mode] /= np.sqrt(mu[mode])\n",
    "    \n",
    "display(f[:14])\n",
    "display(zeta[:14])\n",
    "display(mu[:14])\n",
    "np.set_printoptions(precision=3)\n",
    "display(v*1000)"
   ]
  },
  {
   "cell_type": "code",
   "execution_count": 116,
   "id": "c38e1d48-6588-46f1-bac2-4f4367843632",
   "metadata": {
    "tags": []
   },
   "outputs": [
    {
     "data": {
      "text/plain": [
       "array([9182.100896, 1754.068078, 1225.809877])"
      ]
     },
     "metadata": {},
     "output_type": "display_data"
    },
    {
     "data": {
      "text/plain": [
       "array([1., 1., 1.])"
      ]
     },
     "metadata": {},
     "output_type": "display_data"
    },
    {
     "data": {
      "text/plain": [
       "array([15.250749+0.j,  6.665663+0.j,  5.572264+0.j])"
      ]
     },
     "metadata": {},
     "output_type": "display_data"
    },
    {
     "data": {
      "text/plain": [
       "0.004279699394889907"
      ]
     },
     "metadata": {},
     "output_type": "display_data"
    }
   ],
   "source": [
    "this_k = k_\n",
    "this_m = m_\n",
    "w,v = scipy.linalg.eig(this_k, this_m)\n",
    "mu = np.diag(v.T @ this_m @ v)\n",
    "# display(mu)\n",
    "for mode in range(len(mu)):\n",
    "    v[:, mode] /= np.sqrt(mu[mode])\n",
    "kappa =  np.diag(v.T @ this_k @ v)\n",
    "mu = np.diag(v.T @ this_m @ v)\n",
    "display(kappa[:14],mu[:14], np.sqrt(w)[:14]/2/np.pi)\n",
    "np.set_printoptions(precision=2)\n",
    "display(v[0,0])"
   ]
  },
  {
   "cell_type": "code",
   "execution_count": 145,
   "id": "da8dedfb-63d4-4772-b664-7a30956690a0",
   "metadata": {},
   "outputs": [
    {
     "data": {
      "text/plain": [
       "array([-4.64+95.69j, -4.64-95.69j, -4.48+40.9j , -4.48-40.9j ,\n",
       "       -5.37+35.24j, -5.37-35.24j])"
      ]
     },
     "metadata": {},
     "output_type": "display_data"
    },
    {
     "data": {
      "text/plain": [
       "array([[-5.63e-01-5.24e-02j, -5.63e-01+5.24e-02j, -1.91e-01-3.40e-02j,\n",
       "        -1.91e-01+3.40e-02j, -1.68e-02-6.57e-02j, -1.68e-02+6.57e-02j],\n",
       "       [ 8.04e-01+8.19e-02j,  8.04e-01-8.19e-02j, -2.63e-01-3.72e-02j,\n",
       "        -2.63e-01+3.72e-02j, -3.03e-02-9.97e-02j, -3.03e-02+9.97e-02j],\n",
       "       [-1.23e-01-1.09e-01j, -1.23e-01+1.09e-01j,  5.52e-01+7.66e-01j,\n",
       "         5.52e-01-7.66e-01j, -8.02e-01-5.83e-01j, -8.02e-01+5.83e-01j],\n",
       "       [-2.63e-04+5.89e-03j, -2.63e-04-5.89e-03j, -3.17e-04+4.70e-03j,\n",
       "        -3.17e-04-4.70e-03j, -1.75e-03+7.44e-04j, -1.75e-03-7.44e-04j],\n",
       "       [ 4.48e-04-8.43e-03j,  4.48e-04+8.43e-03j, -2.01e-04+6.46e-03j,\n",
       "        -2.01e-04-6.46e-03j, -2.64e-03+1.26e-03j, -2.64e-03-1.26e-03j],\n",
       "       [-1.07e-03+1.33e-03j, -1.07e-03-1.33e-03j,  1.70e-02-1.54e-02j,\n",
       "         1.70e-02+1.54e-02j, -1.28e-02+2.47e-02j, -1.28e-02-2.47e-02j]])"
      ]
     },
     "metadata": {},
     "output_type": "display_data"
    },
    {
     "data": {
      "text/plain": [
       "array([35.24, 40.9 , 95.69])"
      ]
     },
     "metadata": {},
     "output_type": "display_data"
    },
    {
     "data": {
      "text/plain": [
       "array([0.15, 0.11, 0.05])"
      ]
     },
     "metadata": {},
     "output_type": "display_data"
    },
    {
     "data": {
      "text/plain": [
       "array([0.8318-5.5511e-17j, 1.5811-1.2875e-18j, 1.8979-9.1025e-20j])"
      ]
     },
     "metadata": {},
     "output_type": "display_data"
    },
    {
     "data": {
      "text/plain": [
       "array([[-0.1921+0.0816j, -0.0252+0.3737j, -0.0191+0.4277j],\n",
       "       [-0.2891+0.1384j, -0.016 +0.5139j,  0.0325-0.6118j],\n",
       "       [-1.4005+2.7101j,  1.3557-1.2214j, -0.0777+0.0967j]])"
      ]
     },
     "metadata": {},
     "output_type": "display_data"
    }
   ],
   "source": [
    "num_modes=14\n",
    "if isinstance(k_, scipy.sparse.spmatrix):\n",
    "    o = scipy.sparse.csc_matrix(k_.shape)\n",
    "    A = scipy.sparse.vstack([scipy.sparse.hstack([ o,  m_]),\n",
    "                   scipy.sparse.hstack([ m_, c_])])\n",
    "    B = scipy.sparse.vstack([scipy.sparse.hstack([-m_, o ]),\n",
    "                   scipy.sparse.hstack([ o,  k_])])\n",
    "    w,v = scipy.sparse.linalg.eigs(-B, num_modes, A,which='SI', sigma=1000j, OPpart='i')\n",
    "else:\n",
    "    o = np.zeros_like(k_)\n",
    "    A = np.vstack([np.hstack([ o,  m_]),\n",
    "                   np.hstack([ m_, c_])])\n",
    "    B = np.vstack([np.hstack([-m_, o ]),\n",
    "                   np.hstack([ o,  k_])])\n",
    "    w,v = scipy.linalg.eig(-B,A)\n",
    "mus = v[v.shape[0]//2:,:].T @ m_ @ np.conj(v[v.shape[0]//2:,:])\n",
    "np.set_printoptions(precision=2)\n",
    "display(w,v)\n",
    "f = np.imag(w)/2/np.pi\n",
    "zeta = -np.real(w)/np.abs(w)\n",
    "np.set_printoptions()\n",
    "ind = np.argsort(f)\n",
    "f = f[ind]\n",
    "ind2 = (f > 0)\n",
    "f = f[ind2][:num_modes]\n",
    "zeta = zeta[ind][ind2][:num_modes]\n",
    "phi = v[n_nodes:, ind][:, ind2][:,:num_modes]\n",
    "mus = np.diag(mus)[ind][ind2][:num_modes]\n",
    "display(f*2*np.pi, zeta)\n",
    "np.set_printoptions(precision=4)\n",
    "display(mus)\n",
    "for mode in range(len(mu)):\n",
    "    # pass\n",
    "    phi[:, mode] /= np.sqrt(mus[mode])\n",
    "display(phi*1e2)    "
   ]
  },
  {
   "cell_type": "code",
   "execution_count": 18,
   "id": "15753df4-5367-4a4d-a0d7-32e4168d5690",
   "metadata": {},
   "outputs": [
    {
     "data": {
      "text/plain": [
       "(-0.56239378-0.05249607j)"
      ]
     },
     "execution_count": 18,
     "metadata": {},
     "output_type": "execute_result"
    }
   ],
   "source": [
    "(-2.63e-04+5.89e-03j)*(-4.64+95.69j)"
   ]
  },
  {
   "cell_type": "code",
   "execution_count": 19,
   "id": "28d0da3c-322f-4501-9479-9c48650fd59b",
   "metadata": {},
   "outputs": [
    {
     "data": {
      "text/plain": [
       "array([[1.441e+08, -7.203e+07, 0],\n",
       "       [-7.203e+07, 7.313e+07, -1.104e+06],\n",
       "       [0, -1.104e+06, 1.104e+06]])"
      ]
     },
     "metadata": {},
     "output_type": "display_data"
    },
    {
     "data": {
      "text/plain": [
       "array([[1.96e+05, -3.103e+04, 0],\n",
       "       [-3.103e+04, 1.051e+05, -7126],\n",
       "       [0, -7126, 1.111e+04]])"
      ]
     },
     "metadata": {},
     "output_type": "display_data"
    },
    {
     "data": {
      "text/plain": [
       "array([[26925.500, 0.000, 0.000],\n",
       "       [0.000, 13462.750, 0.000],\n",
       "       [0.000, 0.000, 800.000]])"
      ]
     },
     "metadata": {},
     "output_type": "display_data"
    },
    {
     "data": {
      "text/plain": [
       "array([[-2.693e+04, -0, -0, 0, 0, 0],\n",
       "       [-0, -1.346e+04, -0, 0, 0, 0],\n",
       "       [-0, -0, -800, 0, 0, 0],\n",
       "       [0, 0, 0, 1.441e+08, -7.203e+07, 0],\n",
       "       [0, 0, 0, -7.203e+07, 7.313e+07, -1.104e+06],\n",
       "       [0, 0, 0, 0, -1.104e+06, 1.104e+06]])"
      ]
     },
     "metadata": {},
     "output_type": "display_data"
    },
    {
     "data": {
      "text/plain": [
       "array([[0, 0, 0, 2.693e+04, 0, 0],\n",
       "       [0, 0, 0, 0, 1.346e+04, 0],\n",
       "       [0, 0, 0, 0, 0, 800],\n",
       "       [2.693e+04, 0, 0, 1.96e+05, -3.103e+04, 0],\n",
       "       [0, 1.346e+04, 0, -3.103e+04, 1.051e+05, -7126],\n",
       "       [0, 0, 800, 0, -7126, 1.111e+04]])"
      ]
     },
     "metadata": {},
     "output_type": "display_data"
    }
   ],
   "source": [
    "np.set_printoptions(formatter={'all':lambda x: f'{x:1.4g}'})\n",
    "display(k_)\n",
    "display(c_)\n",
    "np.set_printoptions(formatter={'all':lambda x: f'{x:5.3f}'})\n",
    "display(m_)\n",
    "np.set_printoptions(formatter={'all':lambda x: f'{x:1.4g}'})\n",
    "display(B)\n",
    "display(A)"
   ]
  },
  {
   "cell_type": "code",
   "execution_count": 20,
   "id": "2a6ca403-de27-4c84-86fd-a409adaf6937",
   "metadata": {},
   "outputs": [],
   "source": [
    "ind4 = np.logical_and(dof_ref_[:,0] == in_node, dof_ref_[:,1] == 2)\n",
    "ind3 = np.logical_and(dof_ref_[:,0] == out_node, dof_ref_[:,1] == 2)"
   ]
  },
  {
   "cell_type": "markdown",
   "id": "12d97662-6993-4681-8583-a04093a40a44",
   "metadata": {},
   "source": [
    "#### Obtaining structural matrices in user ordering from MAPDL\n",
    "\n",
    "Matrices in Full Files are in internal ordering\n",
    "and should not be changed in their order or whatever, to avoid errors related to this operation\n",
    "the usr2solv or nod2solv permutation operators can not be exported\n",
    "so the only thing that is possible is to extract the nodal equivalence table from the full file\n",
    "for this the load_km function in pyansys must be extended for the D/C matrix\n",
    "!!!That is the only option!!!\n",
    "\n"
   ]
  },
  {
   "cell_type": "markdown",
   "id": "6b37a7db-b8c7-462f-8585-9c1c67de0828",
   "metadata": {},
   "source": [
    "#### Computing transfer functions with non-proportional damping matrices\n",
    "the method in Kausel Eq. 3.574 P. 223 works directly on the structural matrices, but involves a matrix inverse for each frequency line, which is painfully slow\n",
    "the modal approach is not valid, because the modal damping ratios obtained from the quadratic eigenvalue problem are just approximations\n",
    "they are the nonclassical modal frequencies, damping and damped frequencies\n",
    "what are the implications of nonclassical now?\n",
    "Veletsos and Ventura 1986 show (?) that nonclassical modal parameters can be used to construct an impulse response function <-> frequency response function (Fourier pair)\n",
    "TODO:\n",
    "- check for any constraints on generality mentioned in the text \n",
    "- check that thy use the same procedure for solving the quadratic eigenvalue problem\n",
    "- check that they use the same equations for the IRF\n",
    "- would we have to use both pairs of complex conjugate modes? Are we doing that already? \n",
    "\n"
   ]
  },
  {
   "cell_type": "code",
   "execution_count": 24,
   "id": "b5f64c14-d605-4c75-9f6f-3760cf8369e9",
   "metadata": {},
   "outputs": [
    {
     "data": {
      "text/plain": [
       "(array([5.609, 6.509, 15.23]),\n",
       " array([0.1507, 0.1089, 0.04839]),\n",
       " array([[[0+0j, 0+0j, 0+0j],\n",
       "         [0+0j, 0+0j, 0+0j],\n",
       "         [0+0j, 0+0j, 0+0j]],\n",
       " \n",
       "        [[0+0j, 0+0j, 0+0j],\n",
       "         [0+0j, 0+0j, 0+0j],\n",
       "         [0.001812+0.001035j, -0.003679+0.0007024j, -0.004281+2.127e-05j]],\n",
       " \n",
       "        [[0+0j, 0+0j, 0+0j],\n",
       "         [0+0j, 0+0j, 0+0j],\n",
       "         [0.002851+0.001463j, -0.005012+0.001147j, 0.006126+2.205e-05j]],\n",
       " \n",
       "        [[0+0j, 0+0j, 0+0j],\n",
       "         [0+0j, 0+0j, 0+0j],\n",
       "         [0.03005-0.005257j, 0.01525+0.01002j, -0.001005-0.0007282j]]]),\n",
       " array([1271, 1693, 9179]),\n",
       " array([1, 1, 1]),\n",
       " array([10.74, 8.959, 9.272]),\n",
       " array([2.977+57j, 3.768+66.14j, 0.01409+191.3j]))"
      ]
     },
     "execution_count": 24,
     "metadata": {},
     "output_type": "execute_result"
    }
   ],
   "source": [
    "mech.modal(modal_matrices=True)\n",
    "..."
   ]
  }
 ],
 "metadata": {
  "kernelspec": {
   "display_name": "Python 3 (ipykernel)",
   "language": "python",
   "name": "python3"
  },
  "language_info": {
   "codemirror_mode": {
    "name": "ipython",
    "version": 3
   },
   "file_extension": ".py",
   "mimetype": "text/x-python",
   "name": "python",
   "nbconvert_exporter": "python",
   "pygments_lexer": "ipython3",
   "version": "3.10.8"
  },
  "widgets": {
   "application/vnd.jupyter.widget-state+json": {
    "state": {},
    "version_major": 2,
    "version_minor": 0
   }
  }
 },
 "nbformat": 4,
 "nbformat_minor": 5
}
