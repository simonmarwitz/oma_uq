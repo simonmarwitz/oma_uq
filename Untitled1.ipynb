{
 "cells": [
  {
   "cell_type": "code",
   "execution_count": 38,
   "metadata": {},
   "outputs": [
    {
     "name": "stdout",
     "output_type": "stream",
     "text": [
      "Dec 14 17:16:46 stratos.bauing.uni-weimar.de kernel: [ pid ]   uid  tgid total_vm      rss nr_ptes swapents oom_score_adj name\n",
      "\n",
      "\n"
     ]
    }
   ],
   "source": [
    "vm_dict = {}\n",
    "with open('/vegas/scratch/womo1998/log1.txt', 'rt') as f:\n",
    "    print(f.readline())\n",
    "    while True:\n",
    "        line = f.readline()[61:]\n",
    "        try:\n",
    "            uid,tgid,total_vm,rss,nr_ptes,swapents,oom_score_adj,name = line.split()\n",
    "        except:\n",
    "            print(line)\n",
    "            break\n",
    "        if uid not in vm_dict:\n",
    "            vm_dict[uid] = 0\n",
    "        vm_dict[uid] += int(rss)*4/1024/1024"
   ]
  },
  {
   "cell_type": "code",
   "execution_count": 39,
   "metadata": {},
   "outputs": [],
   "source": [
    "total_rss = 0\n",
    "for key,value in vm_dict.items():\n",
    "    total_rss += value\n",
    "sort_vm_dict = sorted(vm_dict.items(), key=lambda x: x[1], reverse=True)"
   ]
  },
  {
   "cell_type": "code",
   "execution_count": 40,
   "metadata": {},
   "outputs": [
    {
     "name": "stdout",
     "output_type": "stream",
     "text": [
      "123.22211837768555\n"
     ]
    },
    {
     "data": {
      "text/plain": [
       "[('12807', 111.63401412963867),\n",
       " ('24290', 3.3530921936035156),\n",
       " ('20235', 2.0725135803222656),\n",
       " ('23181', 1.7444229125976562),\n",
       " ('2716', 1.1273994445800781),\n",
       " ('18492', 0.7353096008300781),\n",
       " ('12428', 0.6371002197265625),\n",
       " ('68427', 0.4569206237792969),\n",
       " ('0', 0.3339653015136719),\n",
       " ('14667', 0.27923583984375),\n",
       " ('22413', 0.191314697265625),\n",
       " ('3075', 0.1364593505859375),\n",
       " ('10887', 0.11917495727539062),\n",
       " ('42', 0.09233474731445312),\n",
       " ('8578', 0.09135055541992188),\n",
       " ('14675', 0.08554458618164062),\n",
       " ('15168', 0.06940460205078125),\n",
       " ('106', 0.028575897216796875),\n",
       " ('999', 0.01660919189453125),\n",
       " ('14666', 0.007709503173828125),\n",
       " ('81', 0.00559234619140625),\n",
       " ('89', 0.001155853271484375),\n",
       " ('99', 0.001094818115234375),\n",
       " ('485', 0.000728607177734375),\n",
       " ('995', 0.0002593994140625),\n",
       " ('20293', 0.000232696533203125),\n",
       " ('28616', 0.00020599365234375),\n",
       " ('38', 0.000164031982421875),\n",
       " ('172', 0.00011444091796875),\n",
       " ('32', 6.4849853515625e-05),\n",
       " ('997', 4.57763671875e-05),\n",
       " ('29', 7.62939453125e-06)]"
      ]
     },
     "execution_count": 40,
     "metadata": {},
     "output_type": "execute_result"
    }
   ],
   "source": [
    "print(total_rss)\n",
    "sort_vm_dict"
   ]
  },
  {
   "cell_type": "code",
   "execution_count": null,
   "metadata": {},
   "outputs": [],
   "source": []
  }
 ],
 "metadata": {
  "kernelspec": {
   "display_name": "Python 3",
   "language": "python",
   "name": "python3"
  },
  "language_info": {
   "codemirror_mode": {
    "name": "ipython",
    "version": 3
   },
   "file_extension": ".py",
   "mimetype": "text/x-python",
   "name": "python",
   "nbconvert_exporter": "python",
   "pygments_lexer": "ipython3",
   "version": "3.7.9"
  }
 },
 "nbformat": 4,
 "nbformat_minor": 4
}
