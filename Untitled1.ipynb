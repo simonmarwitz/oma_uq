{
 "cells": [
  {
   "cell_type": "code",
   "execution_count": 3,
   "metadata": {},
   "outputs": [
    {
     "name": "stdout",
     "output_type": "stream",
     "text": [
      "The autoreload extension is already loaded. To reload it, use:\n",
      "  %reload_ext autoreload\n",
      "The snakeviz extension is already loaded. To reload it, use:\n",
      "  %reload_ext snakeviz\n"
     ]
    }
   ],
   "source": [
    "%matplotlib widget\n",
    "%load_ext autoreload\n",
    "%autoreload 2\n",
    "%load_ext snakeviz\n",
    "# dont forget to forward ports: ssh -L 8080:127.0.0.1:8080 sima9999@makalu47.rz.tu-ilmenau.de\n",
    "\n",
    "import sys\n",
    "import os\n",
    "import logging\n",
    "sys.path.append(\"/usr/wrk/people9/sima9999/code/\")\n",
    "import matplotlib\n",
    "import matplotlib.pyplot as plt\n",
    "import numpy as np\n",
    "import pandas as pd\n",
    "import scipy.stats\n",
    "import scipy.stats.qmc\n",
    "\n",
    "\n",
    "from uncertainty.polymorphic_uncertainty import PolyUQ,RandomVariable,MassFunction\n",
    "from uncertainty.data_manager import DataManager\n",
    "\n",
    "%aimport -sys -logging -matplotlib -matplotlib.pyplot -numpy -pandas - scipy.stats -scipy.stats.qmc"
   ]
  },
  {
   "cell_type": "code",
   "execution_count": 4,
   "metadata": {},
   "outputs": [],
   "source": [
    "mu = MassFunction('mu',([1,10],),(1,),primary=False)\n",
    "norm = RandomVariable('norm','norm',(mu,1), primary=False)\n",
    "intv = MassFunction('intv',([norm,20],),(1,),primary=True)"
   ]
  },
  {
   "cell_type": "code",
   "execution_count": 6,
   "metadata": {},
   "outputs": [],
   "source": [
    "poly_uq = PolyUQ([norm,],[mu,intv])"
   ]
  },
  {
   "cell_type": "code",
   "execution_count": 21,
   "metadata": {},
   "outputs": [
    {
     "name": "stdout",
     "output_type": "stream",
     "text": [
      "INFO:uncertainty.polymorphic_uncertainty:Establishing support domain for all variables\" ['intv', 'norm', 'mu']\n",
      "WARNING:uncertainty.polymorphic_uncertainty:Aleatory sample size 5 may not suffice depending on the statistic to be applied. Large confidence intervals may occur.\n",
      "INFO:uncertainty.polymorphic_uncertainty:Generating low-discrepancy sequences for all variables (scramble seed: 332578445)... \n"
     ]
    }
   ],
   "source": [
    "poly_uq.sample_qmc(5,4, check_sample_sizes=False)"
   ]
  },
  {
   "cell_type": "code",
   "execution_count": 54,
   "metadata": {},
   "outputs": [
    {
     "name": "stdout",
     "output_type": "stream",
     "text": [
      "INFO:uncertainty.polymorphic_uncertainty:Computing full stochastic weights...\n",
      "....................................................................................................\n"
     ]
    },
    {
     "data": {
      "text/plain": [
       "array([[[1.5523509e+00, 0.0000000e+00, 1.5523509e+00, 0.0000000e+00],\n",
       "        [4.5674519e-12, 4.5674519e-12, 4.5674519e-12, 0.0000000e+00],\n",
       "        [6.0844500e-02, 0.0000000e+00, 0.0000000e+00, 0.0000000e+00],\n",
       "        [8.8253108e-07, 0.0000000e+00, 8.8253108e-07, 0.0000000e+00],\n",
       "        [5.6838229e-27, 5.6838229e-27, 5.6838229e-27, 0.0000000e+00]],\n",
       "\n",
       "       [[1.2100886e+01, 0.0000000e+00, 1.2100886e+01, 0.0000000e+00],\n",
       "        [8.0484360e-06, 8.0484360e-06, 8.0484360e-06, 0.0000000e+00],\n",
       "        [2.0981586e-06, 0.0000000e+00, 0.0000000e+00, 0.0000000e+00],\n",
       "        [2.5528822e-02, 0.0000000e+00, 2.5528822e-02, 0.0000000e+00],\n",
       "        [3.7166492e-17, 3.7166492e-17, 3.7166492e-17, 0.0000000e+00]],\n",
       "\n",
       "       [[1.8647655e-04, 0.0000000e+00, 1.8647655e-04, 0.0000000e+00],\n",
       "        [6.3378086e+00, 6.3378086e+00, 6.3378086e+00, 0.0000000e+00],\n",
       "        [6.3273935e-22, 0.0000000e+00, 0.0000000e+00, 0.0000000e+00],\n",
       "        [5.4173250e+00, 0.0000000e+00, 5.4173250e+00, 0.0000000e+00],\n",
       "        [4.0301963e-04, 4.0301963e-04, 4.0301963e-04, 0.0000000e+00]],\n",
       "\n",
       "       [[3.6864137e-10, 0.0000000e+00, 3.6864137e-10, 0.0000000e+00],\n",
       "        [2.8322344e+00, 2.8322344e+00, 2.8322344e+00, 0.0000000e+00],\n",
       "        [5.5334303e-33, 0.0000000e+00, 0.0000000e+00, 0.0000000e+00],\n",
       "        [3.9740950e-02, 0.0000000e+00, 3.9740950e-02, 0.0000000e+00],\n",
       "        [6.6832817e-01, 6.6832817e-01, 6.6832817e-01, 0.0000000e+00]]],\n",
       "      dtype=float32)"
      ]
     },
     "execution_count": 54,
     "metadata": {},
     "output_type": "execute_result"
    }
   ],
   "source": [
    "poly_uq.weights_full_stoch()"
   ]
  },
  {
   "cell_type": "code",
   "execution_count": 24,
   "metadata": {},
   "outputs": [
    {
     "data": {
      "text/plain": [
       "(        intv\n",
       " 0  16.754426\n",
       " 1   3.772131\n",
       " 2  10.263279\n",
       " 3  -2.719016\n",
       " 4  20.000000,\n",
       "         norm\n",
       " 0   7.962330\n",
       " 1   2.482985\n",
       " 2  13.441674\n",
       " 3   4.309433\n",
       " 4  -1.169911,\n",
       "       mu\n",
       " 0  10.00\n",
       " 1   7.75\n",
       " 2   3.25\n",
       " 3   1.00\n",
       " 4   5.50)"
      ]
     },
     "execution_count": 24,
     "metadata": {},
     "output_type": "execute_result"
    }
   ],
   "source": [
    "poly_uq.inp_samp_prim, poly_uq.inp_suppl_ale, poly_uq.inp_suppl_epi\n"
   ]
  },
  {
   "cell_type": "code",
   "execution_count": 25,
   "metadata": {},
   "outputs": [
    {
     "data": {
      "text/html": [
       "<div>\n",
       "<style scoped>\n",
       "    .dataframe tbody tr th:only-of-type {\n",
       "        vertical-align: middle;\n",
       "    }\n",
       "\n",
       "    .dataframe tbody tr th {\n",
       "        vertical-align: top;\n",
       "    }\n",
       "\n",
       "    .dataframe thead th {\n",
       "        text-align: right;\n",
       "    }\n",
       "</style>\n",
       "<table border=\"1\" class=\"dataframe\">\n",
       "  <thead>\n",
       "    <tr style=\"text-align: right;\">\n",
       "      <th></th>\n",
       "      <th>intv</th>\n",
       "      <th>norm</th>\n",
       "      <th>mu</th>\n",
       "    </tr>\n",
       "  </thead>\n",
       "  <tbody>\n",
       "    <tr>\n",
       "      <th>0</th>\n",
       "      <td>-2.719016</td>\n",
       "      <td>-2.719016</td>\n",
       "      <td>1</td>\n",
       "    </tr>\n",
       "    <tr>\n",
       "      <th>1</th>\n",
       "      <td>20.000000</td>\n",
       "      <td>13.719016</td>\n",
       "      <td>10</td>\n",
       "    </tr>\n",
       "  </tbody>\n",
       "</table>\n",
       "</div>"
      ],
      "text/plain": [
       "        intv       norm  mu\n",
       "0  -2.719016  -2.719016   1\n",
       "1  20.000000  13.719016  10"
      ]
     },
     "execution_count": 25,
     "metadata": {},
     "output_type": "execute_result"
    }
   ],
   "source": [
    "poly_uq.var_supp"
   ]
  },
  {
   "cell_type": "code",
   "execution_count": 71,
   "metadata": {},
   "outputs": [
    {
     "data": {
      "text/plain": [
       "array([0.0000000e+00, 6.3378086e+00, 0.0000000e+00, 0.0000000e+00,\n",
       "       4.0301963e-04], dtype=float32)"
      ]
     },
     "execution_count": 71,
     "metadata": {},
     "output_type": "execute_result"
    }
   ],
   "source": [
    "poly_uq.stoch_weights[2,:,1]"
   ]
  },
  {
   "cell_type": "code",
   "execution_count": 34,
   "metadata": {},
   "outputs": [
    {
     "data": {
      "text/plain": [
       "array([[10.  ],\n",
       "       [ 7.75],\n",
       "       [ 3.25],\n",
       "       [ 1.  ],\n",
       "       [ 5.5 ]])"
      ]
     },
     "execution_count": 34,
     "metadata": {},
     "output_type": "execute_result"
    }
   ],
   "source": [
    "poly_uq.inp_suppl_epi.to_numpy()"
   ]
  },
  {
   "cell_type": "code",
   "execution_count": 52,
   "metadata": {},
   "outputs": [
    {
     "data": {
      "text/plain": [
       "0.050037194557407634"
      ]
     },
     "execution_count": 52,
     "metadata": {},
     "output_type": "execute_result"
    }
   ],
   "source": [
    "scipy.stats.norm(10,1).pdf(7.9623297)"
   ]
  },
  {
   "cell_type": "code",
   "execution_count": null,
   "metadata": {},
   "outputs": [],
   "source": []
  }
 ],
 "metadata": {
  "kernelspec": {
   "display_name": "Python 3 (ipykernel)",
   "language": "python",
   "name": "python3"
  },
  "language_info": {
   "codemirror_mode": {
    "name": "ipython",
    "version": 3
   },
   "file_extension": ".py",
   "mimetype": "text/x-python",
   "name": "python",
   "nbconvert_exporter": "python",
   "pygments_lexer": "ipython3",
   "version": "3.10.8"
  }
 },
 "nbformat": 4,
 "nbformat_minor": 4
}
