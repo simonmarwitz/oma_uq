{
 "cells": [
  {
   "cell_type": "code",
   "execution_count": 1,
   "metadata": {},
   "outputs": [],
   "source": [
    "from sympy import *\n",
    "x,y = symbols('x y')\n",
    "f=(x+3*y-6)**2+(3*x+y+4)**2"
   ]
  },
  {
   "cell_type": "code",
   "execution_count": 2,
   "metadata": {},
   "outputs": [
    {
     "data": {
      "text/latex": [
       "$\\displaystyle \\left(x + 3 y - 6\\right)^{2} + \\left(3 x + y + 4\\right)^{2}$"
      ],
      "text/plain": [
       "(x + 3*y - 6)**2 + (3*x + y + 4)**2"
      ]
     },
     "metadata": {},
     "output_type": "display_data"
    },
    {
     "data": {
      "text/latex": [
       "$\\displaystyle 10 x^{2} + 12 x y + 12 x + 10 y^{2} - 28 y + 52$"
      ],
      "text/plain": [
       "10*x**2 + 12*x*y + 12*x + 10*y**2 - 28*y + 52"
      ]
     },
     "metadata": {},
     "output_type": "display_data"
    }
   ],
   "source": [
    "display(f)\n",
    "f=expand(f)\n",
    "display(f)"
   ]
  },
  {
   "cell_type": "code",
   "execution_count": 3,
   "metadata": {},
   "outputs": [
    {
     "data": {
      "text/latex": [
       "$\\displaystyle 20 x + 12 y + 12$"
      ],
      "text/plain": [
       "20*x + 12*y + 12"
      ]
     },
     "metadata": {},
     "output_type": "display_data"
    },
    {
     "data": {
      "text/latex": [
       "$\\displaystyle 12 x + 20 y - 28$"
      ],
      "text/plain": [
       "12*x + 20*y - 28"
      ]
     },
     "metadata": {},
     "output_type": "display_data"
    }
   ],
   "source": [
    "gx=diff(f,x)\n",
    "gy=diff(f,y)\n",
    "\n",
    "display(gx,gy)"
   ]
  },
  {
   "cell_type": "code",
   "execution_count": 4,
   "metadata": {},
   "outputs": [
    {
     "data": {
      "text/plain": [
       "(20, 12, 20)"
      ]
     },
     "execution_count": 4,
     "metadata": {},
     "output_type": "execute_result"
    }
   ],
   "source": [
    "diff(gx,x),diff(gy,x),diff(gy,y)"
   ]
  },
  {
   "cell_type": "code",
   "execution_count": 5,
   "metadata": {},
   "outputs": [
    {
     "data": {
      "text/latex": [
       "$\\displaystyle \\phi = 12 d_{x} t - 28 d_{y} t + 12 x - 28 y + 10 \\left(d_{x} t + x\\right)^{2} + 12 \\left(d_{x} t + x\\right) \\left(d_{y} t + y\\right) + 10 \\left(d_{y} t + y\\right)^{2} + 52$"
      ],
      "text/plain": [
       "Eq(\\phi, 12*d_x*t - 28*d_y*t + 12*x - 28*y + 10*(d_x*t + x)**2 + 12*(d_x*t + x)*(d_y*t + y) + 10*(d_y*t + y)**2 + 52)"
      ]
     },
     "metadata": {},
     "output_type": "display_data"
    },
    {
     "data": {
      "text/latex": [
       "$\\displaystyle \\phi' = 20 d_{x} \\left(d_{x} t + x\\right) + 12 d_{x} \\left(d_{y} t + y\\right) + 12 d_{x} + 12 d_{y} \\left(d_{x} t + x\\right) + 20 d_{y} \\left(d_{y} t + y\\right) - 28 d_{y}$"
      ],
      "text/plain": [
       "Eq(\\phi', 20*d_x*(d_x*t + x) + 12*d_x*(d_y*t + y) + 12*d_x + 12*d_y*(d_x*t + x) + 20*d_y*(d_y*t + y) - 28*d_y)"
      ]
     },
     "metadata": {},
     "output_type": "display_data"
    },
    {
     "data": {
      "text/latex": [
       "$\\displaystyle \\frac{- 5 d_{x} x - 3 d_{x} y - 3 d_{x} - 3 d_{y} x - 5 d_{y} y + 7 d_{y}}{5 d_{x}^{2} + 6 d_{x} d_{y} + 5 d_{y}^{2}}$"
      ],
      "text/plain": [
       "(-5*d_x*x - 3*d_x*y - 3*d_x - 3*d_y*x - 5*d_y*y + 7*d_y)/(5*d_x**2 + 6*d_x*d_y + 5*d_y**2)"
      ]
     },
     "metadata": {},
     "output_type": "display_data"
    },
    {
     "data": {
      "text/latex": [
       "$\\displaystyle \\frac{17 x^{2} + 30 x y - 6 x + 17 y^{2} - 26 y + 29}{8 \\left(65 x^{2} + 126 x y - 54 x + 65 y^{2} - 74 y + 41\\right)}$"
      ],
      "text/plain": [
       "(17*x**2 + 30*x*y - 6*x + 17*y**2 - 26*y + 29)/(8*(65*x**2 + 126*x*y - 54*x + 65*y**2 - 74*y + 41))"
      ]
     },
     "execution_count": 5,
     "metadata": {},
     "output_type": "execute_result"
    }
   ],
   "source": [
    "t,dx,dy=symbols('t d_x d_y')\n",
    "phi=f.subs(x,x+t*dx).subs(y,y+t*dy)\n",
    "display(Eq(symbols('\\phi'),phi))\n",
    "dphi=simplify(diff(phi,t))\n",
    "display(Eq(symbols(\"\\phi'\"),dphi))\n",
    "topt=solve(dphi,t)[0]\n",
    "display(topt)\n",
    "simplify(topt.subs(dx,-gx).subs(dy,-gy))"
   ]
  },
  {
   "cell_type": "code",
   "execution_count": 18,
   "metadata": {},
   "outputs": [
    {
     "data": {
      "image/png": "[encoded data removed]",
      "text/plain": [
       "<Figure size 432x288 with 1 Axes>"
      ]
     },
     "metadata": {
      "needs_background": "light"
     },
     "output_type": "display_data"
    },
    {
     "data": {
      "text/plain": [
       "<Figure size 432x288 with 0 Axes>"
      ]
     },
     "metadata": {},
     "output_type": "display_data"
    }
   ],
   "source": [
    "import numpy as np\n",
    "import matplotlib.pyplot as plt\n",
    "plt.rc('text', usetex=True)\n",
    "plt.ion()\n",
    "from sympy import *\n",
    "x=symbols('x')\n",
    "y=-.5*(x-.5)**4+5*x**2\n",
    "graph = plot(y,(x,-3.1,4.6))\n",
    "plt.savefig('/vegas/teaching/Stochastics_Optimization/Optimization_SummerTerm/2021_SS/exam/golden_cut.pdf')\n"
   ]
  },
  {
   "cell_type": "code",
   "execution_count": 91,
   "metadata": {},
   "outputs": [
    {
     "data": {
      "image/png": "[encoded data removed]",
      "text/plain": [
       "<Figure size 425.232x193.287 with 3 Axes>"
      ]
     },
     "metadata": {
      "needs_background": "light"
     },
     "output_type": "display_data"
    }
   ],
   "source": [
    "x1=np.linspace(-8,8)\n",
    "x2=x1\n",
    "X1,X2=np.meshgrid(x1,x2)\n",
    "f=X1**2+3*X2**2\n",
    "fig, axes = plt.subplots(1,3,figsize=(5.906,5.906/2.2), sharey=False, gridspec_kw={'width_ratios':[10,10,0.75]})\n",
    "axes[0].contour(X1,X2,f,17, cmap='Greys')\n",
    "axes[1].contour(X1,X2,f,17, cmap='Greys')\n",
    "l=axes[1].contourf(X1,X2,f,100, cmap='Greys')\n",
    "for coll in l.collections:\n",
    "    coll.set_visible(False)\n",
    "axes[0].set_xlabel('$x_1$')\n",
    "axes[1].set_xlabel('$x_1$')\n",
    "axes[0].set_ylabel('$x_2$')\n",
    "axes[0].set_xticks(list(range(-8,9,2)))\n",
    "axes[0].set_yticks(list(range(-8,9,2)))\n",
    "axes[1].set_xticks(list(range(-8,9,2)))\n",
    "axes[1].set_yticks([])\n",
    "fig.subplots_adjust(wspace=0.15)\n",
    "fig.colorbar(l, cax=axes[2]).set_label('$f(x_1,x_2)$')\n",
    "axes[0].set_box_aspect(1)\n",
    "axes[1].set_box_aspect(1)\n",
    "plt.savefig('/vegas/teaching/Stochastics_Optimization/Optimization_SummerTerm/2021_SS/exam/nl_contour.pdf')\n",
    "plt.show()"
   ]
  },
  {
   "cell_type": "code",
   "execution_count": 11,
   "metadata": {},
   "outputs": [],
   "source": [
    "from sympy import *\n",
    "init_printing()\n",
    "a,b,E,q,l,h,B,lam = symbols('a b E q l h B \\\\lambda')"
   ]
  },
  {
   "cell_type": "code",
   "execution_count": 12,
   "metadata": {},
   "outputs": [
    {
     "data": {
      "image/png": "[encoded data removed]",
      "text/latex": [
       "$\\displaystyle \\left( - \\frac{3 l^{4} q}{2 E a^{2} b^{3}}, \\  - \\frac{9 l^{4} q}{2 E a b^{4}}\\right)$"
      ],
      "text/plain": [
       "⎛     4         4   ⎞\n",
       "⎜ -3⋅l ⋅q   -9⋅l ⋅q ⎟\n",
       "⎜─────────, ────────⎟\n",
       "⎜     2  3         4⎟\n",
       "⎝2⋅E⋅a ⋅b   2⋅E⋅a⋅b ⎠"
      ]
     },
     "execution_count": 12,
     "metadata": {},
     "output_type": "execute_result"
    }
   ],
   "source": [
    "I=a*b**3/12\n",
    "f = q*l**4/8/E/I\n",
    "(diff(f,a), diff(f,b))"
   ]
  },
  {
   "cell_type": "code",
   "execution_count": 16,
   "metadata": {},
   "outputs": [
    {
     "data": {
      "image/png": "[encoded data removed]",
      "text/latex": [
       "$\\displaystyle \\left( \\lambda - \\frac{0.09375 l^{4} q}{E a^{2} h^{3}}, \\  \\lambda - \\frac{1.40625 l^{4} q}{E b^{2} h^{3}}\\right)$"
      ],
      "text/plain": [
       "⎛                   4                       4  ⎞\n",
       "⎜          0.09375⋅l ⋅q            1.40625⋅l ⋅q⎟\n",
       "⎜\\lambda - ────────────, \\lambda - ────────────⎟\n",
       "⎜               2  3                    2  3   ⎟\n",
       "⎝            E⋅a ⋅h                  E⋅b ⋅h    ⎠"
      ]
     },
     "execution_count": 16,
     "metadata": {},
     "output_type": "execute_result"
    }
   ],
   "source": [
    "f=12*q*l**4/h**3/E*(1/128/a+1/8/b-1/128/b)\n",
    "g=a+b-B\n",
    "L=f+lam*g\n",
    "(diff(L,a), diff(L,b))"
   ]
  },
  {
   "cell_type": "code",
   "execution_count": 18,
   "metadata": {},
   "outputs": [
    {
     "data": {
      "image/png": "[encoded data removed]",
      "text/latex": [
       "$\\displaystyle \\left( - \\frac{0.09375 l^{4} q}{E a^{2} h^{3}}, \\  - \\frac{1.40625 l^{4} q}{E b^{2} h^{3}}\\right)$"
      ],
      "text/plain": [
       "⎛          4               4   ⎞\n",
       "⎜-0.09375⋅l ⋅q   -1.40625⋅l ⋅q ⎟\n",
       "⎜──────────────, ──────────────⎟\n",
       "⎜      2  3            2  3    ⎟\n",
       "⎝   E⋅a ⋅h          E⋅b ⋅h     ⎠"
      ]
     },
     "execution_count": 18,
     "metadata": {},
     "output_type": "execute_result"
    }
   ],
   "source": [
    "(diff(f,a), diff(f,b))"
   ]
  },
  {
   "cell_type": "code",
   "execution_count": 19,
   "metadata": {},
   "outputs": [
    {
     "data": {
      "image/png": "[encoded data removed]",
      "text/latex": [
       "$\\displaystyle \\left( 1, \\  1\\right)$"
      ],
      "text/plain": [
       "(1, 1)"
      ]
     },
     "execution_count": 19,
     "metadata": {},
     "output_type": "execute_result"
    }
   ],
   "source": [
    "(diff(g,a), diff(g,b))"
   ]
  },
  {
   "cell_type": "code",
   "execution_count": 21,
   "metadata": {},
   "outputs": [],
   "source": [
    "first=solve(diff(L,a),a)[0]\n",
    "second=solve(diff(L,b),b)[0]\n",
    "third=lam*g"
   ]
  },
  {
   "cell_type": "code",
   "execution_count": 24,
   "metadata": {},
   "outputs": [],
   "source": [
    "fourth=third.subs(a,first).subs(b,second)"
   ]
  },
  {
   "cell_type": "code",
   "execution_count": 36,
   "metadata": {},
   "outputs": [
    {
     "data": {
      "image/png": "[encoded data removed]",
      "text/latex": [
       "$\\displaystyle - 0.306186217847897 l^{2} \\sqrt{\\frac{q}{E \\lambda h^{3}}}$"
      ],
      "text/plain": [
       "                           ______________\n",
       "                    2     ╱      q       \n",
       "-0.306186217847897⋅l ⋅   ╱  ──────────── \n",
       "                        ╱              3 \n",
       "                      ╲╱    E⋅\\lambda⋅h  "
      ]
     },
     "execution_count": 36,
     "metadata": {},
     "output_type": "execute_result"
    }
   ],
   "source": [
    "first"
   ]
  },
  {
   "cell_type": "code",
   "execution_count": 42,
   "metadata": {},
   "outputs": [
    {
     "data": {
      "text/plain": [
       "array([0.1985    , 0.36864286, 0.53878571, 0.70892857, 0.87907143,\n",
       "       1.04921429, 1.21935714])"
      ]
     },
     "execution_count": 42,
     "metadata": {},
     "output_type": "execute_result"
    }
   ],
   "source": [
    "import numpy as np\n",
    "deltat = 0.1985\n",
    "timesteps = 7\n",
    "np.linspace(deltat, timesteps*deltat, timesteps, False)"
   ]
  },
  {
   "cell_type": "code",
   "execution_count": 46,
   "metadata": {},
   "outputs": [
    {
     "data": {
      "image/png": "[encoded data removed]",
      "text/latex": [
       "$\\displaystyle 7914.0$"
      ],
      "text/plain": [
       "7914.0"
      ]
     },
     "execution_count": 46,
     "metadata": {},
     "output_type": "execute_result"
    }
   ],
   "source": [
    "125.84//0.0159"
   ]
  },
  {
   "cell_type": "code",
   "execution_count": 47,
   "metadata": {},
   "outputs": [
    {
     "data": {
      "text/plain": [
       "array([0])"
      ]
     },
     "execution_count": 47,
     "metadata": {},
     "output_type": "execute_result"
    }
   ],
   "source": [
    "np.arange(0,1)"
   ]
  },
  {
   "cell_type": "code",
   "execution_count": null,
   "metadata": {},
   "outputs": [],
   "source": []
  }
 ],
 "metadata": {
  "kernelspec": {
   "display_name": "Python 3",
   "language": "python",
   "name": "python3"
  },
  "language_info": {
   "codemirror_mode": {
    "name": "ipython",
    "version": 3
   },
   "file_extension": ".py",
   "mimetype": "text/x-python",
   "name": "python",
   "nbconvert_exporter": "python",
   "pygments_lexer": "ipython3",
   "version": "3.7.7"
  }
 },
 "nbformat": 4,
 "nbformat_minor": 4
}
