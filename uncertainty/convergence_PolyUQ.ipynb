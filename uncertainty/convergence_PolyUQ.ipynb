{
 "cells": [
  {
   "cell_type": "code",
   "execution_count": 1,
   "metadata": {},
   "outputs": [],
   "source": [
    "%matplotlib widget\n",
    "%load_ext autoreload\n",
    "%autoreload 2\n",
    "%load_ext snakeviz\n",
    "\n",
    "import sys\n",
    "sys.path.append(\"/usr/wrk/people9/sima9999/code/\")\n",
    "\n",
    "import psutil\n",
    "import time\n",
    "import os\n",
    "import logging\n",
    "\n",
    "import numpy as np\n",
    "import scipy.stats\n",
    "\n",
    "from uncertainty.polymorphic_uncertainty import RandomVariable, MassFunction, PolyUQ\n",
    "from helpers import get_pcd\n",
    "\n",
    "import glob\n",
    "import matplotlib\n",
    "import matplotlib.pyplot as plt\n",
    "\n",
    "%aimport -sys -logging -matplotlib -matplotlib.pyplot -numpy -pandas - scipy.stats -scipy.stats.qmc -ray"
   ]
  },
  {
   "cell_type": "code",
   "execution_count": 2,
   "metadata": {},
   "outputs": [],
   "source": [
    "def example_a():\n",
    "    print('Pure stochastic example...')\n",
    "    example_num = 0\n",
    "    q1 = RandomVariable(name='q1', dist='norm', params=[15, 4], primary=True)\n",
    "    q2 = RandomVariable(name='q2', dist='norm', params=[8, 2], primary=True)\n",
    "    \n",
    "    dim_ex='hadamard'\n",
    "    \n",
    "    vars_ale = [q1,q2]\n",
    "    vars_epi = []\n",
    "    return example_num, dim_ex, vars_ale, vars_epi,\n",
    "    "
   ]
  },
  {
   "cell_type": "code",
   "execution_count": 3,
   "metadata": {},
   "outputs": [],
   "source": [
    "def example_b():\n",
    "    print('Imprecision (probability-based intervals) example...')\n",
    "    example_num = 1\n",
    "    \n",
    "    inc_q1a1 = (RandomVariable(name='q1', dist='norm', params=[15,4], primary=False), # set same name to share input samples\n",
    "               )\n",
    "    inc_q1a0 = (inc_q1a1[0],\n",
    "                RandomVariable(name='q1a0l', dist='norm', params=[-0.4,0.1], primary=False), \n",
    "                RandomVariable(name='dq1a0r', dist='norm', params=[0.5,0.06], primary=False))\n",
    "    q1 = MassFunction(name='q1', focals=[inc_q1a1, inc_q1a0], masses=[0.5,0.5], primary=True, incremental=True)\n",
    "    \n",
    "    inc_q2a1 = (RandomVariable(name='q2', dist='norm', params=[8,2], primary=False), # set same name to share input samples\n",
    "               )\n",
    "    inc_q2a0 = (inc_q2a1[0],\n",
    "                RandomVariable(name='dq2a0l', dist='norm', params=[-0.6,0.08], primary=False), \n",
    "                RandomVariable(name='dq2a0r', dist='norm', params=[0.4,0.11], primary=False))\n",
    "    q2 = MassFunction(name='q2', focals=[inc_q2a1, inc_q2a0], masses=[0.5,0.5], primary=True, incremental=True)\n",
    "    \n",
    "    dim_ex='hadamard'\n",
    "    \n",
    "    vars_ale = [*inc_q1a0,*inc_q2a0]\n",
    "    vars_epi = [q1, q2]\n",
    "    return example_num, dim_ex, vars_ale, vars_epi,\n",
    "    "
   ]
  },
  {
   "cell_type": "code",
   "execution_count": 4,
   "metadata": {},
   "outputs": [],
   "source": [
    "def example_c():\n",
    "    print('Incompleteness (interval-based randomness) example...')\n",
    "    example_num = 2\n",
    "    mu1 = MassFunction(name='mu1', focals=[(14.79,14.79),(13.96,15.61)], masses=[0.5,0.5], primary=False)\n",
    "    sig1 = MassFunction(name='sig1', focals=[(4.17,4.17),(3.66,4.85)], masses = [0.5, 0.5], primary=False)\n",
    "    q1 = RandomVariable(name='q1', dist='norm', params=[mu1, sig1])\n",
    "    \n",
    "    mu2 = MassFunction(name='mu2', focals=[(8.1,8.1),(7.67,8.52)], masses=[0.5,0.5], primary=False)\n",
    "    sig2 = MassFunction(name='sig2', focals=[(2.14,2.14),(1.88,2.48)], masses = [0.5, 0.5], primary=False)\n",
    "    q2 = RandomVariable(name='q2', dist='norm', params=[mu2, sig2])\n",
    "    \n",
    "    dim_ex='hadamard'\n",
    "    \n",
    "    vars_epi = [mu1,sig1, mu2, sig2]\n",
    "    vars_ale = [q1, q2]\n",
    "    return example_num, dim_ex, vars_ale, vars_epi,\n",
    "    "
   ]
  },
  {
   "cell_type": "code",
   "execution_count": 20,
   "metadata": {},
   "outputs": [],
   "source": [
    "def example_d():\n",
    "    print('Incompleteness+Imprecision (interval probability-based random intervals) example...')\n",
    "    example_num = 3\n",
    "    q1a1mu    = MassFunction(name='q1a1mu',    focals=[(14.62, 14.62), (13.8, 15.45)], masses=[0.5,0.5],  primary=False)\n",
    "    q1a1sig   = MassFunction(name='q1a1sig',   focals=[(4.16 ,  4.16), (3.65, 4.83)], masses=[0.5,0.5],   primary=False)\n",
    "    q1a1      = RandomVariable(name='q1',    dist='norm', params=[q1a1mu, q1a1sig], primary=False)\n",
    "    \n",
    "    dq1a0lmu  = MassFunction(name='dq1a0lmu',  focals=[(-0.41, -0.41), (-0.46, -0.38)], masses=[0.5,0.5],  primary=False)\n",
    "    dq1a0lsig = MassFunction(name='dq1a0lsig', focals=[( 0.10,  0.10), ( 0.09,  0.12)], masses=[0.5,0.5],  primary=False)\n",
    "    dq1a0l    = RandomVariable(name='dq1a0l',  dist='norm', params=[dq1a0lmu, dq1a0lsig], primary=False)\n",
    "    \n",
    "    dq1a0rmu  = MassFunction(name='dq1a0rmu',  focals=[( 0.50, 0.50 ), ( 0.49,  0.52)], masses=[0.5,0.5],  primary=False)\n",
    "    dq1a0rsig = MassFunction(name='dq1a0sig',  focals=[( 0.06, 0.06 ), ( 0.05,  0.08)], masses=[0.5,0.5],  primary=False)\n",
    "    dq1a0r    = RandomVariable(name='dq1a0r',  dist='norm', params=[dq1a0rmu, dq1a0rsig], primary=False)\n",
    "    \n",
    "    q1        = MassFunction(name='q1', focals=[(q1a1, 0, 0), (q1a1, dq1a0l, dq1a0r)], masses=[0.5,0.5], primary=True, incremental=True)\n",
    "    \n",
    "    q2a1mu    = MassFunction(name='q2a1mu',   focals=[(8.10, 8.10   ), (7.67, 8.52)], masses=[0.5,0.5],  primary=False)\n",
    "    q2a1sig   = MassFunction(name='q2a1sig',  focals=[(2.12, 2.12   ), (1.86, 2.46)], masses=[0.5,0.5],   primary=False)\n",
    "    q2a1      = RandomVariable(name='q2',   dist='norm', params=[q2a1mu, q2a1sig], primary=False)\n",
    "    \n",
    "    dq2a0lmu  = MassFunction(name='dq2a0lmu',  focals=[(-0.59, -0.59), (-0.61, -0.57)], masses=[0.5,0.5],  primary=False)\n",
    "    dq2a0lsig = MassFunction(name='dq2a0lsig', focals=[( 0.08,  0.08), ( 0.07,  0.09)], masses=[0.5,0.5],  primary=False)\n",
    "    dq2a0l    = RandomVariable(name='dq2a0l',  dist='norm', params=[dq2a0lmu, dq2a0lsig], primary=False)\n",
    "    \n",
    "    dq2a0rmu  = MassFunction(name='dq2a0rmu',  focals=[(0.40, 0.40), (0.38, 0.42)], masses=[0.5,0.5],  primary=False)\n",
    "    dq2a0rsig = MassFunction(name='dq2a0sig',  focals=[(0.10, 0.10), (0.09, 0.12)], masses=[0.5,0.5],  primary=False)\n",
    "    dq2a0r    = RandomVariable(name='dq2a0r',  dist='norm', params=[dq2a0rmu, dq2a0rsig], primary=False)\n",
    "    \n",
    "    q2        = MassFunction(name='q2', focals=[(q2a1, 0, 0), (q2a1, dq2a0l, dq2a0r)], masses=[0.5,0.5], primary=True, incremental=True)\n",
    "    \n",
    "    dim_ex='hadamard'\n",
    "    \n",
    "    vars_epi = [q1a1mu, q1a1sig, dq1a0lmu, dq1a0lsig, dq1a0rmu, dq1a0rsig, q1,\n",
    "                q2a1mu, q2a1sig, dq2a0lmu, dq2a0lsig, dq2a0rmu, dq2a0rsig, q2]\n",
    "    vars_ale = [q1a1, dq1a0l, dq1a0r,\n",
    "                q2a1, dq2a0l, dq2a0r,]\n",
    "    return example_num, dim_ex, vars_ale, vars_epi,"
   ]
  },
  {
   "cell_type": "code",
   "execution_count": 6,
   "metadata": {},
   "outputs": [],
   "source": [
    "def example_e():\n",
    "    print('Mixed Imprecision and Incompleteness example...')\n",
    "    example_num = 4\n",
    "    mu1 = MassFunction(name='mu1', focals=[(14.79,14.79),(13.96,15.61)], masses=[0.5,0.5], primary=False)\n",
    "    sig1 = MassFunction(name='sig1', focals=[(4.17,4.17),(3.66,4.85)], masses = [0.5, 0.5], primary=False)\n",
    "    q1 = RandomVariable(name='q1', dist='norm', params=[mu1, sig1])\n",
    "    \n",
    "    inc_q2a1 = (RandomVariable(name='q2', dist='norm', params=[8,2], primary=False),) # set same name to share input samples\n",
    "    inc_q2a0 = (inc_q2a1[0],\n",
    "                RandomVariable(name='dq2a0l', dist='norm', params=[-0.6,0.08], primary=False), \n",
    "                RandomVariable(name='dq2a0r', dist='norm', params=[0.4,0.11], primary=False))\n",
    "    q2 = MassFunction(name='q2', focals=[inc_q2a1, inc_q2a0], masses=[0.5,0.5], primary=True, incremental=True)\n",
    "    \n",
    "    dim_ex='hadamard'\n",
    "    vars_epi = [mu1,sig1, q2]\n",
    "    vars_ale = [q1, *inc_q2a0]\n",
    "    \n",
    "    return example_num, dim_ex, vars_ale, vars_epi,"
   ]
  },
  {
   "cell_type": "code",
   "execution_count": 8,
   "metadata": {},
   "outputs": [],
   "source": [
    "def deterministic_mapping2(q1,q2):\n",
    "    return (189/500*q1+3*q2)*16/3\n",
    "arg_vars = {'q1':'q1', 'q2':'q2'}\n",
    "\n",
    "def stat_fun(a, weight, i_stat, minmax):\n",
    "    exceed = a>=260\n",
    "    return np.sum(weight[exceed])\n",
    "\n",
    "example_num = 3\n",
    "# N_mcs = int(10**(float(sys.argv[2])/8))\n",
    "N_mcs=100\n",
    "# 2 - 7 in steps of 0.125 -> 100...1333521 -> 16...50\n",
    "\n",
    "\n",
    "result_dir = '/usr/scratch4/sima9999/work/modal_uq/uq_simple_beam/'\n",
    "if not os.path.exists(result_dir):\n",
    "    os.makedirs(result_dir)"
   ]
  },
  {
   "cell_type": "code",
   "execution_count": null,
   "metadata": {
    "tags": []
   },
   "outputs": [],
   "source": [
    "def qmc_uq(N_mcs, example_num, run_num, **kwargs):\n",
    "    if example_num==4:\n",
    "        N_mcs_ = np.floor(np.sqrt(N_mcs)).astype(int) # that makes N_mcs == fcount\n",
    "    else:\n",
    "        N_mcs_ = N_mcs\n",
    "    \n",
    "    _, dim_ex, vars_ale, vars_epi, = [example_a, example_b, example_c, example_d, example_e][example_num]()\n",
    "    \n",
    "    this_result_dir = os.path.join(result_dir, f'{example_num}-{N_mcs}/{run_num}/')\n",
    "    if not os.path.exists(this_result_dir):\n",
    "        os.makedirs(this_result_dir)\n",
    "                                       \n",
    "    prop_path = os.path.join(this_result_dir, 'polyuq_prop.npz')\n",
    "    imp_path = os.path.join(this_result_dir, 'polyuq_imp.npz')\n",
    "    inc_path = os.path.join(this_result_dir, 'polyuq_inc.npz')\n",
    "    \n",
    "    print(imp_path, this_result_dir)\n",
    "    poly_uq = PolyUQ(vars_ale, vars_epi, dim_ex=dim_ex)\n",
    "\n",
    "    logger = logging.getLogger('uncertainty.polymorphic_uncertainty')\n",
    "    logger.setLevel(level=logging.INFO)\n",
    "    \n",
    "    # if 'start_ale' in kwargs:\n",
    "    try:\n",
    "        poly_uq.load_state(prop_path)\n",
    "        asd\n",
    "    # else:\n",
    "    except:\n",
    "        poly_uq.sample_qmc(N_mcs_, N_mcs_, percentiles=(0.000001, 0.999999), check_discr=False)\n",
    "        poly_uq.propagate(deterministic_mapping2, arg_vars)\n",
    "        poly_uq.save_state(prop_path)\n",
    "    # return\n",
    "    if os.path.exists(imp_path) and False:\n",
    "        \n",
    "        poly_uq.load_state(imp_path, differential='imp')\n",
    "    else:\n",
    "        poly_uq.estimate_imp(\n",
    "            interp_fun='nearest',\n",
    "            opt_meth='Powell',\n",
    "            plot_res=False,\n",
    "            plot_intp=False,\n",
    "            intp_err_warn = None,\n",
    "            extrp_warn = 10,\n",
    "            # kernel='gaussian',\n",
    "            # epsilon=2\n",
    "            **kwargs\n",
    "            )\n",
    "\n",
    "        if 'start_ale' in kwargs:\n",
    "            start_ale = kwargs['start_ale']\n",
    "            imp_path = os.path.join(this_result_dir, f'polyuq_imp_{start_ale}.npz')\n",
    "            poly_uq.save_state(imp_path, differential='imp')\n",
    "            return\n",
    "\n",
    "        poly_uq.save_state(imp_path, differential='imp')\n",
    "    \n",
    "    focals_Pf, hyc_mass = poly_uq.optimize_inc(stat_fun, 1)\n",
    "    poly_uq.save_state(inc_path, differential='inc')\n",
    "\n",
    "    return example_num, N_mcs, focals_Pf\n",
    "\n",
    "N_mcs = int(1e6)\n",
    "example_num = 4\n",
    "run_num = 0\n",
    "# qmc_uq(N_mcs, example_num, run_num)\n",
    "for example_num in [4,]:\n",
    "    for run_num in range(30):\n",
    "        _,_, focals_Pf = qmc_uq(N_mcs, example_num, run_num)\n",
    "        display(focals_Pf*1e4)\n",
    "# _,_, focals_Pf = qmc_uq(N_mcs, example_num, run_num)\n",
    "# display(focals_Pf*1e4)"
   ]
  },
  {
   "cell_type": "code",
   "execution_count": null,
   "metadata": {},
   "outputs": [],
   "source": [
    "# merge partial results from distributed computations\n",
    "for example_num in [1]:\n",
    "    # continue\n",
    "    print('exnum',example_num)\n",
    "    for run_num in range(30):\n",
    "        print('runnum',run_num)\n",
    "        for MCS_exponent in range(6,7):\n",
    "            N_mcs = int(10**(float(MCS_exponent)))\n",
    "            this_result_dir = os.path.join(result_dir, f'{example_num}-{N_mcs}/{run_num}/')\n",
    "            N_parts = 50\n",
    "            parts = np.linspace(0,N_mcs,N_parts+1, dtype=int)\n",
    "            \n",
    "            imp_path = os.path.join(this_result_dir, f'polyuq_imp_{parts[0]}.npz')\n",
    "            in_dict = dict(np.load(imp_path, allow_pickle=True))\n",
    "            imp_foc = in_dict['self.imp_foc']\n",
    "            val_samp_prim = in_dict.get('self.val_samp_prim')\n",
    "            intp_errors = in_dict.get('self.intp_errors')\n",
    "            intp_exceed = in_dict.get('self.intp_exceed')\n",
    "            intp_undershot = in_dict.get('self.intp_undershot')\n",
    "            \n",
    "            for part in range(1,N_parts):\n",
    "                print('part',part)\n",
    "                start_ale = parts[part]\n",
    "                end_ale = parts[part+1]\n",
    "                this_imp_path = os.path.join(this_result_dir, f'polyuq_imp_{parts[part]}.npz')\n",
    "                this_in_dict = np.load(this_imp_path, allow_pickle=True)\n",
    "                this_imp_foc = this_in_dict['self.imp_foc']\n",
    "                this_val_samp_prim = this_in_dict.get('self.val_samp_prim')\n",
    "                this_intp_errors = this_in_dict.get('self.intp_errors')\n",
    "                this_intp_exceed = this_in_dict.get('self.intp_exceed')\n",
    "                this_intp_undershot = this_in_dict.get('self.intp_undershot')\n",
    "                \n",
    "                imp_foc[start_ale:end_ale,:,:] = this_imp_foc[start_ale:end_ale,:,:]\n",
    "                assert not np.all(np.isnan(imp_foc[start_ale:end_ale,:,:]))\n",
    "                \n",
    "                val_samp_prim[start_ale:end_ale,...] = this_val_samp_prim[start_ale:end_ale,...]\n",
    "                intp_errors[start_ale:end_ale] = this_intp_errors[start_ale:end_ale]\n",
    "                \n",
    "                intp_exceed[0] += this_intp_exceed[0]\n",
    "                intp_exceed[1] += this_intp_exceed[1]\n",
    "                \n",
    "                intp_undershot[0] += this_intp_undershot[0]\n",
    "                intp_undershot[1] += this_intp_undershot[1]\n",
    "            \n",
    "            \n",
    "            in_dict['self.imp_foc'] = imp_foc\n",
    "            in_dict['self.val_samp_prim'] = val_samp_prim\n",
    "            in_dict['self.intp_errors'] = intp_errors\n",
    "            in_dict['self.intp_exceed'] = intp_exceed\n",
    "            in_dict['self.intp_undershot'] = intp_undershot\n",
    "            \n",
    "            imp_path = os.path.join(this_result_dir, f'polyuq_imp.npz')\n",
    "            np.savez_compressed(imp_path, **in_dict)\n",
    "            "
   ]
  },
  {
   "cell_type": "code",
   "execution_count": 9,
   "metadata": {
    "tags": []
   },
   "outputs": [],
   "source": [
    "'''\n",
    "the mapping is linear in both variables\n",
    "the statistic is the number of samples exceeding a threshold\n",
    "it is monotonic increasing with both variables\n",
    "if any variable is a random variable\n",
    "the statistic increases with increasing mean and increasing sigma\n",
    "\n",
    "so to obtain the minimum (maximum) extract the minima (maxima) from all focal sets in a given hypercube, sample and estimate statistic\n",
    "'''\n",
    "\n",
    "def naive_uq(N_mcs, example_num, run_num):\n",
    "    \n",
    "    _, dim_ex, vars_ale, vars_epi, = [example_a, example_b, example_c, example_d, example_e][example_num]()\n",
    "    # 1 3 4\n",
    "    poly_uq = PolyUQ(vars_ale, vars_epi, dim_ex=dim_ex)\n",
    "    \n",
    "    weight = np.ones((N_mcs))/N_mcs\n",
    "    \n",
    "    vars_imp = poly_uq.vars_imp\n",
    "    vars_inc = poly_uq.vars_inc\n",
    "    vars_ale = poly_uq.vars_ale\n",
    "\n",
    "    vars_prim = {var.name:var for var in poly_uq.all_vars.values() if var.primary}\n",
    "\n",
    "    imp_hyc_foc_inds = poly_uq.imp_hyc_foc_inds\n",
    "    inc_hyc_foc_inds = poly_uq.inc_hyc_foc_inds\n",
    "    \n",
    "    n_imp_hyc = len(imp_hyc_foc_inds)\n",
    "    n_inc_hyc = len(inc_hyc_foc_inds)\n",
    "    \n",
    "    n_hyc = n_imp_hyc * n_inc_hyc\n",
    "    n_stat, i_stat = 1, 0\n",
    "    \n",
    "    focals_stats = np.full((n_stat, n_hyc, 4), np.nan)\n",
    "    \n",
    "    inc_numeric_focals = [var.numeric_focals for var in vars_inc]\n",
    "    for i_hyc_inc, hyc_inc in enumerate(inc_hyc_foc_inds):# no-inc runs a single time\n",
    "        if hyc_inc:\n",
    "            inc_focals = np.vstack([focals[ind,:] for focals, ind in zip(inc_numeric_focals, hyc_inc)])\n",
    "            if np.all(inc_focals[:,0]==inc_focals[:,1]):\n",
    "                inc_focals = inc_focals[:,0:1]\n",
    "        else:\n",
    "            inc_focals = np.empty((0,1))\n",
    "\n",
    "        for inc_min_max in range(inc_focals.shape[1]):\n",
    "            # extract min_max from from incompleteness focal sets\n",
    "            for foc,var in zip(inc_focals, vars_inc):\n",
    "                # set distribution parameters = freeze inc variables\n",
    "                var.freeze(foc[inc_min_max])\n",
    "            # sample aleatory variables\n",
    "            rvs_ale = np.empty((len(vars_ale),N_mcs))\n",
    "            for i_var, var in enumerate(vars_ale):\n",
    "                rvs_ale[i_var,:] = var.rvs(N_mcs)\n",
    "\n",
    "            for i_hyc_imp, hyc_imp in enumerate(imp_hyc_foc_inds):# no-imp runs a single time\n",
    "                if hyc_imp:\n",
    "                    len_focals = []\n",
    "                    for i_var, var in enumerate(vars_imp):\n",
    "                        focals = var._focals[hyc_imp[i_var]]\n",
    "                        lenf = 3 - np.sum(np.logical_or([x is np.nan for x in focals], focals==0))\n",
    "                        # print(var, focals, lenf, np.logical_or(focals==np.nan, focals==0), focals==np.nan)\n",
    "                        len_focals.append(lenf)\n",
    "                    # print(len_focals, np.all(np.array(len_focals)==1))\n",
    "                    if np.all(np.array(len_focals)==1):\n",
    "                        mm_range = range(1)\n",
    "                    else:\n",
    "                        mm_range = range(2)\n",
    "                else:\n",
    "                    mm_range = range(1)\n",
    "                for imp_min_max in mm_range:\n",
    "                    rvs_prim = np.empty((2, N_mcs))\n",
    "\n",
    "                    for n_ale in range(N_mcs):\n",
    "                        # set random values = freeze ale variables\n",
    "                        for i_var, var in enumerate(vars_ale):\n",
    "                            var.freeze(rvs_ale[i_var, n_ale])\n",
    "                        # extract min_max from imprecision focal sets\n",
    "                        for i_var, var in enumerate(vars_imp):\n",
    "                            var.freeze(var.numeric_focal(hyc_imp[i_var])[0,imp_min_max])\n",
    "                        # assemble primary variables\n",
    "                        for i_var, var_name in enumerate(['q1', 'q2']):\n",
    "                            rvs_prim[i_var, n_ale] = vars_prim[var_name].value\n",
    "                    out_samp = deterministic_mapping2(rvs_prim[0,:], rvs_prim[1,:])\n",
    "                    \n",
    "                    # compute statistic\n",
    "                    stat  = stat_fun(out_samp, weight, None, None) * 1e4\n",
    "                    focals_stats[i_stat, i_hyc_imp*n_inc_hyc + i_hyc_inc, imp_min_max*2 + inc_min_max] = stat\n",
    "                    \n",
    "                    alpha = ['1  ',[\"0,l\",\"0,r\"][imp_min_max]][i_hyc_imp]\n",
    "                    beta  = ['1  ',[\"0,l\",\"0,r\"][inc_min_max]][i_hyc_inc]\n",
    "                    print(f' P_{{f,α={alpha}}},  P_{{f,β={beta}}} => stat {stat}')\n",
    "                    print(i_stat, i_hyc_imp*n_inc_hyc + i_hyc_inc, imp_min_max*2 + inc_min_max)\n",
    "                    \n",
    "    this_result_dir = os.path.join(result_dir, f'{example_num}-{N_mcs}/{run_num}/')\n",
    "    if not os.path.exists(this_result_dir):\n",
    "        os.makedirs(this_result_dir)\n",
    "        \n",
    "    save_path = os.path.join(this_result_dir, 'naive_uq.npz')\n",
    "    np.savez(save_path, focals_stats)\n",
    "    \n",
    "    return focals_stats\n",
    "\n",
    "N_mcs = int(1e6)\n",
    "example_num = 3\n",
    "run_num = 0\n",
    "\n",
    "# naive_uq(N_mcs, example_num, run_num)"
   ]
  },
  {
   "cell_type": "markdown",
   "metadata": {
    "tags": []
   },
   "source": [
    "Compute all examples with pure MCS and \n",
    "\n",
    "establish confidence bounds from multiple runs (or bootstrap?)\n",
    "\n",
    "document results in a table (internal use for thesis not for paper)\n",
    "\n",
    "Run all examples with polyUQ and\n",
    "\n",
    "establish confidence bounds form multiple runs\n",
    "\n",
    "document results in a table (for paper)\n",
    "\n",
    "redo convergence study (internal use for thesis not for paper)\n",
    "\n",
    "Include example in Polymorphic Uncertainty section of paper\n",
    "\n",
    "description and clarification: fuzzy alpha-level cuts represented by mass functions\n",
    "\n",
    "Problem: differential variables make the problem more complicated\n",
    "\n",
    "only include the \"corners\" of example (d)\n",
    "\n",
    "add an example section after each paragraph, outlining the variables and values w.r.t. the algorithms 1-4\n",
    "\n"
   ]
  },
  {
   "cell_type": "code",
   "execution_count": 10,
   "metadata": {
    "tags": []
   },
   "outputs": [],
   "source": [
    "def analyze(example_num, hyc_num=None):\n",
    "    files = glob.glob(f'/vegas/scratch/womo1998/modal_uq/convergence_PolyUQ/{example_num}_*')\n",
    "    if not files: return\n",
    "    \n",
    "    N_mcss = []\n",
    "    focals = []\n",
    "    fcounts = []\n",
    "    mems = []\n",
    "    runtimes = []\n",
    "    for file in files:\n",
    "        N_mcss.append(int(file.split('_')[-2].strip('.npz')))\n",
    "        arr = np.load(file, allow_pickle=True)\n",
    "        focals.append(arr['focals_Pf'])\n",
    "        fcounts.append(arr['fcount'].item())\n",
    "        mems.append(arr['mem'].item())\n",
    "        runtimes.append(arr['runtime'].item())\n",
    "        \n",
    "    # plt.plot(N_mcss, runtimes, ls='none', marker='.')\n",
    "    # plt.show()\n",
    "    fcounts=np.array(fcounts)\n",
    "    N_mcss=np.array(N_mcss)\n",
    "    fcounts=N_mcss\n",
    "    \n",
    "    \n",
    "    \n",
    "    focals = np.stack(focals)\n",
    "    n_hyc = focals.shape[2]\n",
    "    if example_num==0:\n",
    "        it_hyc = [0]\n",
    "        ref = [[1.003e-3],]\n",
    "        color='#377eb8'\n",
    "    elif example_num==1:\n",
    "        it_hyc = [0,1]\n",
    "        ref = [[10.27e-4],\n",
    "               [3.21e-4,21.94e-4]]\n",
    "        color='#4daf4a'\n",
    "    elif example_num==2:\n",
    "        it_hyc = [0,1]\n",
    "        ref = [[20.10e-4],\n",
    "               [2.33e-4,120.16e-4]]\n",
    "        color='#ff7f00'\n",
    "    elif example_num==3:\n",
    "        it_hyc = [0,1,2,3]\n",
    "        \n",
    "        ref = [[19.12e-4],\n",
    "               [1.66e-4,111.55e-4],\n",
    "               [7.6e-4,37.07e-4],\n",
    "               [0.54e-4,183.12e-4],\n",
    "               ]\n",
    "        color='#e41a1c'\n",
    "    elif example_num==4:\n",
    "        it_hyc = [0,1,2,3,4,5,6,7]\n",
    "        \n",
    "        ref = [[None], # complete, precise\n",
    "               [None,None], # partly incomplete, precise\n",
    "               [None,None], # partly incomplete, precise\n",
    "               [None,None], # incomplete, precise\n",
    "               [None,None], # complete, imprecise\n",
    "               [None,None], # partly incomplete, imprecise\n",
    "               [None,None], # partly incomplete, imprecise\n",
    "               [None,None], #incomplete, imprecise\n",
    "               ]\n",
    "        color='#984ea3'\n",
    "    # print(focals.shape)\n",
    "    \n",
    "    '''\n",
    "    \n",
    "    compute relative error for each sample\n",
    "    compute confidence interval for each fcount\n",
    "    plot fill_between\n",
    "    \n",
    "    '''\n",
    "    \n",
    "    for i,i_hyc in enumerate(it_hyc):\n",
    "        if hyc_num is not None:\n",
    "            if hyc_num!=i_hyc: continue\n",
    "        for high_low in range(len(ref[i])):\n",
    "            unique = np.unique(fcounts)\n",
    "            unique = unique[unique>=1e3]\n",
    "            conf= np.zeros((len(unique),2))\n",
    "            if ref[i][high_low] is None:\n",
    "            # if True:\n",
    "                ref[i][high_low] = np.mean(focals[fcounts==np.max(unique),0,i_hyc,high_low])\n",
    "            print(f'Ex {example_num} Hyc {i_hyc} u/l {high_low}')\n",
    "            print(np.mean(focals[fcounts==np.max(unique),0,i_hyc,high_low]), ref[i][high_low])\n",
    "            for j in range(len(unique)):\n",
    "                \n",
    "                inds = fcounts==unique[j]\n",
    "                # print(f'Ex {example_num} Hyc {i_hyc} u/l {high_low} Nmcs {unique[j]}; samples: {np.sum(inds)}')\n",
    "                data = focals[inds,0,i_hyc,high_low]\n",
    "                data -= ref[i][high_low]\n",
    "                data /= ref[i][high_low]\n",
    "                data *= 100\n",
    "                data = np.abs(data)\n",
    "                \n",
    "                conf[j,:] = scipy.stats.t.interval(alpha=0.95, df=len(data)-1, loc=np.mean(data), scale=scipy.stats.sem(data)) \n",
    "            \n",
    "            plt.fill_between(unique, conf[:,0], conf[:,1], alpha=0.5, color=color, ls=['solid','dashed'][high_low])\n",
    "            \n",
    "        \n",
    "        plt.xscale('log')\n",
    "    # plt.axhline(1, c='grey', lw=.5)\n",
    "    # plt.show()"
   ]
  },
  {
   "cell_type": "code",
   "execution_count": 11,
   "metadata": {
    "tags": []
   },
   "outputs": [],
   "source": [
    "def analyze2():\n",
    "    '''\n",
    "    group into (example, hyc) \n",
    "    '''\n",
    "    with matplotlib.rc_context(rc=get_pcd()):\n",
    "        fig, axes = plt.subplots(2,2,sharex=True, sharey='col')\n",
    "        axes = axes.ravel()\n",
    "        \n",
    "        for n in [0,1,2,3,]:\n",
    "        # for n in [3,]:\n",
    "            plt.sca(axes[n])\n",
    "            if n == 0:\n",
    "                datasets = [[0, 0], [1, 0], [2, 0], [3, 0], [4, 0]]  # pure variability\n",
    "                title = 'variability (var)'\n",
    "            elif n == 1:\n",
    "                datasets = [ [3, 2],[1, 1], [4, 4]]  # variability+imprecision\n",
    "                title = 'var. + imprecision (imp.)'\n",
    "            elif n == 2:\n",
    "                datasets = [[2, 1], [3, 1], [4, 3]]  # incompleteness+variability\n",
    "                title = 'incompleteness (inc.) + var.'\n",
    "            elif n == 3:\n",
    "                datasets = [[3, 3], [4, 7]]  # inc+var+imp\n",
    "                title = 'inc. + var. + imp.'\n",
    "                \n",
    "            for example_num,hyc_num in datasets:\n",
    "                analyze(example_num, hyc_num)\n",
    "                pass\n",
    "            # axes[n].set_ylim((-99,99))\n",
    "            plt.title(title, y=1.0, pad=-10, size=10)\n",
    "            \n",
    "            if axes[n].is_last_row():\n",
    "                # plt.xlabel(\"No. of Monte Carlo Samples [-]\")\n",
    "                pass\n",
    "            if axes[n].is_first_col():\n",
    "                # plt.ylabel(\"Avg. rel. error [\\%]\")\n",
    "                plt.ylim((0,15))\n",
    "                pass\n",
    "            if axes[n].is_last_col():\n",
    "                axes[n].yaxis.tick_right()\n",
    "                plt.ylim((0,400))\n",
    "        fig.text(0.5, 0.02, \"No. of Monte Carlo Samples [-]\", va='center', ha='center')\n",
    "        fig.text(0.02, 0.5, \"Avg. rel. error [\\%]\", va='center', ha='center', rotation='vertical', )\n",
    "        fig.text(0.98, 0.5, \"Avg. rel. error [\\%]\", va='center', ha='center', rotation='vertical', )\n",
    "            \n",
    "            \n",
    "        from matplotlib.patches import Patch\n",
    "        legend_elements = [Patch(facecolor='#377eb8', label='pure aleatory'),\n",
    "                           Patch(facecolor='#4daf4a', label='primary epistemic'),\n",
    "                           Patch(facecolor='#ff7f00', label='primary aleatory'),\n",
    "                           Patch(facecolor='#e41a1c', label='primary epistemic'),\n",
    "                           Patch(facecolor='#984ea3', label='mixed ale.-epi.')]\n",
    "        fig.legend(handles=legend_elements, loc=(0.625,0.24)).set_draggable(True)\n",
    "        fig.subplots_adjust(top=0.97,bottom=0.110, left=0.075, right=0.9, hspace=0.07, wspace=0.035)\n",
    "        plt.xlim((1e3,1333521))\n",
    "        # fig.savefig(f'/vegas/users/staff/womo1998/Projects/2019_OMA_UQ/tex/figures/math_basics/convergence_poly_uq.pdf')\n",
    "        # fig.savefig(f'/vegas/users/staff/womo1998/Projects/2019_OMA_UQ/tex/figures/math_basics/convergence_poly_uq.png', dpi=300)\n",
    "        plt.show()"
   ]
  },
  {
   "cell_type": "code",
   "execution_count": 30,
   "metadata": {
    "tags": []
   },
   "outputs": [],
   "source": [
    "import ray\n",
    "ray.shutdown()"
   ]
  },
  {
   "cell_type": "code",
   "execution_count": 14,
   "metadata": {
    "tags": []
   },
   "outputs": [
    {
     "name": "stderr",
     "output_type": "stream",
     "text": [
      "2023-09-12 15:00:54,696\tINFO worker.py:1352 -- Connecting to existing Ray cluster at address: 141.24.193.47:6379...\n",
      "2023-09-12 15:00:54,700\tINFO worker.py:1529 -- Connected to Ray cluster. View the dashboard at \u001b[1m\u001b[32m141.24.193.47:5990 \u001b[39m\u001b[22m\n"
     ]
    }
   ],
   "source": [
    "ray.init(address='auto', _redis_password='5241590000000000')\n",
    "futures = []\n",
    "remote_qmc_uq = ray.remote(num_cpus=1)(qmc_uq)\n",
    "remote_naive_uq = ray.remote(num_cpus=1)(naive_uq)"
   ]
  },
  {
   "cell_type": "code",
   "execution_count": null,
   "metadata": {
    "scrolled": true,
    "tags": []
   },
   "outputs": [],
   "source": [
    "if True:\n",
    "    futures = list(futures)\n",
    "else:\n",
    "    futures = []\n",
    "\n",
    "for example_num in [1]:\n",
    "    for run_num in range(30):\n",
    "        for MCS_exponent in range(6,7):\n",
    "            N_mcs = int(10**(float(MCS_exponent)))\n",
    "            this_result_dir = os.path.join(result_dir, f'{example_num}-{N_mcs}/{run_num}/')\n",
    "            N_parts = 50\n",
    "            parts = np.linspace(0,N_mcs,N_parts+1, dtype=int)\n",
    "            for part in range(N_parts):\n",
    "                imp_path = os.path.join(this_result_dir, f'polyuq_imp_{parts[part]}.npz')\n",
    "                if os.path.exists(imp_path): continue\n",
    "                # print(N_mcs, example_num, run_num, parts[part], parts[part+1])\n",
    "                futures.append(remote_qmc_uq.remote(N_mcs, example_num, run_num, start_ale=parts[part], end_ale=parts[part+1]))\n",
    "            # futures.append(remote_naive_uq.remote(N_mcs, example_num, run_num))\n",
    "    \n",
    "# for ret_name in ['damp_freqs','zetas','frf']:\n",
    "#     if ret_name != 'frf':\n",
    "#         # continue\n",
    "#         for mode_ind in range(14):\n",
    "#             ret_ind = {'modes':mode_ind}\n",
    "#             # est_stoch(poly_uq, result_dir, ret_name, ret_ind)\n",
    "#             submit()\n",
    "#     else:\n",
    "#         # continue\n",
    "#         for freq_ind in range(1025):\n",
    "#             for space_ind in [2,1]:\n",
    "#                 ret_ind = {'frequencies':freq_ind, 'space':space_ind}\n",
    "#                 submit()\n",
    "# futures = set(futures)"
   ]
  },
  {
   "cell_type": "code",
   "execution_count": null,
   "metadata": {
    "tags": []
   },
   "outputs": [],
   "source": [
    "futures = set(futures)\n",
    "display(futures)\n",
    "while True:\n",
    "    ready, wait = ray.wait(\n",
    "        list(futures), num_returns=min(len(futures), 10), timeout=60)\n",
    "    finished = []\n",
    "    failed = []\n",
    "    for obj_ref in ready:\n",
    "        try:\n",
    "            ret_sets = ray.get(obj_ref)\n",
    "            finished.append(obj_ref)\n",
    "        except ray.exceptions.RayTaskError as e:\n",
    "            print(e)\n",
    "            failed.append(obj_ref)\n",
    "    \n",
    "    size_before = len(futures)\n",
    "    futures.difference_update(finished)\n",
    "    futures.difference_update(failed)\n",
    "    print(f\"Finished {len(finished)}, failed {len(failed)} samples. Remaining {len(futures)} samples. (before {size_before})\")\n",
    "        \n",
    "    if len(futures) == 0:\n",
    "        break"
   ]
  },
  {
   "cell_type": "code",
   "execution_count": null,
   "metadata": {
    "scrolled": true,
    "tags": []
   },
   "outputs": [],
   "source": [
    "done_naive, done_poly, not_done = 0,0,0\n",
    "which_poly = []\n",
    "for example_num in range(5):\n",
    "    for run_num in range(30):\n",
    "        for MCS_exponent in range(2,7):\n",
    "            N_mcs = int(10**(float(MCS_exponent)))\n",
    "            this_result_dir = os.path.join(result_dir, f'{example_num}-{N_mcs}/{run_num}/')\n",
    "            save_path = os.path.join(this_result_dir, 'naive_uq.npz')\n",
    "            this_result_dir = os.path.join(result_dir, f'{example_num}-{N_mcs}/{run_num}/')\n",
    "            inc_path = os.path.join(this_result_dir, 'polyuq_inc.npz')\n",
    "            \n",
    "            if os.path.exists(inc_path):\n",
    "                done_poly += 1\n",
    "                \n",
    "            elif os.path.exists(save_path):\n",
    "                done_naive += 1\n",
    "                which_poly.append(inc_path)\n",
    "            else:\n",
    "                not_done += 1\n",
    "                which_poly.append(inc_path)\n",
    "print(done_naive, done_poly, not_done)\n",
    "for p in sorted(which_poly):\n",
    "    print(p)"
   ]
  },
  {
   "cell_type": "code",
   "execution_count": 15,
   "metadata": {},
   "outputs": [
    {
     "data": {
      "application/vnd.jupyter.widget-view+json": {
       "model_id": "440710e01ace465693df015a4c891173",
       "version_major": 2,
       "version_minor": 0
      },
      "image/png": "[encoded data removed]",
      "text/html": [
       "\n",
       "            <div style=\"display: inline-block;\">\n",
       "                <div class=\"jupyter-widgets widget-label\" style=\"text-align: center;\">\n",
       "                    Figure\n",
       "                </div>\n",
       "                <img src='data:image/png;base64,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' width=640.0/>\n",
       "            </div>\n",
       "        "
      ],
      "text/plain": [
       "Canvas(toolbar=Toolbar(toolitems=[('Home', 'Reset original view', 'home', 'home'), ('Back', 'Back to previous …"
      ]
     },
     "metadata": {},
     "output_type": "display_data"
    }
   ],
   "source": [
    "example_num = 3\n",
    "N_mcs_vec = (10**(np.arange(2,7))).astype(int)\n",
    "conf = np.zeros((N_mcs_vec.shape[0],2))\n",
    "minmax=1\n",
    "i_hyc = 3\n",
    "uq_type = 1\n",
    "fig, axes = plt.subplots(1,1,sharex=True, sharey=True)\n",
    "axes = [axes,axes]\n",
    "reference = [np.full((1,2), np.nan),\n",
    "             np.full((2,2), np.nan),\n",
    "             np.full((2,2), np.nan),\n",
    "             np.full((4,2), np.nan),\n",
    "             np.full((4,2), np.nan),]\n",
    "\n",
    "for minmax in range(2):\n",
    "    # plt.figure()   \n",
    "    for example_num in range(3,4):\n",
    "        for uq_type in range(2):\n",
    "            for i_mcs in reversed(range(N_mcs_vec.shape[0])):\n",
    "                # print(i_mcs)\n",
    "                N_mcs = N_mcs_vec[i_mcs]\n",
    "                this_focals = []\n",
    "                for run_num in range(30):\n",
    "                    this_result_dir = os.path.join(result_dir, f'{example_num}-{N_mcs}/{run_num}/')\n",
    "                    if uq_type==0:\n",
    "                        save_path = os.path.join(this_result_dir, 'naive_uq.npz')\n",
    "                        focals_stats = np.load(save_path)['arr_0']\n",
    "                    elif os.path.exists(os.path.join(this_result_dir, 'polyuq_inc.npz')):\n",
    "                        inc_path = os.path.join(this_result_dir, 'polyuq_inc.npz')\n",
    "                        focals_stats = np.load(inc_path, allow_pickle=True)['self.focals_stats'] * 1e4\n",
    "                    else:\n",
    "                        focals_stats = np.full((1,i_hyc+1,2), np.nan)\n",
    "\n",
    "                    this_focals.append(focals_stats[0,i_hyc,:])\n",
    "\n",
    "                this_focals = np.vstack(this_focals)\n",
    "                \n",
    "                if minmax==0:\n",
    "                    data = np.nanmin(this_focals, axis=1)\n",
    "                else:\n",
    "                    data = np.nanmax(this_focals, axis=1)\n",
    "                    \n",
    "                conf[i_mcs,:] = scipy.stats.t.interval(confidence=0.95, df=len(data)-1, loc=np.mean(data), scale=scipy.stats.sem(data))\n",
    "                if i_mcs == N_mcs_vec.shape[0]-1 and uq_type==0:\n",
    "                    reference[example_num][i_hyc,minmax] = conf[i_mcs,:].mean()\n",
    "                # print(reference[example_num][i_hyc,minmax])\n",
    "                conf[i_mcs,:] -= reference[example_num][i_hyc,minmax]\n",
    "            # else:\n",
    "                # if minmax:\n",
    "                #     print(example_num, '\\n', focals_stats)\n",
    "                # print(example_num, minmax, conf[i_mcs, :])\n",
    "            axes[minmax].fill_between(N_mcs_vec, conf[:,0], conf[:,1], label=f'{example_num} ' + ['naive','qmc'][uq_type], alpha=0.5)\n",
    "            # axes[minmax].plot(N_mcs_vec, np.abs(conf.mean(axis=1)), label=f'{example_num} ' + ['naive','qmc'][uq_type] + ' ' + ['min','max'][minmax], alpha=0.5)\n",
    "plt.legend()\n",
    "plt.xscale('log')\n",
    "# plt.yscale('log')\n",
    "plt.xlim(N_mcs_vec.min(),N_mcs_vec.max())\n",
    "plt.show()"
   ]
  },
  {
   "cell_type": "code",
   "execution_count": 24,
   "metadata": {},
   "outputs": [
    {
     "name": "stdout",
     "output_type": "stream",
     "text": [
      "0 impl-incl (9.93337444298441, 10.139958890348927) 10.04 0.10 (9.51,10.49)\n",
      "0 impl-incu (nan, nan) nan nan (nan,nan)\n",
      "0 impu-incl (nan, nan) nan nan (nan,nan)\n",
      "0 impu-incu (nan, nan) nan nan (nan,nan)\n",
      "1 impl-incl (7.616858699417572, 7.845807967249097) 7.73 0.11 (6.98,8.45)\n",
      "1 impl-incu (13.170018137156319, 13.417315196177015) 13.29 0.12 (12.59,13.90)\n",
      "1 impu-incl (nan, nan) nan nan (nan,nan)\n",
      "1 impu-incu (nan, nan) nan nan (nan,nan)\n",
      "2 impl-incl (3.572718247714078, 3.7012817522859227) 3.64 0.06 (3.35,3.97)\n",
      "2 impl-incu (nan, nan) nan nan (nan,nan)\n",
      "2 impu-incl (19.128558689525768, 19.343441310474233) 19.24 0.11 (18.31,19.65)\n",
      "2 impu-incu (nan, nan) nan nan (nan,nan)\n",
      "3 impl-incl (2.645473014741459, 2.775860318591875) 2.71 0.07 (2.37,3.08)\n",
      "3 impl-incu (5.006505578531634, 5.174827754801701) 5.09 0.08 (4.69,5.63)\n",
      "3 impu-incl (15.008181287566313, 15.291152045767031) 15.15 0.14 (14.25,15.84)\n",
      "3 impu-incu (24.73275717530586, 25.092576158027473) 24.91 0.18 (23.93,25.94)\n",
      "0 min (9.698632696611666, 10.5728237787699) 10.14 0.44 (8.33,12.66)\n",
      "0 max (9.698632696611666, 10.5728237787699) 10.14 0.44 (8.33,12.66)\n",
      "1 min (7.4580053139716975, 8.258677096549876) 7.86 0.40 (5.90,9.98)\n",
      "1 max (12.89536433975746, 13.867259498746666) 13.38 0.49 (11.28,16.46)\n",
      "2 min (3.1827992541393932, 4.597623439180684) 3.89 0.71 (0.76,8.08)\n",
      "2 max (16.46129767727139, 24.08045744799651) 20.27 3.81 (5.96,54.28)\n",
      "3 min (2.4170353234892255, 3.6434020891647036) 3.03 0.61 (0.48,7.42)\n",
      "3 max (21.716840383559724, 30.528585282018984) 26.12 4.41 (9.17,63.48)\n"
     ]
    }
   ],
   "source": [
    "example_num = 4\n",
    "for uq_type in range(2):\n",
    "    for i_hyc in range(4):\n",
    "        N_mcs = int(1e6)\n",
    "        this_focals = []\n",
    "        for run_num in range(30):\n",
    "            this_result_dir = os.path.join(result_dir, f'{example_num}-{N_mcs}/{run_num}/')\n",
    "            if uq_type==0:\n",
    "                this_result_dir = os.path.join(result_dir, f'{example_num}-{N_mcs}_bak/{run_num}/')\n",
    "                save_path = os.path.join(this_result_dir, 'naive_uq.npz')\n",
    "                focals_stats = np.load(save_path)['arr_0']\n",
    "            elif os.path.exists(os.path.join(this_result_dir, 'polyuq_inc.npz')):\n",
    "                inc_path = os.path.join(this_result_dir, 'polyuq_inc.npz')\n",
    "                focals_stats = np.load(inc_path, allow_pickle=True)['self.focals_stats'] * 1e4\n",
    "            else:\n",
    "                focals_stats = np.full((1,i_hyc+1,2), np.nan)\n",
    "\n",
    "            this_focals.append(focals_stats[0,i_hyc,:])\n",
    "\n",
    "        this_focals = np.vstack(this_focals)\n",
    "        if uq_type==0:\n",
    "            for minmax in range(4):\n",
    "                data = this_focals[:,minmax]\n",
    "\n",
    "                conf = scipy.stats.t.interval(confidence=0.95, df=len(data)-1, loc=np.mean(data), scale=scipy.stats.sem(data))\n",
    "\n",
    "                print(i_hyc, ['impl-incl', 'impl-incu', 'impu-incl', 'impu-incu'][minmax], conf, f'{np.mean(conf):1.2f}', f'{conf[1]-np.mean(conf):1.2f}', f'({np.min(data):1.2f},{np.max(data):1.2f})')\n",
    "        else:\n",
    "            for minmax in range(2):\n",
    "                if minmax==0:\n",
    "                    data = np.nanmin(this_focals, axis=1)\n",
    "                else:\n",
    "                    data = np.nanmax(this_focals, axis=1)\n",
    "\n",
    "                conf = scipy.stats.t.interval(confidence=0.95, df=len(data)-1, loc=np.mean(data), scale=scipy.stats.sem(data))\n",
    "\n",
    "                print(i_hyc, ['min', 'max'][minmax], conf, f'{np.mean(conf):1.2f}', f'{conf[1]-np.mean(conf):1.2f}', f'({np.min(data):1.2f},{np.max(data):1.2f})')\n"
   ]
  },
  {
   "cell_type": "code",
   "execution_count": 42,
   "metadata": {},
   "outputs": [
    {
     "name": "stdout",
     "output_type": "stream",
     "text": [
      "Mixed Imprecision and Incompleteness example...\n"
     ]
    },
    {
     "data": {
      "text/plain": [
       "[-9.094107897791055, 38.664107897762875]"
      ]
     },
     "metadata": {},
     "output_type": "display_data"
    },
    {
     "data": {
      "text/plain": [
       "[-1.5068486176457974, 17.506848617634176]"
      ]
     },
     "metadata": {},
     "output_type": "display_data"
    },
    {
     "data": {
      "text/plain": [
       "[-0.980273944705832, -0.21972605529463296]"
      ]
     },
     "metadata": {},
     "output_type": "display_data"
    },
    {
     "data": {
      "text/plain": [
       "[-0.12287667397051882, 0.9228766739698796]"
      ]
     },
     "metadata": {},
     "output_type": "display_data"
    },
    {
     "name": "stdout",
     "output_type": "stream",
     "text": [
      "INFO:uncertainty.polymorphic_uncertainty:Loading previous results from  /usr/scratch4/sima9999/work/modal_uq/uq_simple_beam/4-1000000/1/polyuq_prop.npz\n"
     ]
    },
    {
     "data": {
      "text/html": [
       "<div>\n",
       "<style scoped>\n",
       "    .dataframe tbody tr th:only-of-type {\n",
       "        vertical-align: middle;\n",
       "    }\n",
       "\n",
       "    .dataframe tbody tr th {\n",
       "        vertical-align: top;\n",
       "    }\n",
       "\n",
       "    .dataframe thead th {\n",
       "        text-align: right;\n",
       "    }\n",
       "</style>\n",
       "<table border=\"1\" class=\"dataframe\">\n",
       "  <thead>\n",
       "    <tr style=\"text-align: right;\">\n",
       "      <th></th>\n",
       "      <th>q1</th>\n",
       "      <th>mu1</th>\n",
       "      <th>sig1</th>\n",
       "      <th>q2</th>\n",
       "      <th>dq2a0l</th>\n",
       "      <th>dq2a0r</th>\n",
       "    </tr>\n",
       "  </thead>\n",
       "  <tbody>\n",
       "    <tr>\n",
       "      <th>0</th>\n",
       "      <td>-9.094108</td>\n",
       "      <td>13.96</td>\n",
       "      <td>3.66</td>\n",
       "      <td>-2.487123</td>\n",
       "      <td>-0.980274</td>\n",
       "      <td>-0.122877</td>\n",
       "    </tr>\n",
       "    <tr>\n",
       "      <th>1</th>\n",
       "      <td>38.664108</td>\n",
       "      <td>15.61</td>\n",
       "      <td>4.85</td>\n",
       "      <td>18.429725</td>\n",
       "      <td>-0.219726</td>\n",
       "      <td>0.922877</td>\n",
       "    </tr>\n",
       "  </tbody>\n",
       "</table>\n",
       "</div>"
      ],
      "text/plain": [
       "          q1    mu1  sig1         q2    dq2a0l    dq2a0r\n",
       "0  -9.094108  13.96  3.66  -2.487123 -0.980274 -0.122877\n",
       "1  38.664108  15.61  4.85  18.429725 -0.219726  0.922877"
      ]
     },
     "metadata": {},
     "output_type": "display_data"
    },
    {
     "name": "stdout",
     "output_type": "stream",
     "text": [
      "INFO:uncertainty.polymorphic_uncertainty:Loading previous results from  /usr/scratch4/sima9999/work/modal_uq/uq_simple_beam/4-1000000/1/polyuq_imp.npz\n",
      "INFO:uncertainty.polymorphic_uncertainty:Loading previous results from  /usr/scratch4/sima9999/work/modal_uq/uq_simple_beam/4-1000000/1/polyuq_inc.npz\n"
     ]
    }
   ],
   "source": [
    "example_num = 4\n",
    "N_mcs = 1000000\n",
    "run_num=1\n",
    "logger = logging.getLogger('uncertainty.polymorphic_uncertainty')\n",
    "logger.setLevel(level=logging.INFO)\n",
    "\n",
    "this_result_dir = os.path.join(result_dir, f'{example_num}-{N_mcs}/{run_num}/')\n",
    "\n",
    "prop_path = os.path.join(this_result_dir, 'polyuq_prop.npz')\n",
    "imp_path = os.path.join(this_result_dir, 'polyuq_imp.npz')\n",
    "inc_path = os.path.join(this_result_dir, 'polyuq_inc.npz')\n",
    "\n",
    "_, dim_ex, vars_ale, vars_epi, = [example_a, example_b, example_c, example_d, example_e][example_num]()\n",
    "\n",
    "for var in vars_ale:\n",
    "    display(var.support(percentiles=(0.000001, 0.999999)))\n",
    "poly_uq = PolyUQ(vars_ale, vars_epi, dim_ex=dim_ex)\n",
    "poly_uq.load_state(prop_path)\n",
    "display(poly_uq.var_supp)\n",
    "# poly_uq.sample_qmc(10, 10, percentiles=(0.000001, 0.999999), check_discr=False)\n",
    "# display(poly_uq.var_supp)\n",
    "poly_uq.load_state(imp_path, differential='imp')\n",
    "poly_uq.load_state(inc_path, differential='inc')\n",
    "# poly_uq.var_supp, poly_uq.inp_samp_prim.min(), poly_uq.inp_samp_prim.max()\n"
   ]
  },
  {
   "cell_type": "code",
   "execution_count": null,
   "metadata": {},
   "outputs": [],
   "source": [
    "poly_uq.inp_samp_prim"
   ]
  },
  {
   "cell_type": "code",
   "execution_count": 34,
   "metadata": {},
   "outputs": [
    {
     "data": {
      "text/plain": [
       "(161.5979641129386, 161.5979641129386, -3.8054970057049253, 10.579365379777483)"
      ]
     },
     "execution_count": 34,
     "metadata": {},
     "output_type": "execute_result"
    }
   ],
   "source": [
    "poly_uq.out_samp[270,947], (poly_uq.inp_samp_prim['q1'][270]*189/500+3*poly_uq.inp_samp_prim['q2'][947])*16/3,poly_uq.inp_samp_prim['q1'][270],poly_uq.inp_samp_prim['q2'][947]"
   ]
  },
  {
   "cell_type": "code",
   "execution_count": 40,
   "metadata": {},
   "outputs": [
    {
     "data": {
      "text/plain": [
       "<matplotlib.collections.PathCollection at 0x7fd231d30820>"
      ]
     },
     "execution_count": 40,
     "metadata": {},
     "output_type": "execute_result"
    },
    {
     "data": {
      "application/vnd.jupyter.widget-view+json": {
       "model_id": "78cdb79f31ea498db8dc3ea1604ac85f",
       "version_major": 2,
       "version_minor": 0
      },
      "image/png": "[encoded data removed]",
      "text/html": [
       "\n",
       "            <div style=\"display: inline-block;\">\n",
       "                <div class=\"jupyter-widgets widget-label\" style=\"text-align: center;\">\n",
       "                    Figure\n",
       "                </div>\n",
       "                <img src='data:image/png;base64,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' width=640.0/>\n",
       "            </div>\n",
       "        "
      ],
      "text/plain": [
       "Canvas(toolbar=Toolbar(toolitems=[('Home', 'Reset original view', 'home', 'home'), ('Back', 'Back to previous …"
      ]
     },
     "metadata": {},
     "output_type": "display_data"
    }
   ],
   "source": [
    "plt.figure()\n",
    "plt.scatter(poly_uq.inp_samp_prim['q2'],poly_uq.out_samp[270,:], s=0.1)"
   ]
  },
  {
   "cell_type": "code",
   "execution_count": 36,
   "metadata": {},
   "outputs": [
    {
     "data": {
      "text/plain": [
       "(array([[-15.64571745, -15.64571745],\n",
       "        [-28.54223346,  -6.88464087]]),\n",
       " array([[[-0.49836472, -0.49836472],\n",
       "         [        nan,         nan]],\n",
       " \n",
       "        [[-1.30439697,  0.04920257],\n",
       "         [        nan,         nan]]]))"
      ]
     },
     "execution_count": 36,
     "metadata": {},
     "output_type": "execute_result"
    }
   ],
   "source": [
    "poly_uq.imp_foc[270,...], poly_uq.val_samp_prim[270,...]"
   ]
  },
  {
   "cell_type": "code",
   "execution_count": 37,
   "metadata": {},
   "outputs": [
    {
     "data": {
      "text/plain": [
       "(q2       -0.498365\n",
       " dq2a0l   -0.806032\n",
       " dq2a0r    0.548444\n",
       " Name: 270, dtype: float64,\n",
       " mu1     15.537473\n",
       " sig1     4.579199\n",
       " Name: 270, dtype: float64,\n",
       " q1   -3.805497\n",
       " q2   -0.498365\n",
       " Name: 270, dtype: float64)"
      ]
     },
     "execution_count": 37,
     "metadata": {},
     "output_type": "execute_result"
    }
   ],
   "source": [
    "poly_uq.inp_suppl_ale.iloc[270], poly_uq.inp_suppl_epi.iloc[270], poly_uq.inp_samp_prim.iloc[270]"
   ]
  },
  {
   "cell_type": "code",
   "execution_count": null,
   "metadata": {},
   "outputs": [],
   "source": [
    "logger = logging.getLogger('uncertainty.polymorphic_uncertainty')\n",
    "logger.setLevel(level=logging.INFO)\n",
    "poly_uq.estimate_imp(\n",
    "            interp_fun='nearest',\n",
    "            opt_meth='Powell',\n",
    "            plot_res=True,\n",
    "            plot_intp=False,\n",
    "            intp_err_warn = None,\n",
    "            extrp_warn = 10,\n",
    "            start_ale=270, end_ale=271,\n",
    "            )"
   ]
  },
  {
   "cell_type": "code",
   "execution_count": 38,
   "metadata": {},
   "outputs": [
    {
     "data": {
      "text/plain": [
       "array([[-15.64571745, -15.64571745],\n",
       "       [-28.54223346,  -6.88464087]])"
      ]
     },
     "execution_count": 38,
     "metadata": {},
     "output_type": "execute_result"
    }
   ],
   "source": [
    "poly_uq.imp_foc[270,...]"
   ]
  },
  {
   "cell_type": "code",
   "execution_count": 33,
   "metadata": {},
   "outputs": [
    {
     "name": "stdout",
     "output_type": "stream",
     "text": [
      "INFO:uncertainty.polymorphic_uncertainty:Loading previous results from  /usr/scratch4/sima9999/work/modal_uq/uq_simple_beam/4-1000000/1/polyuq_inc.npz\n"
     ]
    },
    {
     "data": {
      "text/plain": [
       "array([[[1.00701891e-03, 1.00701891e-03],\n",
       "        [7.52085697e-04, 1.41281301e-03],\n",
       "        [1.42151953e-04, 2.73098280e-03],\n",
       "        [9.99321366e-05, 3.36887631e-03]]])"
      ]
     },
     "metadata": {},
     "output_type": "display_data"
    },
    {
     "name": "stdout",
     "output_type": "stream",
     "text": [
      "INFO:uncertainty.polymorphic_uncertainty:Estimating incompleteness intervals by direct L-BFGS optimization of statistics over input hypercubes...\n",
      "|████████████████████████████████████████| 4/4 [100%] in 11:02.1 (0.00/s)       \n"
     ]
    },
    {
     "data": {
      "text/plain": [
       "array([[[1.00701891e-03, 1.00701891e-03],\n",
       "        [7.52085697e-04, 1.41281301e-03],\n",
       "        [1.42151953e-04, 2.73098280e-03],\n",
       "        [9.99321366e-05, 3.36887631e-03]]])"
      ]
     },
     "metadata": {},
     "output_type": "display_data"
    }
   ],
   "source": [
    "poly_uq.load_state(inc_path, differential='inc')\n",
    "display(poly_uq.focals_stats)\n",
    "logger = logging.getLogger('uncertainty.polymorphic_uncertainty')\n",
    "logger.setLevel(level=logging.INFO)\n",
    "focals_Pf, hyc_mass = poly_uq.optimize_inc(stat_fun, 1)\n",
    "display(poly_uq.focals_stats)"
   ]
  },
  {
   "cell_type": "code",
   "execution_count": 51,
   "metadata": {},
   "outputs": [
    {
     "data": {
      "text/plain": [
       "[[0, 0], [1, 1]]"
      ]
     },
     "execution_count": 51,
     "metadata": {},
     "output_type": "execute_result"
    }
   ],
   "source": [
    "poly_uq.inc_hyc_foc_inds"
   ]
  },
  {
   "cell_type": "code",
   "execution_count": 52,
   "metadata": {},
   "outputs": [],
   "source": [
    "vars_inc = poly_uq.vars_inc\n",
    "numeric_focals = [var.numeric_focals for var in vars_inc]"
   ]
  },
  {
   "cell_type": "code",
   "execution_count": 54,
   "metadata": {},
   "outputs": [
    {
     "data": {
      "text/plain": [
       "([array([[14.79, 14.79],\n",
       "         [13.96, 15.61]]),\n",
       "  array([[4.17, 4.17],\n",
       "         [3.66, 4.85]])],\n",
       " ['mu1', 'sig1'])"
      ]
     },
     "execution_count": 54,
     "metadata": {},
     "output_type": "execute_result"
    }
   ],
   "source": [
    "numeric_focals, [var.name for var in vars_inc]"
   ]
  },
  {
   "cell_type": "code",
   "execution_count": 10,
   "metadata": {},
   "outputs": [
    {
     "data": {
      "text/plain": [
       "q2        26.185379\n",
       "dq2a0l    -0.640420\n",
       "dq2a0r     0.628688\n",
       "Name: 270, dtype: float64"
      ]
     },
     "execution_count": 10,
     "metadata": {},
     "output_type": "execute_result"
    }
   ],
   "source": [
    "poly_uq.inp_suppl_ale.iloc[270]"
   ]
  },
  {
   "cell_type": "code",
   "execution_count": 11,
   "metadata": {},
   "outputs": [
    {
     "data": {
      "text/html": [
       "<div>\n",
       "<style scoped>\n",
       "    .dataframe tbody tr th:only-of-type {\n",
       "        vertical-align: middle;\n",
       "    }\n",
       "\n",
       "    .dataframe tbody tr th {\n",
       "        vertical-align: top;\n",
       "    }\n",
       "\n",
       "    .dataframe thead th {\n",
       "        text-align: right;\n",
       "    }\n",
       "</style>\n",
       "<table border=\"1\" class=\"dataframe\">\n",
       "  <thead>\n",
       "    <tr style=\"text-align: right;\">\n",
       "      <th></th>\n",
       "      <th>q1</th>\n",
       "      <th>mu1</th>\n",
       "      <th>sig1</th>\n",
       "      <th>q2</th>\n",
       "      <th>dq2a0l</th>\n",
       "      <th>dq2a0r</th>\n",
       "    </tr>\n",
       "  </thead>\n",
       "  <tbody>\n",
       "    <tr>\n",
       "      <th>0</th>\n",
       "      <td>-9.094108</td>\n",
       "      <td>13.96</td>\n",
       "      <td>3.66</td>\n",
       "      <td>-2.487123</td>\n",
       "      <td>-0.980274</td>\n",
       "      <td>-0.122877</td>\n",
       "    </tr>\n",
       "    <tr>\n",
       "      <th>1</th>\n",
       "      <td>38.664108</td>\n",
       "      <td>15.61</td>\n",
       "      <td>4.85</td>\n",
       "      <td>35.013697</td>\n",
       "      <td>-0.219726</td>\n",
       "      <td>0.922877</td>\n",
       "    </tr>\n",
       "  </tbody>\n",
       "</table>\n",
       "</div>"
      ],
      "text/plain": [
       "          q1    mu1  sig1         q2    dq2a0l    dq2a0r\n",
       "0  -9.094108  13.96  3.66  -2.487123 -0.980274 -0.122877\n",
       "1  38.664108  15.61  4.85  35.013697 -0.219726  0.922877"
      ]
     },
     "execution_count": 11,
     "metadata": {},
     "output_type": "execute_result"
    }
   ],
   "source": [
    "poly_uq.var_supp"
   ]
  },
  {
   "cell_type": "code",
   "execution_count": null,
   "metadata": {},
   "outputs": [],
   "source": []
  }
 ],
 "metadata": {
  "kernelspec": {
   "display_name": "Python 3 (ipykernel)",
   "language": "python",
   "name": "python3"
  },
  "language_info": {
   "codemirror_mode": {
    "name": "ipython",
    "version": 3
   },
   "file_extension": ".py",
   "mimetype": "text/x-python",
   "name": "python",
   "nbconvert_exporter": "python",
   "pygments_lexer": "ipython3",
   "version": "3.10.8"
  },
  "toc-autonumbering": false,
  "toc-showcode": true
 },
 "nbformat": 4,
 "nbformat_minor": 4
}
