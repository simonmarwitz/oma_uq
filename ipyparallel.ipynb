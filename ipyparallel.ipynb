{
 "cells": [
  {
   "cell_type": "code",
   "execution_count": 1,
   "metadata": {},
   "outputs": [
    {
     "data": {
      "text/plain": [
       "<subprocess.Popen at 0x7f8addec0748>"
      ]
     },
     "execution_count": 1,
     "metadata": {},
     "output_type": "execute_result"
    }
   ],
   "source": [
    "import sys\n",
    "sys.path.append('/vegas/apps/compiler/intel/intelpython3/bin')\n",
    "\n",
    "import subprocess\n",
    "nengines = 30 # or whatever\n",
    "subprocess.Popen([\"ipcluster\", \"start\", \"-n={:d}\".format(nengines), \"--profile=slurm\"])"
   ]
  },
  {
   "cell_type": "code",
   "execution_count": 3,
   "metadata": {
    "scrolled": true
   },
   "outputs": [
    {
     "name": "stdout",
     "output_type": "stream",
     "text": [
      "[0, 1, 2, 3, 4, 5, 6, 7, 8, 9, 10, 11, 12, 13, 14, 15, 16, 17, 18, 19, 20, 21, 22, 23, 24, 25, 26, 27, 28, 29]\n"
     ]
    }
   ],
   "source": [
    "import ipyparallel\n",
    "clients = ipyparallel.Client(profile='slurm')\n",
    "print(clients.ids)"
   ]
  },
  {
   "cell_type": "code",
   "execution_count": 11,
   "metadata": {},
   "outputs": [],
   "source": [
    "def testfun():\n",
    "    print(123)\n",
    "    import matplotlib.pyplot as plot\n",
    "    plot.plot([1,2,3])\n",
    "\n",
    "    return 456"
   ]
  },
  {
   "cell_type": "code",
   "execution_count": 19,
   "metadata": {},
   "outputs": [
    {
     "data": {
      "text/plain": [
       "<AsyncResult: testfun>"
      ]
     },
     "execution_count": 19,
     "metadata": {},
     "output_type": "execute_result"
    }
   ],
   "source": [
    "clients[1].apply_sync(testfun)"
   ]
  },
  {
   "cell_type": "code",
   "execution_count": 41,
   "metadata": {},
   "outputs": [],
   "source": [
    "import glob\n",
    "import os\n",
    "import subprocess\n",
    "import matplotlib.pyplot as plt\n",
    "import numpy as np\n",
    "import scipy.io as sio"
   ]
  },
  {
   "cell_type": "code",
   "execution_count": 76,
   "metadata": {
    "scrolled": true
   },
   "outputs": [
    {
     "name": "stdout",
     "output_type": "stream",
     "text": [
      "[16.02036337] [39.99782139]\n",
      "[-6.93889390e-18  1.20193732e-02  2.40387464e-02  3.60581196e-02\n",
      "  4.80774928e-02  6.00968660e-02  7.21162392e-02  8.41356125e-02\n",
      "  9.61549857e-02  1.08174359e-01  1.20193732e-01  1.32213105e-01]\n",
      "0.012019284440706586 0.07211570664423952\n",
      "[-6.93889390e-18  7.21162392e-02  1.44232478e-01 ...  1.62730294e+03\n",
      "  1.62737505e+03  1.62744717e+03]\n",
      "0.07211304374002986\n"
     ]
    }
   ],
   "source": [
    "dir = '/vegas/scratch/womo1998/data_hadidi/datasets_linear_ambient/*.csv'\n",
    "files = glob.glob(dir)\n",
    "while True:\n",
    "    snr_db=(np.random.rand(1)-0.5)*2*20 # -20 dB to 20 dB\n",
    "    snr=10**(snr_db/10)\n",
    "    print(snr_db,snr)\n",
    "    #snr=np.infty\n",
    "    file=files[np.random.randint(0,len(files))]\n",
    "    \n",
    "    array=np.loadtxt(file)\n",
    "    \n",
    "#     plt.figure()\n",
    "    \n",
    "#     plt.psd(array[:,1],Fs=array.shape[0]/(array[-1,0]-array[0,0]))\n",
    "    power=np.mean(array[:,1]**2)\n",
    "\n",
    "#     plt.axhline(10*np.log10(power), color='red')\n",
    "#     ymin,ymax=plt.ylim()\n",
    "#     ymin=ymax-0.25*(ymax-ymin)\n",
    "#     plt.ylim(ymin=ymin)\n",
    "    #decimate\n",
    "    print(array[:12,0])\n",
    "    print((array[-1,0]-array[0,0])/array.shape[0],6*(array[-1,0]-array[0,0])/array.shape[0])\n",
    "    array=array[::6,:]\n",
    "    print(array[:,0])\n",
    "    print((array[-1,0]-array[0,0])/array.shape[0])\n",
    "    power2=np.mean(array[:,1]**2)\n",
    "    N=array.shape[0]\n",
    "    # add noise\n",
    "    noise_power = power/snr\n",
    "    noise=np.random.normal(0,np.sqrt(noise_power),N)\n",
    "    power_noise=np.mean(noise**2)\n",
    "#     print(power,snr,np.sqrt(noise_power),noise)\n",
    "    \n",
    "    snr_actual=power/power_noise\n",
    "    snr_actual_db= 10*np.log10(snr_actual)\n",
    "    \n",
    "#     print(snr_actual_db,snr_actual)\n",
    "    \n",
    "    array[:,1]+=noise\n",
    "    \n",
    "#     plt.figure()\n",
    "#     plt.psd(array[:,1],Fs=array.shape[0]/(array[-1,0]-array[0,0]))\n",
    "    \n",
    "#     plt.psd(noise,Fs=array.shape[0]/(array[-1,0]-array[0,0]))\n",
    "    \n",
    "#     plt.axhline(10*np.log10(power), color='red')\n",
    "#     plt.axhline(10*np.log10(power2), color='yellow', ls='dashed')\n",
    "    \n",
    "#     plt.axhline(10*np.log10(power_noise), color='green')\n",
    "#     _,ymax=plt.ylim()\n",
    "#     plt.ylim(ymax=max(ymax,10*np.log10(power),10*np.log10(power_noise)),ymin=ymin)\n",
    "    cov = np.zeros(N)\n",
    "    for i in range(N):\n",
    "        cov[i]=array[:N-i,1].dot(array[i:,1])/(N-i)\n",
    "    \n",
    "#     plt.figure()\n",
    "#     plt.plot(array[:,0],cov)\n",
    "#     plt.show()\n",
    "    \n",
    "    mdict={'disp':array, 'corr':cov}\n",
    "    \n",
    "    sio.savemat('/vegas/scratch/womo1998/data_hadidi/test.mat', mdict, appendmat=True, format='5', long_field_names=False, do_compression=True, oned_as='row')\n",
    "    break    \n"
   ]
  },
  {
   "cell_type": "code",
   "execution_count": 135,
   "metadata": {},
   "outputs": [
    {
     "name": "stdout",
     "output_type": "stream",
     "text": [
      "[0.  0.1 0.2 0.3 0.4 0.5 0.6 0.7 0.8 0.9 1.  1.1 1.2 1.3 1.4 1.5 1.6 1.7\n",
      " 1.8 1.9 2.  2.1 2.2 2.3 2.4 2.5 2.6 2.7 2.8 2.9 3.  3.1 3.2 3.3] 0.09999999999999999\n",
      "[0.1 0.7 1.3 1.9 2.5 3.1] 0.6\n"
     ]
    }
   ],
   "source": [
    "ind=np.arange(0,34)\n",
    "t=ind/10\n",
    "print(t,((t[-1]-t[0])/(len(t)-1)))\n",
    "tdec=t[1::6]\n",
    "print(tdec,((tdec[-1]-tdec[0])/(len(tdec)-1)))\n"
   ]
  },
  {
   "cell_type": "code",
   "execution_count": null,
   "metadata": {},
   "outputs": [],
   "source": []
  }
 ],
 "metadata": {
  "kernelspec": {
   "display_name": "Python 3",
   "language": "python",
   "name": "python3"
  },
  "language_info": {
   "codemirror_mode": {
    "name": "ipython",
    "version": 3
   },
   "file_extension": ".py",
   "mimetype": "text/x-python",
   "name": "python",
   "nbconvert_exporter": "python",
   "pygments_lexer": "ipython3",
   "version": "3.7.7"
  }
 },
 "nbformat": 4,
 "nbformat_minor": 2
}
