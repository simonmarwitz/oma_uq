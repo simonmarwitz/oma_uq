{
 "cells": [
  {
   "cell_type": "code",
   "execution_count": 9,
   "id": "48d92d89",
   "metadata": {},
   "outputs": [],
   "source": [
    "%matplotlib widget\n",
    "import matplotlib\n",
    "import sys\n",
    "sys.path.append('/usr/wrk/people9/sima9999/git/pyOMA')\n",
    "import os\n",
    "from pathlib import Path\n",
    "\n",
    "import numpy as np\n",
    "import matplotlib.pyplot as plt \n",
    "import ipywidgets\n",
    "import ipympl.backend_nbagg # the ''%matplotlib widget' backend\n",
    "#from matplotlib.backends.backend_nbagg import FigureCanvasNbAgg # the ''%matplotlib notebook' backend\n",
    "\n",
    "from core.PreprocessingTools import PreprocessData, GeometryProcessor\n",
    "from core.ModalBase import ModalBase\n",
    "from core.PLSCF import PLSCF\n",
    "from core.PRCE import PRCE\n",
    "from core.SSICovRef import BRSSICovRef, PogerSSICovRef\n",
    "from core.SSIData import SSIData, SSIDataMC\n",
    "from core.VarSSIRef import VarSSIRef\n",
    "from core.StabilDiagram import StabilCalc, StabilCluster, StabilPlot, DataCursor\n",
    "from core.PostProcessingTools import MergePoSER\n",
    "from core.PlotMSH import ModeShapePlot"
   ]
  },
  {
   "cell_type": "code",
   "execution_count": 10,
   "id": "d001b95c",
   "metadata": {},
   "outputs": [],
   "source": [
    "PreprocessData.load_measurement_file = np.load\n",
    "\n",
    "working_dir = Path('/usr/wrk/people9/sima9999/git/pyOMA/tests/files/')\n",
    "\n",
    "geometry_data = GeometryProcessor.load_geometry(\n",
    "    nodes_file=working_dir / 'grid.txt',\n",
    "    lines_file=working_dir / 'lines.txt')\n",
    "\n",
    "result_folder = Path('/usr/wrk/people9/sima9999/git/pyOMA/tests/files/measurement_1/')\n",
    "meas_name = os.path.basename(result_folder)\n",
    "\n",
    "setup_info=result_folder / 'setup_info.txt'\n",
    "meas_file=result_folder / (meas_name + '.npy')\n",
    "conf_file=working_dir / 'varssi_config.txt'\n",
    "method=BRSSICovRef\n",
    "geometry_data=geometry_data\n",
    "chan_dofs_file=result_folder / \"channel_dofs.txt\"\n",
    "skip_existing=True\n",
    "save_results=False\n",
    "interactive=True"
   ]
  },
  {
   "cell_type": "code",
   "execution_count": 11,
   "id": "84c2791f",
   "metadata": {},
   "outputs": [
    {
     "name": "stdout",
     "output_type": "stream",
     "text": [
      "INFO:core.PreprocessingTools:Now loading previous results from  /usr/wrk/people9/sima9999/git/pyOMA/tests/files/measurement_1/prep_data.npz\n",
      "Now loading previous results from  /usr/wrk/people9/sima9999/git/pyOMA/tests/files/measurement_1/modal_data.npz\n",
      "Covariance Matrices Built\n",
      "State Matrices Computed\n",
      "Modal Parameters Computed\n",
      "Now loading previous results from  /usr/wrk/people9/sima9999/git/pyOMA/tests/files/measurement_1/stabil_data.npz\n"
     ]
    }
   ],
   "source": [
    "if not os.path.exists(result_folder / 'prep_data.npz') or not skip_existing:\n",
    "    prep_data = PreprocessData.init_from_config(\n",
    "        conf_file=setup_info,\n",
    "        meas_file=meas_file,\n",
    "        chan_dofs_file=chan_dofs_file)\n",
    "\n",
    "    if save_results:\n",
    "        prep_data.save_state(result_folder / 'prep_data.npz')\n",
    "else:\n",
    "    prep_data = PreprocessData.load_state(result_folder / 'prep_data.npz')\n",
    "\n",
    "if not os.path.exists(\n",
    "        result_folder /\n",
    "        'modal_data.npz') or not skip_existing:\n",
    "\n",
    "    modal_data = method.init_from_config(conf_file, prep_data)\n",
    "\n",
    "    if save_results:\n",
    "        modal_data.save_state(result_folder / 'modal_data.npz')\n",
    "else:\n",
    "    modal_data = method.load_state(\n",
    "        result_folder / 'modal_data.npz', prep_data)\n",
    "\n",
    "if os.path.exists(result_folder / 'stabil_data.npz') and skip_existing:\n",
    "    stabil_calc = StabilCalc.load_state(\n",
    "        result_folder / 'stabil_data.npz', modal_data, prep_data)\n",
    "else:\n",
    "    stabil_calc = StabilCalc(modal_data, prep_data)\n",
    "\n",
    "    "
   ]
  },
  {
   "cell_type": "code",
   "execution_count": 12,
   "id": "96a9b822-35f0-4d7c-ace7-e14f35a37de9",
   "metadata": {},
   "outputs": [],
   "source": [
    "def update_value_view(i):\n",
    "    n, f, stdf, d, stdd, mpc, mp, mpd, dmp, dmpd, mtn, MC, ex_1, ex_2 = stabil_calc.get_modal_values(i)\n",
    "\n",
    "    if stabil_calc.capabilities['std']:\n",
    "        import scipy.stats\n",
    "        num_blocks = stabil_calc.modal_data.num_blocks\n",
    "        stdf = scipy.stats.t.ppf(\n",
    "            0.975, num_blocks) * stdf / np.sqrt(num_blocks)\n",
    "        stdd = scipy.stats.t.ppf(\n",
    "            0.975, num_blocks) * stdd / np.sqrt(num_blocks)\n",
    "\n",
    "    current_mode = i\n",
    "    s = ''\n",
    "    for text, val in [('Frequency=%1.3fHz, \\n' % (f), f),\n",
    "                      ('CI Frequency ± %1.3e, \\n' % (stdf), stdf),\n",
    "                      ('Order=%1.0f, \\n' % (n), n),\n",
    "                      ('Damping=%1.3f%%,  \\n' % (d), d),\n",
    "                      ('CI Damping ± %1.3e,  \\n' % (stdd), stdd),\n",
    "                      ('MPC=%1.5f, \\n' % (mpc), mpc),\n",
    "                      ('MP=%1.3f\\u00b0, \\n' % (mp), mp),\n",
    "                      ('MPD=%1.5f\\u00b0, \\n' % (mpd), mpd),\n",
    "                      ('dMP=%1.3f\\u00b0, \\n' % (dmp), dmp),\n",
    "                      #('dMPD=%1.5f\\u00b0, \\n' % (dmpd),     dmpd),\n",
    "                      ('MTN=%1.5f, \\n' % (mtn), mtn),\n",
    "                      ('MC=%1.5f, \\n' % (MC), MC),\n",
    "                      ('Ext=%1.5f\\u00b0, \\n' % (ex_1), ex_1),\n",
    "                      ('Ext=%1.3f\\u00b0, \\n' % (ex_2), ex_2)\n",
    "                      ]:\n",
    "        if val is not np.nan:\n",
    "            s += text\n",
    "    current_value_view.value = s\n",
    "    \n",
    "    return"
   ]
  },
  {
   "cell_type": "code",
   "execution_count": 13,
   "id": "b951c913",
   "metadata": {},
   "outputs": [
    {
     "name": "stdout",
     "output_type": "stream",
     "text": [
      "Which backend are we using?  module://ipympl.backend_nbagg\n"
     ]
    },
    {
     "data": {
      "application/vnd.jupyter.widget-view+json": {
       "model_id": "f02178e19b6d4a7f80b0765031c9f91b",
       "version_major": 2,
       "version_minor": 0
      },
      "text/plain": [
       "GridspecLayout(children=(Canvas(header_visible=False, layout=Layout(grid_area='widget001'), toolbar=Toolbar(to…"
      ]
     },
     "metadata": {},
     "output_type": "display_data"
    }
   ],
   "source": [
    "if interactive:\n",
    "    stabil_plot = StabilPlot(stabil_calc)\n",
    "    stabil_plot.update_stabilization() # initialize the plot\n",
    "    \n",
    "    print('Which backend are we using? ', plt.get_backend())\n",
    "\n",
    "    df_max = stabil_calc.df_max * 100\n",
    "    dd_max = stabil_calc.dd_max * 100\n",
    "    dmac_max = stabil_calc.dmac_max * 100\n",
    "    d_range = stabil_calc.d_range\n",
    "    mpc_min = stabil_calc.mpc_min\n",
    "    mpd_max = stabil_calc.mpd_max\n",
    "\n",
    "\n",
    "    freq_range = ipywidgets.FloatRangeSlider(\n",
    "        orientation='horizontal',\n",
    "        description='Frequency Range:',\n",
    "        value=stabil_plot.ax.get_xlim(),\n",
    "        min=0,\n",
    "        max=prep_data.sampling_rate/2,\n",
    "        step=prep_data.sampling_rate/2/100,\n",
    "        readout=False\n",
    "    )\n",
    "    df_edit = ipywidgets.FloatText(\n",
    "        value=df_max,\n",
    "        description='Frequency [%]:',\n",
    "        disabled=False\n",
    "    )\n",
    "    \n",
    "    current_value_view = ipywidgets.Textarea(\n",
    "        value='',\n",
    "        placeholder='',\n",
    "        description='String:',\n",
    "        disabled=False\n",
    "        )\n",
    "\n",
    "    freq_range.layout.margin = '0px 0% 0px 0%'\n",
    "    freq_range.layout.width = '100%'\n",
    "\n",
    "    fig = stabil_plot.fig\n",
    "    canvas = ipympl.backend_nbagg.Canvas(fig)\n",
    "    manager = ipympl.backend_nbagg.FigureManager(canvas, 0)\n",
    "    canvas.header_visible = False\n",
    "    canvas.toolbar_position = 'right'\n",
    "    \n",
    "    cursor = stabil_plot.init_cursor(False)\n",
    "    cursor.add_callback('show_current_info', update_value_view)\n",
    "    \n",
    "    \n",
    "    def update_xlim(change):\n",
    "        xlim = change.new\n",
    "        stabil_plot.ax.set_xlim(xlim)\n",
    "        redraw()\n",
    "\n",
    "    def update_df(change):\n",
    "        df_max = change.new/100\n",
    "        stabil_plot.update_stabilization(df_max=df_max)\n",
    "        redraw()\n",
    "\n",
    "    def redraw():\n",
    "        fig.canvas.draw()\n",
    "        fig.canvas.flush_events()\n",
    "\n",
    "    freq_range.observe(update_xlim, names='value')\n",
    "    df_edit.observe(update_df, names='value')\n",
    "\n",
    "    grid = ipywidgets.GridspecLayout(4, 8)\n",
    "    grid[:3, 1:] = fig.canvas\n",
    "    grid[0, 0] = df_edit\n",
    "    grid[1, 0] = current_value_view\n",
    "    grid[3, 1:] = freq_range\n",
    "\n",
    "    display(grid)"
   ]
  },
  {
   "cell_type": "code",
   "execution_count": 19,
   "id": "c17659e4",
   "metadata": {},
   "outputs": [],
   "source": [
    "stabil_plot.toggle_stable(True)"
   ]
  },
  {
   "cell_type": "code",
   "execution_count": 6,
   "id": "b3e857e9",
   "metadata": {},
   "outputs": [],
   "source": [
    "if save_results:\n",
    "    stabil_calc.save_state(result_folder / 'stabil_data.npz')"
   ]
  },
  {
   "cell_type": "code",
   "execution_count": null,
   "id": "b6dbd2ff",
   "metadata": {},
   "outputs": [],
   "source": []
  }
 ],
 "metadata": {
  "kernelspec": {
   "display_name": "Python 3",
   "language": "python",
   "name": "python3"
  },
  "language_info": {
   "codemirror_mode": {
    "name": "ipython",
    "version": 3
   },
   "file_extension": ".py",
   "mimetype": "text/x-python",
   "name": "python",
   "nbconvert_exporter": "python",
   "pygments_lexer": "ipython3",
   "version": "3.8.5"
  }
 },
 "nbformat": 4,
 "nbformat_minor": 5
}
