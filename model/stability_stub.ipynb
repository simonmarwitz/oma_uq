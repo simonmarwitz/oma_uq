{
 "cells": [
  {
   "cell_type": "code",
   "execution_count": 1,
   "metadata": {},
   "outputs": [],
   "source": [
    "from sympy import *\n"
   ]
  },
  {
   "cell_type": "code",
   "execution_count": 3,
   "metadata": {},
   "outputs": [],
   "source": [
    "init_printing()\n",
    "from sympy.matrices import *\n",
    "from sympy.plotting import plot3d\n",
    "#from sympy.plotting.plot import unset_show\n",
    "#unset_show()\n",
    "\n",
    "an1,an,dn1,vn1,dn,vn,h,beta,gamma,zeta,omega,A1,A2=symbols('a_{n+1} a_n d_{n+1} v_{n+1} d_n v_n h \\\\beta \\gamma \\zeta \\omega A_1 A_2')\n",
    "h,beta,gamma,zeta,omega,Omega,eta=symbols('h \\\\beta \\gamma \\zeta \\omega \\Omega \\eta')\n",
    "\n",
    "\n",
    "As1=Matrix([[1+beta*h**2*omega**2,h**2*beta*2*omega*zeta],[gamma*h*omega**2,1 + gamma*h*2*omega*zeta]])\n",
    "\n",
    "As2=Matrix([[1-h**2/2*(1-2*beta)*omega**2,h-h**2*(0.5-beta)*2*omega*zeta],[-h*(1-gamma)*omega**2,1-2*h*(1-gamma)*zeta*omega]])\n",
    "\n",
    "As=As1.solve(As2)\n",
    "simplify(0.5*det(simplify(As.subs(omega,Omega/h))))\n",
    "simplify(0.5*trace(simplify(As.subs(omega,Omega/h))))\n",
    "eigvals_s=list(As.subs(omega, Omega/h).eigenvals().keys())\n",
    "\n",
    "\n",
    "A1=Matrix([[1,0, -h**2*beta],[0, 1, -h*gamma],[omega**2,2*zeta*omega, 1]])\n",
    "\n",
    "#A1=Matrix([[1,0, -h**2*beta],[0, 1, -h*gamma],[0,0,0]])\n",
    "\n",
    "#with this one, Eq. 3.17 gives an oscillating response\n",
    "A2=Matrix([[1,h,h**2*(0.5-beta)],[0,1,h*(1-gamma)],[0,0,0]])\n",
    "\n",
    "# with this one, all the other things work -> equivalent to As\n",
    "A2=Matrix([[1,h,h**2*(0.5-beta)],[0,1,h*(1-gamma)],[omega**2,2*zeta*omega, 1]])\n",
    "\n",
    "A=A1.solve(A2)\n",
    "\n",
    "simplify(1/2*trace(simplify(A.subs(omega,Omega/h))))\n",
    "\n",
    "eigvals=list(A.subs(omega, Omega/h).eigenvals().keys())"
   ]
  },
  {
   "cell_type": "code",
   "execution_count": 5,
   "metadata": {},
   "outputs": [
    {
     "data": {
      "image/png": "[encoded data removed]",
      "text/plain": [
       "<Figure size 432x288 with 1 Axes>"
      ]
     },
     "metadata": {},
     "output_type": "display_data"
    },
    {
     "data": {
      "image/png": "[encoded data removed]",
      "text/plain": [
       "<Figure size 432x288 with 1 Axes>"
      ]
     },
     "metadata": {},
     "output_type": "display_data"
    },
    {
     "data": {
      "image/png": "[encoded data removed]",
      "text/plain": [
       "<Figure size 432x288 with 1 Axes>"
      ]
     },
     "metadata": {},
     "output_type": "display_data"
    },
    {
     "data": {
      "image/png": "[encoded data removed]",
      "text/plain": [
       "<Figure size 432x288 with 1 Axes>"
      ]
     },
     "metadata": {},
     "output_type": "display_data"
    }
   ],
   "source": [
    "p11=plot(abs(eigvals[1].subs(zeta,0).subs(beta,0).subs(gamma,0.5)),(Omega,0,10),ylim=(0,10),ylabel='$\\\\rho$', show=False)\n",
    "p21=plot(abs(eigvals[2].subs(zeta,0).subs(beta,0).subs(gamma,0.5)),(Omega,0,10),ylim=(0,10),ylabel='$\\\\rho$', show=False)\n",
    "p11.append(p21[0])\n",
    "p11.show()\n",
    "\n",
    "p12=plot(abs(eigvals_s[0].subs(zeta,0).subs(beta,0).subs(gamma,0.5)),(Omega,0,10),ylim=(0,10),ylabel='$\\\\rho$', show=False)\n",
    "p22=plot(abs(eigvals_s[1].subs(zeta,0).subs(beta,0).subs(gamma,0.5)),(Omega,0,10),ylim=(0,10),ylabel='$\\\\rho$', show=False)\n",
    "p12.append(p22[0])\n",
    "p12.show()\n",
    "\n",
    "p13=plot(abs(eigvals_s[0].subs(zeta,0).subs(beta,0.25).subs(gamma,0.5)),(Omega,0,10),ylim=(0,10),ylabel='$\\\\rho$', show=False)\n",
    "p23=plot(abs(eigvals_s[1].subs(zeta,0).subs(beta,0.25).subs(gamma,0.5)),(Omega,0,10),ylim=(0,10),ylabel='$\\\\rho$', show=False)\n",
    "p13.append(p23[0])\n",
    "p13.show()\n",
    "\n",
    "p14=plot(abs(eigvals[1].subs(zeta,0).subs(beta,0.25).subs(gamma,0.5)),(Omega,0,10),ylim=(0,10),ylabel='$\\\\rho$', show=False)\n",
    "p24=plot(abs(eigvals[2].subs(zeta,0).subs(beta,0.25).subs(gamma,0.5)),(Omega,0,10),ylim=(0,10),ylabel='$\\\\rho$', show=False)\n",
    "p14.append(p24[0])\n",
    "p14.show()"
   ]
  },
  {
   "cell_type": "markdown",
   "metadata": {},
   "source": [
    "This is a <b>test</b>"
   ]
  },
  {
   "cell_type": "code",
   "execution_count": 7,
   "metadata": {},
   "outputs": [
    {
     "data": {
      "image/png": "[encoded data removed]",
      "text/latex": [
       "$$4 \\sqrt{\\frac{1}{- 16 \\beta + 4 \\gamma^{2} + 4 \\gamma + 1}}$$"
      ],
      "text/plain": [
       "       ______________________________________\n",
       "      ╱                  1                   \n",
       "4⋅   ╱  ──────────────────────────────────── \n",
       "    ╱                       2                \n",
       "  ╲╱    -16⋅\\beta + 4⋅\\gamma  + 4⋅\\gamma + 1 "
      ]
     },
     "execution_count": 7,
     "metadata": {},
     "output_type": "execute_result"
    }
   ],
   "source": [
    "root=eigvals_s[0].subs(zeta,0)\n",
    "solve(root.args[1].args[3],beta)[0].subs(Omega,oo) # unconditional stability complex roots\n",
    "solve(root.args[1].args[3],Omega)[1] # bifurcation limit for conditional stability"
   ]
  },
  {
   "cell_type": "code",
   "execution_count": 6,
   "metadata": {},
   "outputs": [],
   "source": [
    "from sympy import *\n",
    "init_printing()\n",
    "beta, gamma, alphaf, alpham = symbols('\\\\beta \\\\gamma \\\\alpha_f \\\\alpha_m')\n",
    "beta_=(Eq(beta,1/4*(1+alphaf-alpham)**2))\n",
    "gamma_=(Eq(gamma,1/2-alpham+alphaf))"
   ]
  },
  {
   "cell_type": "code",
   "execution_count": 9,
   "metadata": {},
   "outputs": [
    {
     "data": {
      "image/png": "[encoded data removed]",
      "text/latex": [
       "$$\\emptyset$$"
      ],
      "text/plain": [
       "∅"
      ]
     },
     "execution_count": 9,
     "metadata": {},
     "output_type": "execute_result"
    }
   ],
   "source": [
    "linsolve((beta_,gamma_),(alphaf,alpham))"
   ]
  },
  {
   "cell_type": "code",
   "execution_count": null,
   "metadata": {},
   "outputs": [],
   "source": []
  }
 ],
 "metadata": {
  "kernelspec": {
   "display_name": "Python 3",
   "language": "python",
   "name": "python3"
  },
  "language_info": {
   "codemirror_mode": {
    "name": "ipython",
    "version": 3
   },
   "file_extension": ".py",
   "mimetype": "text/x-python",
   "name": "python",
   "nbconvert_exporter": "python",
   "pygments_lexer": "ipython3",
   "version": "3.6.5"
  }
 },
 "nbformat": 4,
 "nbformat_minor": 2
}
