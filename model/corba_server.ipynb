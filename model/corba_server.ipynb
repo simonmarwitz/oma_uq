{
 "cells": [
  {
   "cell_type": "code",
   "execution_count": 4,
   "metadata": {
    "scrolled": false
   },
   "outputs": [
    {
     "data": {
      "text/plain": [
       "<subprocess.Popen at 0x7f660c0c5588>"
      ]
     },
     "execution_count": 4,
     "metadata": {},
     "output_type": "execute_result"
    }
   ],
   "source": [
    "import sys\n",
    "import time\n",
    "import os\n",
    "from ansys_corba import CORBA\n",
    "import subprocess\n",
    "os.chdir('/dev/shm/womo1998/')\n",
    "\n",
    "# edit this to match your ansys exe\n",
    "ansys_loc = '/vegas/apps/ansys/v190/ansys/bin/ansys190'\n",
    "\n",
    "# ansys apdl logging here:\n",
    "logfile = 'mapdl_broadcasts.txt'\n",
    "if os.path.isfile(logfile):\n",
    "    os.remove(logfile)\n",
    "\n",
    "# make temporary input file to stop ansys from prompting the user\n",
    "with open('tmp.inp', 'w') as f:\n",
    "    f.write('FINISH')\n",
    "\n",
    "# start ANSYS\n",
    "command = '%s -aas -i tmp.inp -o out.txt -b' % ansys_loc\n",
    "subprocess.Popen(command.split(), stdout=subprocess.PIPE)\n",
    "\n"
   ]
  },
  {
   "cell_type": "code",
   "execution_count": null,
   "metadata": {},
   "outputs": [
    {
     "name": "stdout",
     "output_type": "stream",
     "text": [
      "Starting ANSYS...\n"
     ]
    }
   ],
   "source": [
    "# monitor log file and wait for connection\n",
    "print('Starting ANSYS...')\n",
    "while True:\n",
    "    try:\n",
    "        if os.path.isfile(logfile):\n",
    "            with open(logfile, 'r') as f:\n",
    "                text = f.read()\n",
    "                if 'visited:collaborativecosolverunitior' in text:\n",
    "                    print('ANSYS started')\n",
    "                    break\n",
    "                time.sleep(0.1)\n",
    "    except KeyboardInterrupt:\n",
    "        sys.exit()\n",
    "\n",
    "with open('./aaS_MapdlId.txt') as f:\n",
    "    key = f.read()\n",
    "\n",
    "# create server\n",
    "orb = CORBA.ORB_init()\n",
    "mapdl = orb.string_to_object(key)\n"
   ]
  },
  {
   "cell_type": "code",
   "execution_count": null,
   "metadata": {},
   "outputs": [],
   "source": [
    "# run simple commands to demonstrate this works\n",
    "mapdl.executeCommand('/prep7')\n",
    "out = mapdl.executeCommandToString('cylind, 2, , , 2, 0, 90')\n",
    "print(out.replace('\\\\n', '\\n'))\n",
    "mapdl.executeCommand('FINISH')"
   ]
  },
  {
   "cell_type": "code",
   "execution_count": 9,
   "metadata": {},
   "outputs": [
    {
     "data": {
      "text/plain": [
       "'IOR:010000002d00000049444c3a4141535f434f5242412f4d4150444c2f536f6c766572732f49436f4d6170646c556e69743a312e300000000003000000000000006c000000010102000d0000006172696130322e61646d696e00003bb01b00000014010f005253542ff5765fca0b07000100000001000000020000000002000000000000000800000001000000004f41540100000018000000010000000100010001000000010001050901010000000000000000007c000000010102001c0000006172696130322e626175696e672e756e692d7765696d61722e6465003bb05fca1b00000014010f005253542ff5765fca0b07000100000001000000020000000002000000000000000800000001000000004f415401000000180000000100000001000100010000000100010509010100000000000000000068000000010102000a0000006172696130322e6962003bb01b00000014010f005253542ff5765fca0b07000100000001000000020000002f02000000000000000800000001000000004f41540100000018000000010000000100010001000000010001050901010000000000'"
      ]
     },
     "execution_count": 9,
     "metadata": {},
     "output_type": "execute_result"
    }
   ],
   "source": [
    "key"
   ]
  },
  {
   "cell_type": "code",
   "execution_count": 1,
   "metadata": {},
   "outputs": [
    {
     "name": "stderr",
     "output_type": "stream",
     "text": [
      "2020-10-02 11:33:36,941 [INFO] pyansys.mapdl: Connecting to ANSYS via CORBA\n"
     ]
    }
   ],
   "source": [
    "import pyansys\n",
    "import os\n",
    "import uuid\n",
    "jid=str(uuid.uuid4()).split('-')[-1]\n",
    "working_dir = os.getcwd()\n",
    "ansys = pyansys.Mapdl(exec_file='/vegas/apps/ansys/v190/ansys/bin/ansys190', \n",
    "                      run_location=working_dir, jobname=str(jid),prefer_pexpect=False)\n",
    "                      "
   ]
  },
  {
   "cell_type": "code",
   "execution_count": null,
   "metadata": {},
   "outputs": [],
   "source": []
  }
 ],
 "metadata": {
  "kernelspec": {
   "display_name": "Python 3",
   "language": "python",
   "name": "python3"
  },
  "language_info": {
   "codemirror_mode": {
    "name": "ipython",
    "version": 3
   },
   "file_extension": ".py",
   "mimetype": "text/x-python",
   "name": "python",
   "nbconvert_exporter": "python",
   "pygments_lexer": "ipython3",
   "version": "3.6.5"
  }
 },
 "nbformat": 4,
 "nbformat_minor": 2
}
