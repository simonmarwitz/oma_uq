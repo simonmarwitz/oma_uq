{
 "cells": [
  {
   "cell_type": "code",
   "execution_count": 8,
   "metadata": {},
   "outputs": [],
   "source": [
    "import sys\n",
    "import time\n",
    "import os\n",
    "from ansys_corba import CORBA\n",
    "import subprocess\n",
    "with open('/vegas/scratch/womo1998/modal_uq/aaS_MapdlId.txt') as f:\n",
    "    key = f.read()\n",
    "\n",
    "# create server\n",
    "orb = CORBA.ORB_init()\n",
    "mapdl = orb.string_to_object(key)"
   ]
  },
  {
   "cell_type": "code",
   "execution_count": 9,
   "metadata": {},
   "outputs": [
    {
     "ename": "TRANSIENT",
     "evalue": "CORBA.TRANSIENT(omniORB.TRANSIENT_ConnectFailed, CORBA.COMPLETED_NO)",
     "output_type": "error",
     "traceback": [
      "\u001b[0;31m---------------------------------------------------------------------------\u001b[0m",
      "\u001b[0;31mTRANSIENT\u001b[0m                                 Traceback (most recent call last)",
      "\u001b[0;32m<ipython-input-9-44727da46193>\u001b[0m in \u001b[0;36m<module>\u001b[0;34m()\u001b[0m\n\u001b[1;32m      1\u001b[0m \u001b[0;31m# run simple commands to demonstrate this works\u001b[0m\u001b[0;34m\u001b[0m\u001b[0;34m\u001b[0m\u001b[0m\n\u001b[0;32m----> 2\u001b[0;31m \u001b[0mmapdl\u001b[0m\u001b[0;34m.\u001b[0m\u001b[0mexecuteCommand\u001b[0m\u001b[0;34m(\u001b[0m\u001b[0;34m'/prep7'\u001b[0m\u001b[0;34m)\u001b[0m\u001b[0;34m\u001b[0m\u001b[0m\n\u001b[0m\u001b[1;32m      3\u001b[0m \u001b[0mout\u001b[0m \u001b[0;34m=\u001b[0m \u001b[0mmapdl\u001b[0m\u001b[0;34m.\u001b[0m\u001b[0mexecuteCommandToString\u001b[0m\u001b[0;34m(\u001b[0m\u001b[0;34m'cylind, 2, , , 2, 0, 90'\u001b[0m\u001b[0;34m)\u001b[0m\u001b[0;34m\u001b[0m\u001b[0m\n\u001b[1;32m      4\u001b[0m \u001b[0mprint\u001b[0m\u001b[0;34m(\u001b[0m\u001b[0mout\u001b[0m\u001b[0;34m.\u001b[0m\u001b[0mreplace\u001b[0m\u001b[0;34m(\u001b[0m\u001b[0;34m'\\\\n'\u001b[0m\u001b[0;34m,\u001b[0m \u001b[0;34m'\\n'\u001b[0m\u001b[0;34m)\u001b[0m\u001b[0;34m)\u001b[0m\u001b[0;34m\u001b[0m\u001b[0m\n\u001b[1;32m      5\u001b[0m \u001b[0mmapdl\u001b[0m\u001b[0;34m.\u001b[0m\u001b[0mexecuteCommand\u001b[0m\u001b[0;34m(\u001b[0m\u001b[0;34m'FINISH'\u001b[0m\u001b[0;34m)\u001b[0m\u001b[0;34m\u001b[0m\u001b[0m\n",
      "\u001b[0;32m/vegas/users/staff/womo1998/.local/lib/python3.6/site-packages/ansys_corba/ICoMapdlUnit_idl.py\u001b[0m in \u001b[0;36mexecuteCommand\u001b[0;34m(self, *args)\u001b[0m\n\u001b[1;32m    201\u001b[0m \u001b[0;34m\u001b[0m\u001b[0m\n\u001b[1;32m    202\u001b[0m     \u001b[0;32mdef\u001b[0m \u001b[0mexecuteCommand\u001b[0m\u001b[0;34m(\u001b[0m\u001b[0mself\u001b[0m\u001b[0;34m,\u001b[0m \u001b[0;34m*\u001b[0m\u001b[0margs\u001b[0m\u001b[0;34m)\u001b[0m\u001b[0;34m:\u001b[0m\u001b[0;34m\u001b[0m\u001b[0m\n\u001b[0;32m--> 203\u001b[0;31m         \u001b[0;32mreturn\u001b[0m \u001b[0mself\u001b[0m\u001b[0;34m.\u001b[0m\u001b[0m_obj\u001b[0m\u001b[0;34m.\u001b[0m\u001b[0minvoke\u001b[0m\u001b[0;34m(\u001b[0m\u001b[0;34m\"executeCommand\"\u001b[0m\u001b[0;34m,\u001b[0m \u001b[0m_0_AAS_CORBA\u001b[0m\u001b[0;34m.\u001b[0m\u001b[0mMAPDL\u001b[0m\u001b[0;34m.\u001b[0m\u001b[0mSolvers\u001b[0m\u001b[0;34m.\u001b[0m\u001b[0mICoMapdlUnit\u001b[0m\u001b[0;34m.\u001b[0m\u001b[0m_d_executeCommand\u001b[0m\u001b[0;34m,\u001b[0m \u001b[0margs\u001b[0m\u001b[0;34m)\u001b[0m\u001b[0;34m\u001b[0m\u001b[0m\n\u001b[0m\u001b[1;32m    204\u001b[0m \u001b[0;34m\u001b[0m\u001b[0m\n\u001b[1;32m    205\u001b[0m     \u001b[0;32mdef\u001b[0m \u001b[0mexecuteCommandToString\u001b[0m\u001b[0;34m(\u001b[0m\u001b[0mself\u001b[0m\u001b[0;34m,\u001b[0m \u001b[0;34m*\u001b[0m\u001b[0margs\u001b[0m\u001b[0;34m)\u001b[0m\u001b[0;34m:\u001b[0m\u001b[0;34m\u001b[0m\u001b[0m\n",
      "\u001b[0;31mTRANSIENT\u001b[0m: CORBA.TRANSIENT(omniORB.TRANSIENT_ConnectFailed, CORBA.COMPLETED_NO)"
     ]
    }
   ],
   "source": [
    "# run simple commands to demonstrate this works\n",
    "mapdl.executeCommand('/prep7')\n",
    "out = mapdl.executeCommandToString('cylind, 2, , , 2, 0, 90')\n",
    "print(out.replace('\\\\n', '\\n'))\n",
    "mapdl.executeCommand('FINISH')\n",
    "mapdl.getComponentName()"
   ]
  },
  {
   "cell_type": "code",
   "execution_count": 7,
   "metadata": {},
   "outputs": [],
   "source": [
    "mapdl.terminate()"
   ]
  },
  {
   "cell_type": "code",
   "execution_count": 26,
   "metadata": {
    "scrolled": false
   },
   "outputs": [],
   "source": [
    "import pstats\n",
    "p = pstats.Stats('/vegas/users/staff/womo1998/restats')\n"
   ]
  },
  {
   "cell_type": "code",
   "execution_count": 33,
   "metadata": {},
   "outputs": [
    {
     "name": "stdout",
     "output_type": "stream",
     "text": [
      "Mon Oct  5 09:54:28 2020    /vegas/users/staff/womo1998/restats\n",
      "\n",
      "         1499676 function calls (1470875 primitive calls) in 8.165 seconds\n",
      "\n",
      "   Ordered by: line number\n",
      "   List reduced from 8789 to 1 due to restriction <'built-in method builtins.__import__'>\n",
      "\n",
      "   ncalls  tottime  percall  cumtime  percall filename:lineno(function)\n",
      "  821/162    0.003    0.000    5.631    0.035 {built-in method builtins.__import__}\n",
      "\n",
      "\n"
     ]
    },
    {
     "data": {
      "text/plain": [
       "<pstats.Stats at 0x7f81789e7f60>"
      ]
     },
     "execution_count": 33,
     "metadata": {},
     "output_type": "execute_result"
    }
   ],
   "source": [
    "p.sort_stats('line').print_stats('built-in method builtins.__import__')"
   ]
  },
  {
   "cell_type": "code",
   "execution_count": 35,
   "metadata": {},
   "outputs": [
    {
     "name": "stdout",
     "output_type": "stream",
     "text": [
      "   Ordered by: line number\n",
      "   List reduced from 8789 to 1 due to restriction <'built-in method builtins.__import__'>\n",
      "\n",
      "Function                               called...\n",
      "                                           ncalls  tottime  cumtime\n",
      "{built-in method builtins.__import__}  ->     346    0.001    0.004  <frozen importlib._bootstrap>:194(_lock_unlock_module)\n",
      "                                          513/154    0.005    5.629  <frozen importlib._bootstrap>:966(_find_and_load)\n",
      "                                              289    0.000    0.001  <frozen importlib._bootstrap>:997(_handle_fromlist)\n",
      "\n",
      "\n"
     ]
    },
    {
     "data": {
      "text/plain": [
       "<pstats.Stats at 0x7f81789e7f60>"
      ]
     },
     "execution_count": 35,
     "metadata": {},
     "output_type": "execute_result"
    }
   ],
   "source": [
    "p.print_callees('built-in method builtins.__import__')"
   ]
  },
  {
   "cell_type": "code",
   "execution_count": null,
   "metadata": {},
   "outputs": [],
   "source": []
  }
 ],
 "metadata": {
  "kernelspec": {
   "display_name": "Python 3",
   "language": "python",
   "name": "python3"
  },
  "language_info": {
   "codemirror_mode": {
    "name": "ipython",
    "version": 3
   },
   "file_extension": ".py",
   "mimetype": "text/x-python",
   "name": "python",
   "nbconvert_exporter": "python",
   "pygments_lexer": "ipython3",
   "version": "3.6.5"
  }
 },
 "nbformat": 4,
 "nbformat_minor": 2
}
